{
 "cells": [
  {
   "cell_type": "markdown",
   "metadata": {},
   "source": [
    "# 함수(function)"
   ]
  },
  {
   "cell_type": "markdown",
   "metadata": {},
   "source": [
    "<center>\n",
    "    <img src=\"./images/03/func.png\", alt=\"func.png\">\n",
    "</center>"
   ]
  },
  {
   "cell_type": "code",
   "execution_count": null,
   "metadata": {},
   "outputs": [],
   "source": [
    "기능 : 요약- 복잡한 세상을 요약, 수단으로서 함수가 활용됨"
   ]
  },
  {
   "cell_type": "markdown",
   "metadata": {},
   "source": [
    "## 들어가기전에\n",
    "\n",
    "> 직사각형의 둘레와 면적을 구하는 코드를 작성해주세요.\n",
    "\n",
    "```python\n",
    "height = 30\n",
    "width = 20\n",
    "```\n",
    "\n",
    "---\n",
    "```\n",
    "예시 출력)\n",
    "직사각형 둘레: 100, 면적: 600입니다.\n",
    "```"
   ]
  },
  {
   "cell_type": "code",
   "execution_count": null,
   "metadata": {},
   "outputs": [],
   "source": [
    "height = 30\n",
    "width = 20\n",
    "# 아래에 코드를 작성하세요."
   ]
  },
  {
   "cell_type": "code",
   "execution_count": null,
   "metadata": {},
   "outputs": [],
   "source": [
    "area = width * height\n",
    "perimeter = 2 * (width + height)\n",
    "print(f'직사각형 둘레: {perimeter}, 면적: {area}입니다.')"
   ]
  },
  {
   "cell_type": "markdown",
   "metadata": {},
   "source": [
    "* 앞서 작성한 코드에서 매번 사각형의 둘레와 면적을 구하기 위해서는 변수에 값을 바꾸거나 코드를 복사 붙여넣기 해야합니다.\n",
    "* 코드가 많아질수록 문제가 발생할 확률이 높아지며, 유지 보수하기도 힘들어진다."
   ]
  },
  {
   "cell_type": "markdown",
   "metadata": {},
   "source": [
    "<center>\n",
    "    <img src=\"./images/03/emc2.png\", alt=\"programming principle\">\n",
    "</center>"
   ]
  },
  {
   "cell_type": "markdown",
   "metadata": {},
   "source": [
    "<center>\n",
    "    <img src=\"./images/03/principle.png\", alt=\"programming principle\">\n",
    "</center>"
   ]
  },
  {
   "cell_type": "markdown",
   "metadata": {},
   "source": [
    "## 함수의 선언과 호출\n",
    "\n",
    "```python\n",
    "def func(parameter1, parameter2):\n",
    "    code line1\n",
    "    code line2\n",
    "    return value\n",
    "```\n",
    "\n",
    "* 함수 선언은 `def`로 시작하여 `:`으로 끝나고, 다음은 `4spaces 들여쓰기`로 코드 블록을 만듭니다.\n",
    "\n",
    "* 함수는 `매개변수(parameter)`를 넘겨줄 수도 있습니다.\n",
    "\n",
    "* 함수는 동작후에 `return`을 통해 결과값을 전달 할 수도 있습니다. (`return` 값이 없으면, None을 반환합니다.)\n",
    "\n",
    "* 함수는 호출을 `func(val1, val2)`와 같이 합니다.\n",
    "\n"
   ]
  },
  {
   "cell_type": "code",
   "execution_count": null,
   "metadata": {},
   "outputs": [],
   "source": [
    "# 위의 사각형 코드를 함수로 아래에 작성해보세요"
   ]
  },
  {
   "cell_type": "code",
   "execution_count": null,
   "metadata": {},
   "outputs": [],
   "source": [
    "def rectangle(width, height):\n",
    "    area = width * height\n",
    "    perimeter = 2 * (width + height)\n",
    "    print(f'직사각형 둘레: {perimeter}, 면적: {area}입니다.')\n",
    "    \n",
    "rectangle(30, 20)\n",
    "rectangle(50, 70)"
   ]
  },
  {
   "cell_type": "markdown",
   "metadata": {},
   "source": [
    "<center>\n",
    "    <img src=\"./images/03/func_des.png\", alt=\"function descrpition\">\n",
    "</center>"
   ]
  },
  {
   "cell_type": "markdown",
   "metadata": {},
   "source": [
    "<center>\n",
    "    <img src=\"./images/03/function_ex.png\", alt=\"function_example\">\n",
    "</center>"
   ]
  },
  {
   "cell_type": "code",
   "execution_count": null,
   "metadata": {},
   "outputs": [],
   "source": [
    "# 우리가 활용하는 print문도 파이썬에 지정된 함수입니다. \n",
    "# 아래에서 'hi'는 parameter이고 출력을 하게 됩니다.\n",
    "print('hi')"
   ]
  },
  {
   "cell_type": "markdown",
   "metadata": {},
   "source": [
    "<center>\n",
    "    <img src=\"./images/03/built_in.png\", alt=\"built_in\">\n",
    "</center>\n",
    "\n",
    "[출처: python 공식문서](https://docs.python.org/3/library/functions.html)"
   ]
  },
  {
   "cell_type": "code",
   "execution_count": null,
   "metadata": {},
   "outputs": [],
   "source": [
    "# 내장함수 목록을 직접 볼 수도 있습니다.\n",
    "dir(__builtins__)"
   ]
  },
  {
   "cell_type": "markdown",
   "metadata": {},
   "source": [
    "## 함수를 만들어봅시다.\n",
    "\n",
    "> 아래의 코드와 동일한 `my_max`함수를 만들어주세요.\n",
    ">\n",
    "> 정수를 두개 받아서, 큰 값을 출력합니다. \n",
    "\n",
    "```python\n",
    "max(1, 5)\n",
    "```\n",
    "---\n",
    "```\n",
    "예상 출력)\n",
    "5가 더 큽니다\n",
    "```\n"
   ]
  },
  {
   "cell_type": "code",
   "execution_count": null,
   "metadata": {},
   "outputs": [],
   "source": [
    "max(1,5)"
   ]
  },
  {
   "cell_type": "code",
   "execution_count": null,
   "metadata": {},
   "outputs": [],
   "source": [
    "def my_max(a, b):\n",
    "    # 여기에 my_max 함수를 만들어주세요.\n",
    "    pass\n",
    "    \n",
    "my_max(1, 5)"
   ]
  },
  {
   "cell_type": "code",
   "execution_count": null,
   "metadata": {},
   "outputs": [],
   "source": [
    "def my_max(a, b):\n",
    "    if a > b:\n",
    "        print(f\"{a}가 더 큽니다\") \n",
    "    else:\n",
    "        print(f\"{b}가 더 큽니다\")\n",
    "my_max(1, 5)\n"
   ]
  },
  {
   "cell_type": "markdown",
   "metadata": {},
   "source": [
    "# 함수의 return\n",
    "\n",
    "앞서 설명한 것과 마찬가지로 함수는 반환되는 값이 있으며, 이는 어떠한 종류의 객체여도 상관없습니다. \n",
    " \n",
    "단, **오직 한 개의 객체만 반환됩니다.**\n",
    "\n",
    "함수가 return 되거나 종료되면, 함수를 호출한 곳으로 돌아갑니다."
   ]
  },
  {
   "cell_type": "markdown",
   "metadata": {},
   "source": [
    "# **1시험에 나오는것!! ##$$ 그 중에 큰 것을 반환한다**"
   ]
  },
  {
   "cell_type": "markdown",
   "metadata": {},
   "source": [
    "안에서 쓰게 될 때는 argument라고도 하고.\n",
    "위치 인수 : 인수들의 종류를 아는 것도 중요하다.\n",
    "인수의 위치로 판단하게 된다.\n",
    "파라미터에 대한 개념이 잘 안선다면..\n",
    "r, h라는 값으로 여기 들어오는 값을 받을 것이다.\n",
    "5는 r의 위치 2는 h의 위치에 들어갈 것 : \n",
    "어떤 값이 대입 될지는 함수 argument의 위치로 결정된다.\n",
    "\n",
    "2개만 쓸 때는 상관없지만\n",
    "여러개의 인수를 받고, 인수의 숫자가 맞지 않을 때 문제가 된다.\n",
    "\n",
    "들어올 수도 있고, 안 들어올 수도 있고 (안들어오면 p1그대로 쓰고, 들어오면 p1=v1으로 바꿔 쓴다.)"
   ]
  },
  {
   "cell_type": "markdown",
   "metadata": {},
   "source": [
    "## 함수를 정의하고 값을 반환해봅시다.\n",
    "\n",
    "> 함수는 모든 객체를 리턴할 수 있습니다. \n",
    "> \n",
    "> 리스트 두개를 받아 각각 더한 결과를 비교하여 값이 큰 리스트를 반환합니다.\n",
    "\n",
    "```python\n",
    "my_list_max([10, 3], [5, 9])\n",
    "```\n",
    "---\n",
    "```\n",
    "예상 출력)\n",
    "[5, 9]\n",
    "```\n"
   ]
  },
  {
   "cell_type": "code",
   "execution_count": null,
   "metadata": {},
   "outputs": [],
   "source": [
    "# 여기에 my_list_max 함수를 만들어주세요.\n",
    "def my_list_max(a, b):\n",
    "    pass\n",
    "my_list_max([10, 3], [5, 9])"
   ]
  },
  {
   "cell_type": "code",
   "execution_count": null,
   "metadata": {},
   "outputs": [],
   "source": [
    "def my_list_max(a, b):\n",
    "    if sum(a) > sum(b):\n",
    "        return a\n",
    "    else:\n",
    "        return b\n",
    "my_list_max([10, 3], [5, 9])"
   ]
  },
  {
   "cell_type": "markdown",
   "metadata": {},
   "source": [
    "# 함수의 인수\n",
    "\n",
    "함수는 `인자(parameter)`를 넘겨줄 수 있습니다."
   ]
  },
  {
   "cell_type": "markdown",
   "metadata": {},
   "source": [
    "## 위치 인수\n",
    "\n",
    "함수는 기본적으로 인수를 위치로 판단합니다."
   ]
  },
  {
   "cell_type": "code",
   "execution_count": null,
   "metadata": {},
   "outputs": [],
   "source": [
    "# 알고 있는 수학 공식의 함수를 하나만 만들어보세요."
   ]
  },
  {
   "cell_type": "code",
   "execution_count": null,
   "metadata": {},
   "outputs": [],
   "source": [
    "def cylinder(r, h):\n",
    "    return r**2 * h * 3.14\n",
    "\n",
    "print(cylinder(5,2))\n",
    "print(cylinder(2,5))\n",
    "# 순서를 바꾸면 다른 값이 나온다"
   ]
  },
  {
   "cell_type": "markdown",
   "metadata": {},
   "source": [
    "<center>\n",
    "    <img src=\"./images/03/func_ex_01.png\", alt=\"function example 02\">\n",
    "</center>"
   ]
  },
  {
   "cell_type": "markdown",
   "metadata": {},
   "source": [
    "## 기본 값(Default Argument Values)\n",
    "\n",
    "함수가 호출될 때, 인자를 지정하지 않아도 기본 값을 설정할 수 있습니다. \n",
    "\n",
    "**활용법**\n",
    "```python\n",
    "def func(p1=v1):\n",
    "    return p1\n",
    "```"
   ]
  },
  {
   "cell_type": "code",
   "execution_count": null,
   "metadata": {},
   "outputs": [],
   "source": [
    "# 이름을 받아서 다음과 같이 인사하는 함수를 만들어보세요. \n",
    "# \"길동, 안녕?\"\n",
    "# 이름이 없으면 \"익명, 안녕?\" 으로 출력해주세요."
   ]
  },
  {
   "cell_type": "code",
   "execution_count": null,
   "metadata": {},
   "outputs": [],
   "source": [
    "def greeting(name='익명'):\n",
    "    print(f'{name}, 안녕?')\n",
    "\n",
    "greeting()\n",
    "greeting('철수')"
   ]
  },
  {
   "cell_type": "markdown",
   "metadata": {},
   "source": [
    "* 기본 인자 값이 설정되어 있더라도 기존의 함수와 동일하게 호출 가능합니다.\n",
    "<center>\n",
    "    <img src=\"./images/03/func_ex_02.png\", alt=\"function example 02\">\n",
    "</center>"
   ]
  },
  {
   "cell_type": "markdown",
   "metadata": {},
   "source": [
    "* 호출시 인자가 없으면 기본 인자 값이 활용됩니다.\n",
    "<center>\n",
    "    <img src=\"./images/03/func_ex_03.png\", alt=\"function example 03\">\n",
    "</center>"
   ]
  },
  {
   "cell_type": "markdown",
   "metadata": {},
   "source": [
    "* 단, 기본 매개변수 이후에 기본 값이 없는 매개변수를 사용할 수는 없습니다."
   ]
  },
  {
   "cell_type": "code",
   "execution_count": null,
   "metadata": {},
   "outputs": [],
   "source": [
    "# 오류를 확인해봅시다."
   ]
  },
  {
   "cell_type": "code",
   "execution_count": null,
   "metadata": {},
   "outputs": [],
   "source": [
    "def greeting(name='john', age):\n",
    "    print(f'{name}은 {age}살입니다.')"
   ]
  },
  {
   "cell_type": "code",
   "execution_count": null,
   "metadata": {},
   "outputs": [],
   "source": [
    "# 수정해 봅시다."
   ]
  },
  {
   "cell_type": "code",
   "execution_count": 2,
   "metadata": {},
   "outputs": [
    {
     "ename": "SyntaxError",
     "evalue": "non-default argument follows default argument (<ipython-input-2-9670e2d8e60d>, line 1)",
     "output_type": "error",
     "traceback": [
      "\u001b[1;36m  File \u001b[1;32m\"<ipython-input-2-9670e2d8e60d>\"\u001b[1;36m, line \u001b[1;32m1\u001b[0m\n\u001b[1;33m    def greeting( name='john',age):\u001b[0m\n\u001b[1;37m                 ^\u001b[0m\n\u001b[1;31mSyntaxError\u001b[0m\u001b[1;31m:\u001b[0m non-default argument follows default argument\n"
     ]
    }
   ],
   "source": [
    "def greeting( name='john',age): # 변수를 파라미터로 받자마자 초기화 해주려면 오른쪽에 몰아줄 것!\n",
    "    print(f'{name}은 {age}살입니다.')\n",
    "    \n",
    "greeting(1)\n",
    "greeting(2, 'json')"
   ]
  },
  {
   "cell_type": "code",
   "execution_count": 1,
   "metadata": {},
   "outputs": [
    {
     "name": "stdout",
     "output_type": "stream",
     "text": [
      "john은 1살입니다.\n",
      "json은 2살입니다.\n"
     ]
    }
   ],
   "source": [
    "def greeting(age, name='john'):\n",
    "    print(f'{name}은 {age}살입니다.')\n",
    "    \n",
    "greeting(1)\n",
    "greeting(2, 'json')"
   ]
  },
  {
   "cell_type": "markdown",
   "metadata": {},
   "source": [
    "## 키워드 인자(Keyword Arguments)\n",
    "\n",
    "키워드 인자는 직접적으로 변수의 이름으로 특정 인자를 전달할 수 있습니다."
   ]
  },
  {
   "cell_type": "code",
   "execution_count": null,
   "metadata": {},
   "outputs": [],
   "source": [
    "# 키워드 인자 예시\n",
    "def greeting(age, name='john'):\n",
    "    print(f'{name}은 {age}살입니다.')"
   ]
  },
  {
   "cell_type": "code",
   "execution_count": null,
   "metadata": {},
   "outputs": [],
   "source": [
    "greeting(name='철수', age=24)\n",
    "greeting(24, name='철수')"
   ]
  },
  {
   "cell_type": "markdown",
   "metadata": {},
   "source": [
    "* 단 아래와 같이 활용할 수는 없습니다. 키워드 인자를 활용한 뒤에 위치 인자를 활용할 수는 없습니다."
   ]
  },
  {
   "cell_type": "code",
   "execution_count": null,
   "metadata": {},
   "outputs": [],
   "source": [
    "greeting(age=24, '철수')"
   ]
  },
  {
   "cell_type": "markdown",
   "metadata": {},
   "source": [
    "우리가 주로 활용하는 `print()` 함수는 [파이썬 표준 라이브러리의 내장함수](https://docs.python.org/ko/3.6/library/functions.html) 중 하나이며, 다음과 같이 구성되어 있다.\n",
    "\n",
    "<br>\n",
    "<br>\n",
    "<center>\n",
    "    <img src=\"./images/03/print.png\", alt=\"print\">\n",
    "</center>"
   ]
  },
  {
   "cell_type": "code",
   "execution_count": null,
   "metadata": {},
   "outputs": [],
   "source": [
    "print('첫번째 문장')\n",
    "print('두번째 문장', end='_')\n",
    "print('세번째 문장', '마지막 문장', sep=\"/\", end=\"끝!\")"
   ]
  },
  {
   "cell_type": "markdown",
   "metadata": {},
   "source": [
    "## 가변 인자 리스트\n",
    "\n",
    "앞서 설명한 `print()`처럼 정해지지 않은 임의의 숫자의 인자를 받기 위해서는 가변인자를 활용합니다. \n",
    "\n",
    "가변인자는 `tuple` 형태로 처리가 되며, `*`로 표현합니다. \n",
    "\n",
    "**활용법**\n",
    "\n",
    "```python\n",
    "def func(*args):\n",
    "```"
   ]
  },
  {
   "cell_type": "code",
   "execution_count": null,
   "metadata": {},
   "outputs": [],
   "source": [
    "# 가변 인자 예시 (print문은 *obejcts를 통해 임의의 숫자의 인자를 모두 처리합니다.)"
   ]
  },
  {
   "cell_type": "code",
   "execution_count": null,
   "metadata": {},
   "outputs": [],
   "source": [
    "print('hi', '안녕', 'Guten Tag', 'gonnichiwa', sep=',')"
   ]
  },
  {
   "cell_type": "code",
   "execution_count": null,
   "metadata": {},
   "outputs": [],
   "source": [
    "# args는 tuple!"
   ]
  },
  {
   "cell_type": "code",
   "execution_count": 94,
   "metadata": {},
   "outputs": [
    {
     "name": "stdout",
     "output_type": "stream",
     "text": [
      "<class 'tuple'>\n",
      "(1, 2)\n"
     ]
    }
   ],
   "source": [
    "def my_func(*args):\n",
    "    print(type(args))\n",
    "    print(args)\n",
    "my_func(1, 2)"
   ]
  },
  {
   "cell_type": "markdown",
   "metadata": {},
   "source": [
    "### 가변인자 리스트를 사용해봅시다.\n",
    "\n",
    "> 정수를 여러 개 받아서 가장 큰 값을 반환(return)하는 `my_max()`을 만들어주세요.\n",
    "\n",
    "```python\n",
    "my_max(10, 20, 30, 50)\n",
    "```\n",
    "---\n",
    "```\n",
    "예시출력)\n",
    "50\n",
    "```"
   ]
  },
  {
   "cell_type": "code",
   "execution_count": null,
   "metadata": {},
   "outputs": [],
   "source": [
    "max(1, 2, 3, 4)"
   ]
  },
  {
   "cell_type": "code",
   "execution_count": null,
   "metadata": {},
   "outputs": [],
   "source": [
    "# 아래에 코드를 작성해주세요.\n",
    "def my_max(*args):\n",
    "    pass\n",
    "my_max(-1, -2, -3, -4)"
   ]
  },
  {
   "cell_type": "code",
   "execution_count": null,
   "metadata": {},
   "outputs": [],
   "source": [
    "# 아래에 코드를 작성해주세요.\n",
    "def my_max(*args):\n",
    "    result = 0\n",
    "    for idx, val in enumerate(args):\n",
    "        if idx == 0:\n",
    "            result = val\n",
    "        else:\n",
    "            if val > result:\n",
    "                result = val\n",
    "    return result\n",
    "my_max(-1, -2, -3, -4)"
   ]
  },
  {
   "cell_type": "markdown",
   "metadata": {},
   "source": [
    "## 정의되지 않은 인자들 처리하기\n",
    "\n",
    "정의되지 않은 인자들은 `dict` 형태로 처리가 되며, `**`로 표현합니다. \n",
    "\n",
    "주로 `kwagrs`라는 이름을 사용하며, `**kwargs`를 통해 인자를 받아 처리할 수 있습니다.\n",
    "\n",
    "**활용법**\n",
    "\n",
    "```python\n",
    "def func(**kwargs):\n",
    "```"
   ]
  },
  {
   "cell_type": "markdown",
   "metadata": {},
   "source": [
    "우리가 dictionary를 만들 때 사용할 수 있는 `dict()` 함수는 [파이썬 표준 라이브러리의 내장함수](https://docs.python.org/ko/3.6/library/functions.html) 중 하나이며, 다음과 같이 구성되어 있다.\n",
    "<br>\n",
    "<br>\n",
    "<center>\n",
    "    <img src=\"./images/03/dict.png\", alt=\"dictionary\">\n",
    "</center>"
   ]
  },
  {
   "cell_type": "code",
   "execution_count": null,
   "metadata": {},
   "outputs": [],
   "source": [
    "# 딕셔너리 생성 함수 예시"
   ]
  },
  {
   "cell_type": "code",
   "execution_count": null,
   "metadata": {},
   "outputs": [],
   "source": [
    "hi = dict(한국어='안녕',영어='hi')\n",
    "print(hi)"
   ]
  },
  {
   "cell_type": "markdown",
   "metadata": {},
   "source": [
    "### 정의되지 않은 인자를 처리해봅시다. \n",
    "\n",
    "> `my_dict()` 함수를 만들어 실제로 dictionary 모습으로 출력 함수를 만들어보세요.\n",
    ">\n",
    ">\n",
    "\n",
    "```\n",
    "예시 출력)\n",
    "한국어: 안녕, 영어: hi\n",
    "```"
   ]
  },
  {
   "cell_type": "code",
   "execution_count": null,
   "metadata": {},
   "outputs": [],
   "source": [
    "# 아래에 코드를 작성해주세요.\n",
    "def fake_dict(**kwargs):\n",
    "    pass\n",
    "fake_dict(한국어='안녕', 영어='hi', 독일어='Guten Tag')"
   ]
  },
  {
   "cell_type": "code",
   "execution_count": null,
   "metadata": {},
   "outputs": [],
   "source": [
    "# 아래에 코드를 작성해주세요.\n",
    "def fake_dict(**kwargs):\n",
    "    result = []\n",
    "    for key, value in kwargs.items():\n",
    "        result.append(f'{key}: {value}')\n",
    "    print(', '.join(result))\n",
    "        \n",
    "fake_dict(한국어='안녕', 영어='hi', 독일어='Guten Tag')"
   ]
  },
  {
   "cell_type": "code",
   "execution_count": null,
   "metadata": {},
   "outputs": [],
   "source": [
    "# 사실은 dict()는 출력이 아니라 딕셔너리를 리턴합니다. \n",
    "# 리턴하는 my_fake_dict를 만들어주세요."
   ]
  },
  {
   "cell_type": "code",
   "execution_count": null,
   "metadata": {},
   "outputs": [],
   "source": [
    "def my_fake_dict(**kwargs):\n",
    "    return(kwargs)\n",
    "        \n",
    "my_fake_dict(한국어='안녕', 영어='hi', 독일어='Guten Tag')"
   ]
  },
  {
   "cell_type": "markdown",
   "metadata": {},
   "source": [
    "## dictionary를 인자로 넘기기(unpacking arguments list)\n",
    "\n",
    "`**dict`를 통해 함수에 인자를 넘길 수 있습니다."
   ]
  },
  {
   "cell_type": "code",
   "execution_count": null,
   "metadata": {},
   "outputs": [],
   "source": [
    "# user 검증(유사 회원가입)을 작성해봅시다."
   ]
  },
  {
   "cell_type": "code",
   "execution_count": null,
   "metadata": {},
   "outputs": [],
   "source": [
    "def user(username, password, password_confirmation):\n",
    "    if password == password_confirmation:\n",
    "        print(f'{username}님, 회원가입이 완료되었습니다.')\n",
    "    else:\n",
    "        print('비밀번호와 비밀번호 확인이 일치하지 않습니다.')"
   ]
  },
  {
   "cell_type": "code",
   "execution_count": null,
   "metadata": {},
   "outputs": [],
   "source": [
    "my_account = {\n",
    "    'username': '홍길동',\n",
    "    'password': '1q2w3e4r',\n",
    "    'password_confirmation': '1q2w3e4r'\n",
    "}\n",
    "\n",
    "user(my_account)"
   ]
  },
  {
   "cell_type": "code",
   "execution_count": null,
   "metadata": {},
   "outputs": [],
   "source": [
    "user(**my_account)"
   ]
  },
  {
   "cell_type": "markdown",
   "metadata": {},
   "source": [
    "###  URL 편하게 만들기\n",
    "\n",
    "> url 패턴을 만들어 문자열을 반환하는  `my_url` 함수를 만들어봅시다.\n",
    ">\n",
    "> 영진위에서 제공하는 일별 박스오피스 API 서비스는 다음과 같은 방식으로 요청을 받습니다.\n",
    "\n",
    "```\n",
    "기본 요청 URL : http://www.kobis.or.kr/kobisopenapi/webservice/rest/boxoffice/searchDailyBoxOfficeList.json?\n",
    "```\n",
    "\n",
    "* key : 발급받은 키값(abc)\n",
    "* targetDt : yyyymmdd\n",
    "* itemPerPage : 1 ~ 10 **기본 10**\n",
    "\n",
    "\n",
    "```\n",
    "예시)\n",
    "my_url(key='abc', targetDt='yyyymmdd')\n",
    "\n",
    "api = {\n",
    "    'key': 'abc',\n",
    "    'targetDt': 'yyyymmdd'\n",
    "}\n",
    "my_url(**api)\n",
    "\n",
    "예시 출력)\n",
    "'http://www.kobis.or.kr/kobisopenapi/webservice/rest/boxoffice/searchDailyBoxOfficeList.json?itemPerPage=10&key=abc&targetDt=yyyymmdd&'\n",
    "```"
   ]
  },
  {
   "cell_type": "code",
   "execution_count": null,
   "metadata": {},
   "outputs": [],
   "source": []
  },
  {
   "cell_type": "markdown",
   "metadata": {},
   "source": [
    "# workshop"
   ]
  },
  {
   "cell_type": "code",
   "execution_count": 1,
   "metadata": {},
   "outputs": [],
   "source": [
    "# 여기에 코드를 작성해주세요.\n",
    "student ={\n",
    "    'python':80,\n",
    "    'algorithm':99,\n",
    "    'django':89,\n",
    "    'flask':83,\n",
    "}"
   ]
  },
  {
   "cell_type": "code",
   "execution_count": 25,
   "metadata": {},
   "outputs": [
    {
     "name": "stdout",
     "output_type": "stream",
     "text": [
      "1\n",
      "{'A': 3, 'B': 3, 'O': 3, 'AB': 3}\n"
     ]
    }
   ],
   "source": [
    "blood_types = ['A','B','A','O','AB','AB','O','A','B','O','B','AB']\n",
    "cntA = 0\n",
    "cntB = 0\n",
    "cntO = 0\n",
    "cntAB = 0\n",
    "for i in blood_types:\n",
    "    if i == 'A':\n",
    "        cntA += 1 \n",
    "    elif i == 'B':\n",
    "        cntB += 1\n",
    "    elif i == 'O':\n",
    "        cntO += 1\n",
    "    elif i == 'AB':\n",
    "        cntAB += 1\n",
    "    else:\n",
    "        print('잘못 들어왔습니다.')\n",
    "\n",
    "# fakeDict = []\n",
    "# for (i,num) in [['A',cntA],['B',cntB],['O',cntO],['AB',cntAB]]:\n",
    "#     (fakeDict.append( f'\\'{i}\\':{num}')\n",
    "# fakeDict = dict(fakeDict)\n",
    "# fakeDict\n",
    "\n",
    "# for bt in blood_types:\n",
    "# fakeDict = {}    \n",
    "# fakeDict = {f'\\'{i}\\':{num}'}\n",
    "    \n",
    "\n",
    "# fakeDict\n",
    "\n",
    "## 1번째\n",
    "# for bt in blood_types:\n",
    "#     by_dict[bt] += 1\n",
    "# print(bt_dict)\n",
    "\n",
    "blood_dict2 = {}\n",
    "# blood_dict = dict()\n",
    "for blood in blood_types:\n",
    "#     if blood_dict2.get(blood, 1): # 가져와서 그 값이 True 이면(빈 값이 아니면)\n",
    "    if blood_dict2.get(blood): # 이 값이 0이면 1을 넣고 0이 아니면 +1 한다.\n",
    "        blood_dict2[blood] += 1\n",
    "    else:\n",
    "        blood_dict2[blood] = 1\n",
    "    \n",
    "print(blood_dict2.get('RH-', 1)) ##$$ get 안에 ',1' 은 무슨 용도?\n",
    "print(blood_dict2)"
   ]
  },
  {
   "cell_type": "code",
   "execution_count": 40,
   "metadata": {},
   "outputs": [
    {
     "data": {
      "text/plain": [
       "{'이름1': '이한얼'}"
      ]
     },
     "execution_count": 40,
     "metadata": {},
     "output_type": "execute_result"
    }
   ],
   "source": [
    "dict1 = { '이름1' : '이한얼'}\n",
    "dict2 = { '이름2' : '이건희'}\n",
    "\n",
    "dict1"
   ]
  },
  {
   "cell_type": "code",
   "execution_count": 27,
   "metadata": {},
   "outputs": [
    {
     "name": "stdout",
     "output_type": "stream",
     "text": [
      "Counter({'A': 3, 'B': 3, 'O': 3, 'AB': 3})\n"
     ]
    }
   ],
   "source": [
    "##$$ ??\n",
    "import collections\n",
    "blood_types_str = 'A B A O AB AB O A B O B AB'\n",
    "blood_types_str.split()\n",
    "print (collections.Counter(blood_types))\n",
    "\n",
    "#  해쉬는 이거 조지는 게 핵심"
   ]
  },
  {
   "cell_type": "code",
   "execution_count": 42,
   "metadata": {},
   "outputs": [
    {
     "name": "stdout",
     "output_type": "stream",
     "text": [
      "<class 'collections.Counter'>\n",
      "Counter({'A': 3, 'B': 3, 'O': 3, 'AB': 3})\n"
     ]
    }
   ],
   "source": [
    "import collections # 내장 함수다\n",
    "blood_types = ['A','B','A','O','AB','AB','O','A','B','O','B','AB']\n",
    "bt = collections.Counter(blood_types)\n",
    "\n",
    "print(type(bt))\n",
    "print(bt)\n",
    "\n",
    "# 경쟁적 problem solving 에 매몰되지 않고, 핵심적인 내용에 집중해서 빠르게 문제 풀기!\n",
    "# 1. 빈도계산 ( 이건 직접 짜는 게 아니라 여기에 맡기면, 실제 문제 본질에 집중할 수 있다. )\n",
    "# 2.\n",
    "\n",
    "\n",
    "# 명세만 8장,  adm 3장\n",
    "# 삼성은 구현 // naver kakao 는 어떤 알고리즘으로 해결하는가? **"
   ]
  },
  {
   "cell_type": "code",
   "execution_count": null,
   "metadata": {},
   "outputs": [],
   "source": []
  },
  {
   "cell_type": "code",
   "execution_count": 28,
   "metadata": {},
   "outputs": [],
   "source": [
    "# homework"
   ]
  },
  {
   "cell_type": "markdown",
   "metadata": {},
   "source": [
    "String List Tuple Range Set Dictionary\n",
    "   m     m    i     m    ?     m"
   ]
  },
  {
   "cell_type": "code",
   "execution_count": 31,
   "metadata": {},
   "outputs": [
    {
     "ename": "SyntaxError",
     "evalue": "invalid syntax (<ipython-input-31-b1b75311f08f>, line 1)",
     "output_type": "error",
     "traceback": [
      "\u001b[1;36m  File \u001b[1;32m\"<ipython-input-31-b1b75311f08f>\"\u001b[1;36m, line \u001b[1;32m1\u001b[0m\n\u001b[1;33m    [i in i in range(51, start=1) if (i%2 == 1) ]\u001b[0m\n\u001b[1;37m                                                ^\u001b[0m\n\u001b[1;31mSyntaxError\u001b[0m\u001b[1;31m:\u001b[0m invalid syntax\n"
     ]
    }
   ],
   "source": [
    "[i in i in range(51, start=1) if (i%2 == 1) ]"
   ]
  },
  {
   "cell_type": "code",
   "execution_count": null,
   "metadata": {},
   "outputs": [],
   "source": [
    "def my_url(itemPerPage=10, **agrs):\n",
    "    base_url = 'http://www.kobis.or.kr/kobisopenapi/webservice/rest/boxoffice/searchDailyBoxOfficeList.json?'\n",
    "    base_url += f'itemPerPage={itemPerPage}&'\n",
    "    for key, value in agrs.items():\n",
    "        base_url += f'{key}={value}&'\n",
    "    return base_url\n",
    "\n",
    "my_url(key='abc', targetDt='yyyymmdd')\n",
    "\n",
    "api = {\n",
    "    'key': '430156241533f1d058c603178cc3ca0e',\n",
    "    'targetDt': '20190620'\n",
    "}\n",
    "my_url(1,**api)"
   ]
  },
  {
   "cell_type": "code",
   "execution_count": null,
   "metadata": {},
   "outputs": [],
   "source": []
  },
  {
   "cell_type": "markdown",
   "metadata": {},
   "source": [
    "### URL 검증하기\n",
    "\n",
    "> 이제 우리는 만들어진 요청 보내기전에 URL을 검증해야합니다. \n",
    ">\n",
    "> 앞선 설명을 참고하여 검증 로직을 구현하고 문자열을 반환하세요.\n",
    "\n",
    "```\n",
    "> 아래의 두가지 상황만 만들도록 하겠습니다. <\n",
    "\n",
    "key, targetDt가 없으면, '필수 요청변수가 누락되었습니다.'\n",
    "\n",
    "itemPerPage의 범위가 1~10을 넘어가면, '1~10까지의 값을 넣어주세요.'\n",
    "```"
   ]
  },
  {
   "cell_type": "code",
   "execution_count": 72,
   "metadata": {},
   "outputs": [
    {
     "data": {
      "text/plain": [
       "'http://www.kobis.or.kr/kobisopenapi/webservice/rest/boxoffice/searchDailyBoxOfficeList.json?key=7af25e7684be4c3df64a0dd20a0d5282&targetDt=20190716'"
      ]
     },
     "execution_count": 72,
     "metadata": {},
     "output_type": "execute_result"
    }
   ],
   "source": [
    "# 여기에 코드를 작성해주세요\n",
    "from datetime import datetime, timedelta\n",
    "\n",
    "# yesterday = date.today() - timedelta(1)\n",
    "def my_url(key='', targetDt = (datetime.today() - timedelta(1)).strftime('%Y%m%d') ): # targetDt = None : 디폴트로 변수 하나를 만들어둔다.\n",
    "    if ( key == 0 or targetDt == 0 ):\n",
    "        print('필수 요청 변수가 누락되었습니다.')\n",
    "        return None\n",
    "    else : \n",
    "#         url = base+key+'&targetDt='+targetDt\n",
    "        base = 'http://www.kobis.or.kr/kobisopenapi/webservice/rest/boxoffice/searchDailyBoxOfficeList.json'\n",
    "        result = f'{base}?key={key}&targetDt={targetDt}'\n",
    "        return result \n",
    "# key = '7af25e7684be4c3df64a0dd20a0d5282'\n",
    "# targetDt = '20190717'\n",
    "# my_url(key, targetDt)\n",
    "    \n",
    "api = {\n",
    "    'key' : '7af25e7684be4c3df64a0dd20a0d5282',\n",
    "    'targetDt' : '20190717'\n",
    "}\n",
    "\n",
    "my_url(**api)\n",
    "my_url(key = '7af25e7684be4c3df64a0dd20a0d5282', targetDt = '20190717')\n",
    "my_url('7af25e7684be4c3df64a0dd20a0d5282') # 어제 영진위 데이터(박스오피스를 조회하는 url을 만들어줌)\n"
   ]
  },
  {
   "cell_type": "code",
   "execution_count": 57,
   "metadata": {},
   "outputs": [
    {
     "data": {
      "text/plain": [
       "'20190717'"
      ]
     },
     "execution_count": 57,
     "metadata": {},
     "output_type": "execute_result"
    }
   ],
   "source": [
    "from datetime import datetime\n",
    "datetime.today()\n",
    "# yyyymmdd\n",
    "\n",
    "datetime.today().strftime('%Y%m%d')"
   ]
  },
  {
   "cell_type": "code",
   "execution_count": 79,
   "metadata": {},
   "outputs": [
    {
     "ename": "SyntaxError",
     "evalue": "invalid syntax (<ipython-input-79-05588407ff2d>, line 2)",
     "output_type": "error",
     "traceback": [
      "\u001b[1;36m  File \u001b[1;32m\"<ipython-input-79-05588407ff2d>\"\u001b[1;36m, line \u001b[1;32m2\u001b[0m\n\u001b[1;33m    None이 없을 때 생기는 문제점? : 하나가 없다고 뜨는 오류가 생길 수 있다!\u001b[0m\n\u001b[1;37m           ^\u001b[0m\n\u001b[1;31mSyntaxError\u001b[0m\u001b[1;31m:\u001b[0m invalid syntax\n"
     ]
    }
   ],
   "source": [
    "(date.today() - timedelta(1))\n",
    "None이 없을 때 생기는 문제점? : 하나가 없다고 뜨는 오류가 생길 수 있다!\n",
    "\n",
    "    # 여기에 코드를 작성해주세요\n",
    "\n",
    "# 7af25e7684be4c3df64a0dd20a0d5282\n",
    "# http://www.kobis.or.kr/kobisopenapi/webservice/rest/boxoffice/searchDailyBoxOfficeList.json?key=7af25e7684be4c3df64a0dd20a0d5282&targetDt\n",
    "# key\n",
    "# targetDt\n",
    "import datetime\n",
    "\n",
    "base = 'http://www.kobis.or.kr/kobisopenapi/webservice/rest/boxoffice/searchDailyBoxOfficeList.json?key='\n",
    "# base+key+'&targetDt='+targetDt\n",
    "# key, targetDt가 들어가면,\n",
    "# .json으로 끝나고 물음표 키는 :~~ &\n",
    "\n",
    "# yesterday = date.today() - timedelta(1)\n",
    "def my_url(key='', targetDt = (datetime.datetime.today() - datetime.timedelta(1)).strftime('%Y%m%d') ): # targetDt = None : 디폴트로 변수 하나를 만들어둔다.\n",
    "    if ( key == 0 or targetDt == 0 ):\n",
    "        print('필수 요청 변수가 누락되었습니다.')\n",
    "        return None\n",
    "    else : \n",
    "#         url = base+key+'&targetDt='+targetDt\n",
    "        base = 'http://www.kobis.or.kr/kobisopenapi/webservice/rest/boxoffice/searchDailyBoxOfficeList.json'\n",
    "        result = f'{base}?key={key}&targetDt={targetDt}'\n",
    "        return result \n",
    "# key = '7af25e7684be4c3df64a0dd20a0d5282'\n",
    "# targetDt = '20190717'\n",
    "# my_url(key, targetDt)\n",
    "my_url(key = '7af25e7684be4c3df64a0dd20a0d5282', targetDt = '20190717')\n",
    "my_url('7af25e7684be4c3df64a0dd20a0d5282') # 어제 영진위 데이터(박스오피스를 조회하는 url을 만들어줌)\n",
    "\n",
    "# api = {\n",
    "#     'key' : '7af25e7684be4c3df64a0dd20a0d5282',\n",
    "#     'targetDt' : '20190717'\n",
    "# }\n",
    "\n",
    "api = {\n",
    "    'key' : '7af25e7684be4c3df64a0dd20a0d5282',\n",
    "}\n",
    "\n",
    "targetDt = input('원하는 날짜 = ')\n",
    "if targetDt:\n",
    "    api['targetDt'] = targetDt\n",
    "    \n",
    "my_url(**api)\n",
    "\n",
    "    "
   ]
  },
  {
   "cell_type": "code",
   "execution_count": 85,
   "metadata": {},
   "outputs": [
    {
     "data": {
      "text/plain": [
       "'http://www.kobis.or.kr/kobisopenapi/webservice/rest/boxoffice/searchDailyBoxOfficeList.json?key=7af25e7684be4c3df64a0dd20a0d5282&targetDt=20190717'"
      ]
     },
     "execution_count": 85,
     "metadata": {},
     "output_type": "execute_result"
    }
   ],
   "source": [
    "# 여기에 코드를 작성해주세요\n",
    "\n",
    "# 7af25e7684be4c3df64a0dd20a0d5282\n",
    "# http://www.kobis.or.kr/kobisopenapi/webservice/rest/boxoffice/searchDailyBoxOfficeList.json?key=7af25e7684be4c3df64a0dd20a0d5282&targetDt\n",
    "# key\n",
    "# targetDt\n",
    "import datetime\n",
    "\n",
    "base = 'http://www.kobis.or.kr/kobisopenapi/webservice/rest/boxoffice/searchDailyBoxOfficeList.json?key='\n",
    "# base+key+'&targetDt='+targetDt\n",
    "\n",
    "# key, targetDt가 들어가면,\n",
    "\n",
    "# .json으로 끝나고 물음표 키는 :~~ &\n",
    "datetime\n",
    "# yesterday = date.today() - timedelta(1)\n",
    "# def my_url(key='', targetDt = (datetime.datetime.today() - datetime.timedelta(1)).strftime('%Y%m%d') ): # targetDt = None : 디폴트로 변수 하나를 만들어둔다.\n",
    "def my_url(key='', targetDt = None ): # <1> 디폴트로 변수 하나를 만들어둔다.: targetDt = None\n",
    "    if targetDt == None: # <2> parameter 값이 들어오지 않으면 (None이면) 어제 날짜를 가져온다.\n",
    "        targetDt = (datetime.datetime.today() - datetime.timedelta(1)).strftime('%Y%m%d')\n",
    "        \n",
    "    if ( key == 0 or targetDt == 0 ):\n",
    "        print('필수 요청 변수가 누락되었습니다.')\n",
    "        return None\n",
    "    else : \n",
    "#         url = base+key+'&targetDt='+targetDt\n",
    "        base = 'http://www.kobis.or.kr/kobisopenapi/webservice/rest/boxoffice/searchDailyBoxOfficeList.json'\n",
    "        result = f'{base}?key={key}&targetDt={targetDt}'\n",
    "        return result \n",
    "# key = '7af25e7684be4c3df64a0dd20a0d5282'\n",
    "# targetDt = '20190717'\n",
    "# my_url(key, targetDt)\n",
    "my_url(key = '7af25e7684be4c3df64a0dd20a0d5282', targetDt = '20190717')\n",
    "# my_url('7af25e7684be4c3df64a0dd20a0d5282') # 어제 영진위 데이터(박스오피스를 조회하는 url을 만들어줌)\n",
    "\n",
    "# api = {\n",
    "#     'key' : '7af25e7684be4c3df64a0dd20a0d5282',\n",
    "#     'targetDt' : '20190717'\n",
    "# }\n",
    "\n",
    "\n",
    "\n",
    "# api = {\n",
    "#     'key' : '7af25e7684be4c3df64a0dd20a0d5282',\n",
    "# }\n",
    "\n",
    "# targetDt = input('원하는 날짜 = ')\n",
    "# if targetDt:\n",
    "#     api['targetDt'] = targetDt\n",
    "    \n",
    "my_url(**api)\n"
   ]
  },
  {
   "cell_type": "code",
   "execution_count": 91,
   "metadata": {},
   "outputs": [
    {
     "name": "stdout",
     "output_type": "stream",
     "text": [
      "날짜로 조회하는 url이 생성되었습니다.\n"
     ]
    },
    {
     "data": {
      "text/plain": [
       "'http://www.kobis.or.kr/kobisopenapi/webservice/rest/boxoffice/searchDailyBoxOfficeList.json?key=7af25e7684be4c3df64a0dd20a0d5282&targetDt=20190812'"
      ]
     },
     "execution_count": 91,
     "metadata": {},
     "output_type": "execute_result"
    }
   ],
   "source": [
    "# 위에서 만든 함수를 쓰는 것!\n",
    "\n",
    "def url_checker(key, targetDt=None):\n",
    "    # 1. key가 없는지 확인!\n",
    "\n",
    "    base = 'http://www.kobis.or.kr/kobisopenapi/webservice/rest/boxoffice/searchDailyBoxOfficeList.json'\n",
    "\n",
    "    if key == None:\n",
    "        return '필수 요청변수가 누락되었습니다.'\n",
    "    else:\n",
    "        if targetDt == None:\n",
    "        # 2. parameter 값이 들어오지 않으면 (None이면) 어제 날짜를 가져온다.\n",
    "        # 'API URL : 생성된 URL. \n",
    "            print('어제 날짜로 조회하는 url이 생성되었습니다.')\n",
    "            targetDt = (datetime.datetime.today() - datetime.timedelta(1)).strftime('%Y%m%d')\n",
    "    \n",
    "        else: # 4. targetDt가 있으면\n",
    "            print('입력한 날짜로 조회하는 url이 생성되었습니다.')\n",
    "        result = f'{base}?key={key}&targetDt={targetDt}'\n",
    "        \n",
    "        return result\n",
    "url_checker('7af25e7684be4c3df64a0dd20a0d5282', targetDt='20190812')"
   ]
  },
  {
   "cell_type": "code",
   "execution_count": 73,
   "metadata": {
    "scrolled": true
   },
   "outputs": [
    {
     "data": {
      "text/plain": [
       "['__add__',\n",
       " '__class__',\n",
       " '__delattr__',\n",
       " '__dir__',\n",
       " '__doc__',\n",
       " '__eq__',\n",
       " '__format__',\n",
       " '__ge__',\n",
       " '__getattribute__',\n",
       " '__gt__',\n",
       " '__hash__',\n",
       " '__init__',\n",
       " '__init_subclass__',\n",
       " '__le__',\n",
       " '__lt__',\n",
       " '__ne__',\n",
       " '__new__',\n",
       " '__radd__',\n",
       " '__reduce__',\n",
       " '__reduce_ex__',\n",
       " '__repr__',\n",
       " '__rsub__',\n",
       " '__setattr__',\n",
       " '__sizeof__',\n",
       " '__str__',\n",
       " '__sub__',\n",
       " '__subclasshook__',\n",
       " 'astimezone',\n",
       " 'combine',\n",
       " 'ctime',\n",
       " 'date',\n",
       " 'day',\n",
       " 'dst',\n",
       " 'fold',\n",
       " 'fromisoformat',\n",
       " 'fromordinal',\n",
       " 'fromtimestamp',\n",
       " 'hour',\n",
       " 'isocalendar',\n",
       " 'isoformat',\n",
       " 'isoweekday',\n",
       " 'max',\n",
       " 'microsecond',\n",
       " 'min',\n",
       " 'minute',\n",
       " 'month',\n",
       " 'now',\n",
       " 'replace',\n",
       " 'resolution',\n",
       " 'second',\n",
       " 'strftime',\n",
       " 'strptime',\n",
       " 'time',\n",
       " 'timestamp',\n",
       " 'timetuple',\n",
       " 'timetz',\n",
       " 'today',\n",
       " 'toordinal',\n",
       " 'tzinfo',\n",
       " 'tzname',\n",
       " 'utcfromtimestamp',\n",
       " 'utcnow',\n",
       " 'utcoffset',\n",
       " 'utctimetuple',\n",
       " 'weekday',\n",
       " 'year']"
      ]
     },
     "execution_count": 73,
     "metadata": {},
     "output_type": "execute_result"
    }
   ],
   "source": [
    "dir(datetime)"
   ]
  },
  {
   "cell_type": "code",
   "execution_count": 75,
   "metadata": {},
   "outputs": [
    {
     "data": {
      "text/plain": [
       "['__call__',\n",
       " '__class__',\n",
       " '__delattr__',\n",
       " '__dir__',\n",
       " '__doc__',\n",
       " '__eq__',\n",
       " '__format__',\n",
       " '__ge__',\n",
       " '__get__',\n",
       " '__getattribute__',\n",
       " '__gt__',\n",
       " '__hash__',\n",
       " '__init__',\n",
       " '__init_subclass__',\n",
       " '__le__',\n",
       " '__lt__',\n",
       " '__name__',\n",
       " '__ne__',\n",
       " '__new__',\n",
       " '__objclass__',\n",
       " '__qualname__',\n",
       " '__reduce__',\n",
       " '__reduce_ex__',\n",
       " '__repr__',\n",
       " '__setattr__',\n",
       " '__sizeof__',\n",
       " '__str__',\n",
       " '__subclasshook__',\n",
       " '__text_signature__']"
      ]
     },
     "execution_count": 75,
     "metadata": {},
     "output_type": "execute_result"
    }
   ],
   "source": [
    "dir(datetime.time)"
   ]
  },
  {
   "cell_type": "code",
   "execution_count": null,
   "metadata": {},
   "outputs": [],
   "source": []
  },
  {
   "cell_type": "code",
   "execution_count": null,
   "metadata": {},
   "outputs": [],
   "source": [
    "def my_url(itemPerPage=10, **agrs):\n",
    "    if 'key' not in agrs or 'targetDt' not in agrs:\n",
    "        return '필수 요청변수가 누락되었습니다.'\n",
    "    if int(itemPerPage) not in range(1, 11):\n",
    "        return '1~10까지의 값을 넣어주세요.'\n",
    "    base_url = 'http://www.kobis.or.kr/kobisopenapi/webservice/rest/boxoffice/searchDailyBoxOfficeList.json?'\n",
    "    base_url += f'itemPerPage={itemPerPage}'\n",
    "    for key, value in agrs.items():\n",
    "        base_url += f'{key}={value}&'\n",
    "    return base_url\n",
    "\n",
    "api = {\n",
    "    'key': '430156241533f1d058c603178cc3ca0e',\n",
    "    'targetDt': '20190620'\n",
    "}\n",
    "\n",
    "my_url(11, **api)"
   ]
  },
  {
   "cell_type": "code",
   "execution_count": null,
   "metadata": {},
   "outputs": [],
   "source": [
    "# 상승장 확인(개별 코인)\n",
    "def gazua (op, cp, minp, maxp):\n",
    "    diffp = maxp - minp\n",
    "    \n",
    "    # 상승장이면\n",
    "    # return '상승장'\n",
    "    # 하락장이면\n",
    "    # return '하락장'\n",
    "    \n",
    "gazua(12803000, 11341000, 11000000, 13000000)\n",
    "\n",
    "# 시장 전체 데이터\n",
    "def check_hazua(data):\n",
    "    # 모든 토큰 이름 : 상승장 or 하락장\n",
    "    # gazua()\n",
    "    # result = {'BTC': '하락장', 'ETH' : 하락장, ''}"
   ]
  },
  {
   "cell_type": "code",
   "execution_count": null,
   "metadata": {},
   "outputs": [],
   "source": []
  },
  {
   "cell_type": "markdown",
   "metadata": {},
   "source": [
    "# 시험문제 나옴!!!!!! ##$$%%"
   ]
  },
  {
   "cell_type": "markdown",
   "metadata": {},
   "source": [
    "## 이름공간 및 스코프(Scope)\n",
    "\n",
    "파이썬에서 사용되는 이름들은 이름공간(namespce)에 저장되어 있습니다.\n",
    "그리고, LEGB Rule을 가지고 있습니다. \n",
    "\n",
    "변수에서 값을 찾을 때 아래와 같은 순서대로 이름을 찾아나갑니다.\n",
    "* `L`ocal scope: 정의된 함수\n",
    "* `E`nclosed scope: 상위 함수 \n",
    "* `G`lobal scope: 함수 밖의 변수 혹은 import된 모듈\n",
    "* `B`uilt-in scope: 파이썬안에 내장되어 있는 함수 또는 속성"
   ]
  },
  {
   "cell_type": "markdown",
   "metadata": {},
   "source": [
    "\n",
    "\n",
    "찾을 때 화장실부터 찾고, 없으면 정의된 것보다 1개 밖에 있는 곳으로 나간다.\n",
    "그 다음에 글로벌 스코프로 한다.\n",
    "\n"
   ]
  },
  {
   "cell_type": "code",
   "execution_count": null,
   "metadata": {},
   "outputs": [],
   "source": [
    "a = 0\n",
    "print(c)\n",
    "print(b)\n",
    "print(a)\n",
    "\n",
    "def room():\n",
    "    b = 0\n",
    "    \n",
    "    print(c)\n",
    "    print(b)\n",
    "    print(a)\n",
    "    \n",
    "    def toilet():\n",
    "        c = 0\n",
    "        \n",
    "        print(c) # c \n",
    "        print(b)\n",
    "        print(a)\n",
    "        print(ssafy) # 선언하지 않은 변수는 출력 불가\n",
    "        print(sum) # 예약어, 내장함수(built-in)는 출력 가능\n",
    "        return toilet"
   ]
  },
  {
   "cell_type": "code",
   "execution_count": null,
   "metadata": {},
   "outputs": [],
   "source": []
  },
  {
   "cell_type": "markdown",
   "metadata": {},
   "source": [
    "#### 함수 안에 함수를 정의하는 경우는 실용적으로(practically) 잘 쓰지 않는다.\n"
   ]
  },
  {
   "cell_type": "code",
   "execution_count": 95,
   "metadata": {},
   "outputs": [],
   "source": [
    "# 따라서 첫시간에 내장함수의 식별자를 사용할 수 없었던 예제에서 오류가 생기는 이유를 확인할 수 있습니다."
   ]
  },
  {
   "cell_type": "code",
   "execution_count": 106,
   "metadata": {},
   "outputs": [
    {
     "ename": "TypeError",
     "evalue": "'str' object is not callable",
     "output_type": "error",
     "traceback": [
      "\u001b[1;31m---------------------------------------------------------------------------\u001b[0m",
      "\u001b[1;31mTypeError\u001b[0m                                 Traceback (most recent call last)",
      "\u001b[1;32m<ipython-input-106-f5cdd7b7f4bb>\u001b[0m in \u001b[0;36m<module>\u001b[1;34m\u001b[0m\n\u001b[0;32m      1\u001b[0m \u001b[0mstr\u001b[0m \u001b[1;33m=\u001b[0m \u001b[1;34m'4'\u001b[0m\u001b[1;33m\u001b[0m\u001b[1;33m\u001b[0m\u001b[0m\n\u001b[1;32m----> 2\u001b[1;33m \u001b[0mstr\u001b[0m\u001b[1;33m(\u001b[0m\u001b[1;36m3\u001b[0m\u001b[1;33m)\u001b[0m\u001b[1;33m\u001b[0m\u001b[1;33m\u001b[0m\u001b[0m\n\u001b[0m",
      "\u001b[1;31mTypeError\u001b[0m: 'str' object is not callable"
     ]
    }
   ],
   "source": [
    "str = '4'\n",
    "str(3)"
   ]
  },
  {
   "cell_type": "markdown",
   "metadata": {},
   "source": [
    "* `str()` 코드가 실행되면\n",
    "* str을 Global scope에서 먼저 찾아서 `str = 4`를 가져오고, \n",
    "* 이는 함수가 아니라 변수이기 때문에 `not callable`하다라는 오류를 내뱉게 됩니다.\n",
    "* 우리가 원하는 `str()`은 Built-in scope에 있기 때문입니다."
   ]
  },
  {
   "cell_type": "code",
   "execution_count": 110,
   "metadata": {
    "scrolled": true
   },
   "outputs": [
    {
     "ename": "NameError",
     "evalue": "name 'str' is not defined",
     "output_type": "error",
     "traceback": [
      "\u001b[1;31m---------------------------------------------------------------------------\u001b[0m",
      "\u001b[1;31mNameError\u001b[0m                                 Traceback (most recent call last)",
      "\u001b[1;32m<ipython-input-110-59fe3aef3338>\u001b[0m in \u001b[0;36m<module>\u001b[1;34m\u001b[0m\n\u001b[1;32m----> 1\u001b[1;33m \u001b[1;32mdel\u001b[0m \u001b[0mstr\u001b[0m\u001b[1;33m\u001b[0m\u001b[1;33m\u001b[0m\u001b[0m\n\u001b[0m",
      "\u001b[1;31mNameError\u001b[0m: name 'str' is not defined"
     ]
    }
   ],
   "source": [
    "del str # 이 코드를 실행하면 str의 이름으로 설정한 변수를 제거해준다."
   ]
  },
  {
   "cell_type": "code",
   "execution_count": 111,
   "metadata": {},
   "outputs": [
    {
     "data": {
      "text/plain": [
       "'3'"
      ]
     },
     "execution_count": 111,
     "metadata": {},
     "output_type": "execute_result"
    }
   ],
   "source": [
    "str(3)"
   ]
  },
  {
   "cell_type": "code",
   "execution_count": 102,
   "metadata": {},
   "outputs": [
    {
     "name": "stdout",
     "output_type": "stream",
     "text": [
      "<function greeting at 0x0647A930>\n"
     ]
    }
   ],
   "source": [
    "greetings = 'hello'\n",
    "def greeting():\n",
    "    return 'hi'\n",
    "print(greeting)"
   ]
  },
  {
   "cell_type": "code",
   "execution_count": 103,
   "metadata": {},
   "outputs": [
    {
     "name": "stdout",
     "output_type": "stream",
     "text": [
      "hello\n"
     ]
    },
    {
     "data": {
      "text/plain": [
       "'123'"
      ]
     },
     "execution_count": 103,
     "metadata": {},
     "output_type": "execute_result"
    }
   ],
   "source": [
    "str_func = str\n",
    "str_func(123)\n",
    "str = 'hello'\n",
    "print(str)\n",
    "str = str_func\n",
    "str(123)"
   ]
  },
  {
   "cell_type": "code",
   "execution_count": 112,
   "metadata": {},
   "outputs": [
    {
     "name": "stdout",
     "output_type": "stream",
     "text": [
      "3\n"
     ]
    }
   ],
   "source": [
    "# print(a)에 무엇이 출력되는지 확인해보세요.\n",
    "a = 1\n",
    "def localscope(a):\n",
    "    print(a)\n",
    "    \n",
    "localscope(3)"
   ]
  },
  {
   "cell_type": "code",
   "execution_count": 113,
   "metadata": {},
   "outputs": [],
   "source": [
    "# 전역 변수를 바꿀 수 있을 까요?"
   ]
  },
  {
   "cell_type": "code",
   "execution_count": 114,
   "metadata": {},
   "outputs": [
    {
     "name": "stdout",
     "output_type": "stream",
     "text": [
      "global_num이 5으로 설정되었습니다.\n",
      "3\n"
     ]
    }
   ],
   "source": [
    "global_num = 3\n",
    "def localscope2():\n",
    "    global_num = 5\n",
    "    print(f'global_num이 {global_num}으로 설정되었습니다.')\n",
    "\n",
    "localscope2()\n",
    "print(global_num)"
   ]
  },
  {
   "cell_type": "code",
   "execution_count": 115,
   "metadata": {},
   "outputs": [],
   "source": [
    "# 굳이 전역에 있는 변수를 바꾸고 싶다면, 아래와 같이 선언할 수 있습니다.\n",
    "# 변태만 쓰세요. 쓰면 안돼요."
   ]
  },
  {
   "cell_type": "code",
   "execution_count": 116,
   "metadata": {},
   "outputs": [
    {
     "name": "stdout",
     "output_type": "stream",
     "text": [
      "global_num이 5으로 설정되었습니다.\n",
      "5\n"
     ]
    }
   ],
   "source": [
    "global_num = 3\n",
    "def localscope2():\n",
    "    global global_num\n",
    "    global_num = 5\n",
    "    print(f'global_num이 {global_num}으로 설정되었습니다.')\n",
    "\n",
    "localscope2()\n",
    "print(global_num)"
   ]
  },
  {
   "cell_type": "code",
   "execution_count": 117,
   "metadata": {},
   "outputs": [
    {
     "name": "stdout",
     "output_type": "stream",
     "text": [
      "global_num이 3으로 설정되었습니다.\n",
      "3\n"
     ]
    }
   ],
   "source": [
    "global_num = 3\n",
    "def localscope2():\n",
    "    global global_num\n",
    "#     global_num = 5 # 로컬이 없으면 글로벌 변수를 사용한다!\n",
    "    print(f'global_num이 {global_num}으로 설정되었습니다.')\n",
    "\n",
    "localscope2()\n",
    "print(global_num)"
   ]
  },
  {
   "cell_type": "markdown",
   "metadata": {},
   "source": [
    "이름공간은 각자의 수명주기가 있습니다.\n",
    "\n",
    "* built-in scope : 파이썬이 실행된 이후부터 끝까지 \n",
    "\n",
    "* Global scope : 모듈이 호출된 시점 이후 혹은 이름 선언된 이후부터 끝까지\n",
    "\n",
    "* Local/Enclosed scope : 함수가 실행된 시점 이후부터 리턴할때 까지"
   ]
  },
  {
   "cell_type": "markdown",
   "metadata": {},
   "source": [
    "# 재귀 함수(recursive function)\n",
    "\n",
    "재귀 함수는 함수 내부에서 자기 자신을 호출 하는 함수를 뜻한다."
   ]
  },
  {
   "cell_type": "markdown",
   "metadata": {},
   "source": [
    "## 팩토리얼 계산\n",
    "\n",
    "> `팩토리얼(factorial)`을 계산하는 함수 `fact(n)`를 작성해봅시다. \n",
    ">\n",
    "> n은 1보다 큰 정수라고 가정하고, 팩토리얼을 계산한 값을 반환합니다.\n",
    "\n",
    "$$\n",
    "\\displaystyle n! = \\prod_{ k = 1 }^{ n }{ k }\n",
    "$$\n",
    "\n",
    "$$\n",
    "\\displaystyle n! = 1*2*3*...*(n-1)*n\n",
    "$$\n",
    "\n",
    "---\n",
    "```\n",
    "예시 출력)\n",
    "120\n",
    "```"
   ]
  },
  {
   "cell_type": "code",
   "execution_count": 118,
   "metadata": {},
   "outputs": [],
   "source": [
    "# 아래에 코드를 작성해주세요.\n",
    "def fact(n):\n",
    "    pass\n",
    "fact(5)"
   ]
  },
  {
   "cell_type": "code",
   "execution_count": 119,
   "metadata": {},
   "outputs": [
    {
     "data": {
      "text/plain": [
       "120"
      ]
     },
     "execution_count": 119,
     "metadata": {},
     "output_type": "execute_result"
    }
   ],
   "source": [
    "def fact(n):\n",
    "    result = 1\n",
    "    while n > 1:\n",
    "        result *= n \n",
    "        n -= 1\n",
    "    return result\n",
    "fact(5)"
   ]
  },
  {
   "cell_type": "markdown",
   "metadata": {},
   "source": [
    "## 재귀를 이용한 팩토리얼 계산\n",
    "\n",
    "```\n",
    "1! = 1\n",
    "2! = 1 * 2 = 1! * 2 \n",
    "3! = 1 * 2 * 3 = 2! * 3\n",
    "```"
   ]
  },
  {
   "cell_type": "code",
   "execution_count": 127,
   "metadata": {},
   "outputs": [
    {
     "data": {
      "text/plain": [
       "[1, 2, 3, 4, 5, 6, 7, 8, 9, 10]"
      ]
     },
     "execution_count": 127,
     "metadata": {},
     "output_type": "execute_result"
    }
   ],
   "source": [
    "list(range(1,10+1,1))"
   ]
  },
  {
   "cell_type": "code",
   "execution_count": 129,
   "metadata": {},
   "outputs": [
    {
     "data": {
      "text/plain": [
       "120"
      ]
     },
     "execution_count": 129,
     "metadata": {},
     "output_type": "execute_result"
    }
   ],
   "source": [
    "# 아래에 코드를 작성해주세요.\n",
    "def factorial(n):\n",
    "#     res = 1\n",
    "#     for i in range(1,n+1,1):\n",
    "#         res *= i\n",
    "\n",
    "    res = 1\n",
    "    while( n !=1 ):\n",
    "        res *= i\n",
    "        n -= 1\n",
    "    return res\n",
    "factorial(5)"
   ]
  },
  {
   "cell_type": "code",
   "execution_count": 130,
   "metadata": {},
   "outputs": [
    {
     "data": {
      "text/plain": [
       "120"
      ]
     },
     "execution_count": 130,
     "metadata": {},
     "output_type": "execute_result"
    }
   ],
   "source": [
    "def factorial(n):\n",
    "    if n <= 1: \n",
    "        return n \n",
    "    else:\n",
    "        return n * factorial(n-1)\n",
    "factorial(5)\n",
    "\n",
    "# 수학:점화식과 유사"
   ]
  },
  {
   "cell_type": "markdown",
   "metadata": {},
   "source": [
    "## 반복문과 재귀함수\n",
    "```\n",
    "factorial(3)\n",
    "3 * factorail(2)\n",
    "3 * 2 * factorial(1)\n",
    "3 * 2 * 1\n",
    "3 * 2\n",
    "6\n",
    "```\n",
    "\n",
    "* 두 코드 모두 원리는 같다! \n",
    "\n",
    "```\n",
    "반복문 코드:\n",
    "    n이 1보다 큰 경우 반복문을 돌며, n은  1씩 감소한다. \n",
    "    마지막에 n이 1이면 더 이상 반복문을 돌지 않는다.\n",
    "  \n",
    "재귀 함수 코드:\n",
    "    재귀 함수를 호출하며, n은 1씩 감소한다. \n",
    "    마지막에 n이 1이면 더 이상 추가 함수를 호출을 하지 않는다.\n",
    "```\n"
   ]
  },
  {
   "cell_type": "markdown",
   "metadata": {},
   "source": [
    "삼성 B형, 프로 :문제만 길지 알고리드믹하게 어렵진 않네.\n",
    "독해력만 있으면 풀 수 있다..?\n",
    "\n",
    "*DP : 구성 -> 알고리드믹하게 어려운 경우들.. 첫 번째 생각은 재귀적으로 생각해야 한다.\n",
    "중급 단계 -> 고급 단계 넘어갈 때는 얘를 잘 다뤄야 한다.\n"
   ]
  },
  {
   "cell_type": "markdown",
   "metadata": {},
   "source": [
    "* 재귀 함수는 기본적으로 같은 문제이지만 점점 범위가 줄어드는 문제를 풀게 된다.\n",
    "\n",
    "* 재귀함수를 작성시에는 반드시, `base case`가 존재 하여야 한다. \n",
    "\n",
    "* `base case`는 점점 범위가 줄어들어 반복되지 않는 최종적으로 도달하는 곳이다. \n",
    "\n",
    "재귀를 이용한 팩토리얼 계산에서의 base case는 n이 1일때, 함수가 아닌 정수 반환하는 것이다."
   ]
  },
  {
   "cell_type": "markdown",
   "metadata": {},
   "source": [
    "* 자기 자신을 호출하는 재귀함수는 알고리즘 구현시 많이 사용된다.\n",
    "* 코드가 더 직관적이고 이해하기 쉬운 경우가 있음. (하지만, 만들기는 어려움)\n",
    "* [Python Tutor](https://goo.gl/k1hQYz)에 보면, 함수가 호출될 때마다 메모리 공간에 쌓이는 것을 볼 수 있다. \n",
    "* 이 경우, 메모리 스택이 넘치거나(Stack overflow) 프로그램 실행 속도가 늘어지는 단점이 생긴다.\n",
    "* 파이썬에서는 이를 방지하기 위해 1,000번이 넘어가게 되면 더이상 함수를 호출하지 않고, 종료된다."
   ]
  },
  {
   "cell_type": "code",
   "execution_count": null,
   "metadata": {},
   "outputs": [],
   "source": [
    "# 여기에서 오류를 확인해보자!"
   ]
  },
  {
   "cell_type": "code",
   "execution_count": null,
   "metadata": {},
   "outputs": [],
   "source": [
    "def test_error(n):\n",
    "    return test_error(n)\n",
    "test_error(1)"
   ]
  },
  {
   "cell_type": "markdown",
   "metadata": {},
   "source": [
    "## 피보나치 수열\n",
    "\n",
    "> 피보나치 수열은 다음과 같은 점화식이 있다. \n",
    ">\n",
    "> 피보나치 값을 리턴하는 두가지 방식의 코드를 모두 작성해보자.\n",
    "\n",
    "$$\n",
    "\\displaystyle F_0 = F_1 = 1\n",
    "$$\n",
    "\n",
    "$$\n",
    "F_n=F_{n-1}+F_{n-2}\\qquad(n\\in\\{2,3,4,\\dots\\})\n",
    "$$\n",
    "\n",
    "1) `fib(n)` : 재귀함수\n",
    "\n",
    "2) `fib_loop(n)` : 반복문 활용한 함수\n",
    "\n",
    "---\n",
    "```\n",
    "예시 입력)\n",
    "fib(10)\n",
    "\n",
    "예시 호출)\n",
    "89\n",
    "```"
   ]
  },
  {
   "cell_type": "code",
   "execution_count": null,
   "metadata": {},
   "outputs": [],
   "source": [
    "# F(n) = F(n-1)  + F(n-2) : 재귀함수는 이와 같은 수식을 도출해내면 구현할 수 있다!"
   ]
  },
  {
   "cell_type": "code",
   "execution_count": null,
   "metadata": {},
   "outputs": [],
   "source": [
    "# 재귀를 이용한 코드를 작성해주세요.\n",
    "def fib(n):\n",
    "    pass\n",
    "fib(4)"
   ]
  },
  {
   "cell_type": "code",
   "execution_count": null,
   "metadata": {},
   "outputs": [],
   "source": [
    "def fib(n):\n",
    "    if n == 0 or n==1:\n",
    "        return 1\n",
    "    else:\n",
    "        return fib(n-1) + fib(n-2)\n",
    "fib(4)"
   ]
  },
  {
   "cell_type": "code",
   "execution_count": 131,
   "metadata": {},
   "outputs": [
    {
     "data": {
      "text/plain": [
       "5"
      ]
     },
     "execution_count": 131,
     "metadata": {},
     "output_type": "execute_result"
    }
   ],
   "source": [
    "# 반복문을 이용한 코드를 작성해주세요.\n",
    "def fib_loop(n):\n",
    "    a, b = 1, 1\n",
    "    for i in range(n-1):\n",
    "        a,b = b, a+b\n",
    "    return b\n",
    "fib_loop(4)"
   ]
  },
  {
   "cell_type": "code",
   "execution_count": null,
   "metadata": {},
   "outputs": [],
   "source": [
    "# 아마 이렇게 작성하는 사람이 많을듯 근데 len에서 뺼듯.\n",
    "def fib_loop2(n):\n",
    "    result = [1, 1]\n",
    "    for i in range(1, n):\n",
    "        result.append(result[-2] + result[-1])\n",
    "#         result.append(result[len(result)-2] + result[len(result)-1])\n",
    "    return result[-1]\n",
    "\n",
    "# 이 코드는 잠시만 보여주자. 중점 사항은 list에 다 차곡 차곡 쌓을 필요가 없다는 거~\n",
    "def fib_loop(n):\n",
    "    a, b = 1, 1\n",
    "    for i in range(n-1):\n",
    "        a, b = b, a + b\n",
    "    return b\n",
    "\n",
    "fib_loop(4)"
   ]
  },
  {
   "cell_type": "markdown",
   "metadata": {},
   "source": [
    "## 반복문과 재귀 함수의 차이"
   ]
  },
  {
   "cell_type": "code",
   "execution_count": null,
   "metadata": {},
   "outputs": [],
   "source": [
    "# 큰 숫자를 재귀로 짜여진 fib()함수의 인자로 넘겨보세요.\n",
    "fib(33)"
   ]
  },
  {
   "cell_type": "code",
   "execution_count": null,
   "metadata": {},
   "outputs": [],
   "source": [
    "# 100배 되는 숫자를 반복문으로 짜여진 fib_loop()인자로 넘겨보세요.\n",
    "fib_loop(3300)"
   ]
  },
  {
   "cell_type": "markdown",
   "metadata": {},
   "source": [
    "#### 속도의 차이를 느껴보자\n",
    "\n",
    "\n",
    "###### for문이 더 빠른데 왜 재귀씀? (https://kldp.org/node/134556)\n",
    "- 알고리즘 자체가 재귀적인 표현이 자연스러운 경우\n",
    "- 재귀 호출은 '변수 사용'을 줄여줄 수 있다."
   ]
  },
  {
   "cell_type": "markdown",
   "metadata": {},
   "source": [
    "## 실습문제 - 하노이의 탑\n",
    "\n",
    "> 다음은 하노이의 탑이다. \n",
    ">\n",
    "> 하노이의 탑을 풀이하는 해법(한쪽 탑의 원판을 다른 탑으로 모두 옮기는 법을 출력하는 함수를 만드세요.\n",
    "> \n",
    "> 참고링크 : https://ko.khanacademy.org/computing/computer-science/algorithms/towers-of-hanoi/a/towers-of-hanoi\n",
    "\n",
    "<br>\n",
    "<br>\n",
    "<center>\n",
    "    <img src=\"./images/03/hanoi.gif\", alt=\"\">\n",
    "</center>\n",
    "\n",
    "1. 한 번에 한개의 층만을 다른 기둥으로 옮길 수 있다\n",
    "2. 옮기려는 기둥에는 아무것도 없거나 옮기려는 층보다 큰 층이 있을 경우에만 옮길 수 있다\n",
    "3. 옮기려는 기둥에 옮기려는 층보다 작은 층이 이미 있을 경우 그 기둥으로 옮길 수 없다.\n",
    "4. 가능한 적은 회수로 전체 탑을 다른 기둥으로 옮긴다."
   ]
  },
  {
   "cell_type": "code",
   "execution_count": null,
   "metadata": {},
   "outputs": [],
   "source": [
    "# 아래에 코드를 작성해주세요."
   ]
  },
  {
   "cell_type": "code",
   "execution_count": 132,
   "metadata": {},
   "outputs": [
    {
     "name": "stdout",
     "output_type": "stream",
     "text": [
      "1번째 원판을, a에서 b로\n",
      "2번째 원판을, a에서 c로\n",
      "1번째 원판을, b에서 c로\n",
      "---\n",
      "1번째 원판을, a에서 c로\n",
      "2번째 원판을, a에서 b로\n",
      "1번째 원판을, c에서 b로\n",
      "3번째 원판을, a에서 c로\n",
      "1번째 원판을, b에서 a로\n",
      "2번째 원판을, b에서 c로\n",
      "1번째 원판을, a에서 c로\n"
     ]
    }
   ],
   "source": [
    "def hanoi(n, start, tmp, end):\n",
    "    if n:\n",
    "        # 마지막 제외 원판을 모두 끝을 이용해서 중간으로\n",
    "        hanoi(n - 1, start, end, tmp)\n",
    "        print(f'{n}번째 원판을, {start}에서 {end}로')\n",
    "        # 중간에 있는 원판을 모두 시작을 거쳐서 끝으로\n",
    "        hanoi(n - 1, tmp, start, end)\n",
    "hanoi(2, 'a', 'b', 'c')\n",
    "print('---')\n",
    "hanoi(3, 'a', 'b', 'c')\n",
    "\n",
    "# 1번 기둥에서 n-1번 까지의 원판을 2번(여분의 기둥)으로 옮긴다.\n",
    "# 1번 기둥에서 n번 원판을 3번으로 옮긴다.\n",
    "# 2번 기둥의 n-1번 까지의 원판을 3번으로 옮긴다.\n",
    "\n",
    "# hanoi(n) = 2hanoi(n-1) + move(n)\n"
   ]
  },
  {
   "cell_type": "code",
   "execution_count": null,
   "metadata": {},
   "outputs": [],
   "source": []
  }
 ],
 "metadata": {
  "kernelspec": {
   "display_name": "Python 3",
   "language": "python",
   "name": "python3"
  },
  "language_info": {
   "codemirror_mode": {
    "name": "ipython",
    "version": 3
   },
   "file_extension": ".py",
   "mimetype": "text/x-python",
   "name": "python",
   "nbconvert_exporter": "python",
   "pygments_lexer": "ipython3",
   "version": "3.7.3"
  }
 },
 "nbformat": 4,
 "nbformat_minor": 2
}
