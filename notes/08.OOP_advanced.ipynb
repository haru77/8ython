{
 "cells": [
  {
   "cell_type": "markdown",
   "metadata": {},
   "source": [
    "# OOP advanced"
   ]
  },
  {
   "cell_type": "markdown",
   "metadata": {},
   "source": [
    "## 클래스 변수 / 인스턴스 변수\n",
    "\n",
    "### 클래스 변수\n",
    "* 클래스의 속성입니다.\n",
    "* 클래스 선언 블록 최상단에 위치합니다.\n",
    "* `Class.class_variable` 과 같이 접근/할당합니다.\n",
    "    ```python\n",
    "    class TestClass:\n",
    "        class_variable = '클래스변수'\n",
    "        ...\n",
    "        \n",
    "    TestClass.class_variable  # '클래스변수'\n",
    "    TestClass.class_variable = 'class variable'\n",
    "    TestClass.class_variable  # 'class variable'\n",
    "    \n",
    "    tc = TestClass()\n",
    "    tc.class_variable  # 인스턴스 => 클래스 => 전역 순서로 네임스페이스를 탐색하기 때문에, 접근하게 됩니다.\n",
    "    ```\n",
    "    \n",
    "### 인스턴스 변수\n",
    "* 인스턴스의 속성입니다.\n",
    "* 메서드 정의에서 `self.instance_variable` 로 접근/할당합니다.\n",
    "* 인스턴스가 생성된 이후 `instance.instance_variable` 로 접근/할당합니다.\n",
    "    ```python\n",
    "    class TestClass:\n",
    "        def __init__(self, arg1, arg2):\n",
    "            self.instance_var1 = arg1\n",
    "            self.instance_var2 = arg2\n",
    "        \n",
    "        def status(self):\n",
    "            return self.instance_var1, self.instance_var2   \n",
    "        \n",
    "    tc = TestClass(1, 2)\n",
    "    tc.instance_var1  # 1\n",
    "    tc.instance_var2  # 2\n",
    "    tc.status()  # (1, 2)\n",
    "    ```"
   ]
  },
  {
   "cell_type": "code",
   "execution_count": 14,
   "metadata": {},
   "outputs": [],
   "source": [
    "# 확인해 봅시다.\n",
    "\n",
    "# 얘만 가지고 있는 얘들이 만들어진다. 해당 인스턴스에서 접근하는 변수가 된다.\n",
    "# 한 번 코드를 찍어보고 가자."
   ]
  },
  {
   "cell_type": "code",
   "execution_count": 15,
   "metadata": {},
   "outputs": [
    {
     "data": {
      "text/plain": [
       "'클래스변수'"
      ]
     },
     "execution_count": 15,
     "metadata": {},
     "output_type": "execute_result"
    }
   ],
   "source": [
    "class TestClass:\n",
    "    class_variable = '클래스변수'\n",
    "    class_variable2 = '클래스변수2'\n",
    "    def __init__(self, arg1, arg2):\n",
    "        self.class_variable = arg1\n",
    "        self.class_variable2 = arg2\n",
    "\n",
    "    def status(self):\n",
    "        return self.instance_var1, self.instance_var2 \n",
    "\n",
    "    \n",
    "TestClass.class_variable"
   ]
  },
  {
   "cell_type": "code",
   "execution_count": 16,
   "metadata": {},
   "outputs": [],
   "source": [
    "# 클래스 변수에 접근/재할당해 봅시다."
   ]
  },
  {
   "cell_type": "code",
   "execution_count": 22,
   "metadata": {},
   "outputs": [
    {
     "data": {
      "text/plain": [
       "'changed'"
      ]
     },
     "execution_count": 22,
     "metadata": {},
     "output_type": "execute_result"
    }
   ],
   "source": [
    "TestClass.class_variable = 'changed' # 클래스 변수에 직접 접근하여 수정!\n",
    "TestClass.class_variable"
   ]
  },
  {
   "cell_type": "code",
   "execution_count": 24,
   "metadata": {},
   "outputs": [
    {
     "name": "stdout",
     "output_type": "stream",
     "text": [
      "changed\n",
      "클래스변수2\n"
     ]
    }
   ],
   "source": [
    "print(TestClass.class_variable)\n",
    "print(TestClass.class_variable2)"
   ]
  },
  {
   "cell_type": "code",
   "execution_count": 18,
   "metadata": {},
   "outputs": [],
   "source": [
    "# 인스턴스를 생성하고 확인해 봅시다."
   ]
  },
  {
   "cell_type": "code",
   "execution_count": 21,
   "metadata": {},
   "outputs": [
    {
     "ename": "TypeError",
     "evalue": "__init__() missing 2 required positional arguments: 'arg1' and 'arg2'",
     "output_type": "error",
     "traceback": [
      "\u001b[1;31m---------------------------------------------------------------------------\u001b[0m",
      "\u001b[1;31mTypeError\u001b[0m                                 Traceback (most recent call last)",
      "\u001b[1;32m<ipython-input-21-ab81312974ee>\u001b[0m in \u001b[0;36m<module>\u001b[1;34m\u001b[0m\n\u001b[1;32m----> 1\u001b[1;33m \u001b[0mtc\u001b[0m \u001b[1;33m=\u001b[0m \u001b[0mTestClass\u001b[0m\u001b[1;33m(\u001b[0m\u001b[1;33m)\u001b[0m\u001b[1;33m\u001b[0m\u001b[1;33m\u001b[0m\u001b[0m\n\u001b[0m\u001b[0;32m      2\u001b[0m \u001b[0mtc\u001b[0m\u001b[1;33m.\u001b[0m\u001b[0mclass_variable\u001b[0m\u001b[1;33m\u001b[0m\u001b[1;33m\u001b[0m\u001b[0m\n",
      "\u001b[1;31mTypeError\u001b[0m: __init__() missing 2 required positional arguments: 'arg1' and 'arg2'"
     ]
    }
   ],
   "source": [
    "tc = TestClass() # parameter\n",
    "tc.class_variable"
   ]
  },
  {
   "cell_type": "code",
   "execution_count": 20,
   "metadata": {},
   "outputs": [
    {
     "data": {
      "text/plain": [
       "'객체변수'"
      ]
     },
     "execution_count": 20,
     "metadata": {},
     "output_type": "execute_result"
    }
   ],
   "source": [
    "tc2 = TestClass('객체변수','객체변수2')\n",
    "tc2.class_variable"
   ]
  },
  {
   "cell_type": "code",
   "execution_count": 8,
   "metadata": {},
   "outputs": [],
   "source": [
    "# 인스턴스 변수를 재할당해 봅시다."
   ]
  },
  {
   "cell_type": "code",
   "execution_count": null,
   "metadata": {},
   "outputs": [],
   "source": []
  },
  {
   "cell_type": "markdown",
   "metadata": {},
   "source": [
    "## 인스턴스 메서드 / 클래스 메서드 / 스태틱(정적) 메서드 \n",
    "\n",
    "### 인스턴스 메서드\n",
    "* 인스턴스가 사용할 메서드 입니다.\n",
    "* **정의 위에 어떠한 데코레이터도 없으면, 자동으로 인스턴스 메서드가 됩니다.**\n",
    "* **첫 번째 인자로 `self` 를 받도록 정의합니다. 이 때, 자동으로 인스턴스 객체가 `self` 가 됩니다.**\n",
    "    ```python\n",
    "    class MyClass:\n",
    "        def instance_method_name(self, arg1, arg2, ...):\n",
    "            ...\n",
    "    \n",
    "    my_instance = MyClass()\n",
    "    my_instance.instance_method_name(.., ..)  # 자동으로 첫 번째 인자로 인스턴스(my_instance)가 들어갑니다.\n",
    "    ```\n",
    "    \n",
    "### 클래스 메서드\n",
    "* 클래스가 사용할 메서드 입니다.\n",
    "* **정의 위에 `@classmethod` 데코레이터를 사용합니다.**\n",
    "* **첫 번째 인자로 `cls` 를 받도록 정의합니다. 이 때, 자동으로 클래스 객체가 `cls` 가 됩니다.**\n",
    "    ```python\n",
    "    class MyClass:\n",
    "        @classmethod\n",
    "        def class_method_name(cls, arg1, arg2, ...): # klass, kls로도 쓰지만 일반적으로 cls\n",
    "            ...\n",
    "            \n",
    "    MyClass.class_method_name(.., ..)  # 자동으로 첫 번째 인자로 클래스(MyClass)가 들어갑니다.\n",
    "    ```\n",
    "\n",
    "### 스태틱(정적) 메서드\n",
    "* 클래스가 사용할 메서드 입니다.\n",
    "* **정의 위에 `@staticmethod` 데코레이터를 사용합니다.**\n",
    "* **인자 정의는 자유롭게 합니다. 어떠한 인자도 자동으로 넘어가지 않습니다.**\n",
    "    ```python\n",
    "    class MyClass:\n",
    "        @staticmethod\n",
    "        def static_method_name(arg1, arg2, ...):\n",
    "            ...\n",
    "    \n",
    "    MyClass.static_method_name(.., ..)  # 아무일도 자동으로 일어나지 않습니다.\n",
    "    ```"
   ]
  },
  {
   "cell_type": "code",
   "execution_count": 30,
   "metadata": {},
   "outputs": [
    {
     "ename": "TypeError",
     "evalue": "class_method() takes 0 positional arguments but 1 was given",
     "output_type": "error",
     "traceback": [
      "\u001b[1;31m---------------------------------------------------------------------------\u001b[0m",
      "\u001b[1;31mTypeError\u001b[0m                                 Traceback (most recent call last)",
      "\u001b[1;32m<ipython-input-30-16d41932d17f>\u001b[0m in \u001b[0;36m<module>\u001b[1;34m\u001b[0m\n\u001b[0;32m     10\u001b[0m \u001b[0mmc\u001b[0m\u001b[1;33m.\u001b[0m\u001b[0minstance_method\u001b[0m\u001b[1;33m(\u001b[0m\u001b[1;33m)\u001b[0m\u001b[1;33m\u001b[0m\u001b[1;33m\u001b[0m\u001b[0m\n\u001b[0;32m     11\u001b[0m \u001b[1;33m\u001b[0m\u001b[0m\n\u001b[1;32m---> 12\u001b[1;33m \u001b[0mMyClass\u001b[0m\u001b[1;33m.\u001b[0m\u001b[0mclass_method\u001b[0m\u001b[1;33m(\u001b[0m\u001b[1;33m)\u001b[0m \u001b[1;31m# 클래스 자기 자신이 우리들 모르게 첫번째 인자로 넣은 것이다. : 따라서 첫번쨰 인자가 뭔지 알려주기 위해서 cls를 클래스 정의부에 arg로 추가한다.\u001b[0m\u001b[1;33m\u001b[0m\u001b[1;33m\u001b[0m\u001b[0m\n\u001b[0m\u001b[0;32m     13\u001b[0m \u001b[1;33m\u001b[0m\u001b[0m\n\u001b[0;32m     14\u001b[0m \u001b[1;31m# class입장에서 클래스가 부르는 MyClass 메서드를...\u001b[0m\u001b[1;33m\u001b[0m\u001b[1;33m\u001b[0m\u001b[1;33m\u001b[0m\u001b[0m\n",
      "\u001b[1;31mTypeError\u001b[0m: class_method() takes 0 positional arguments but 1 was given"
     ]
    }
   ],
   "source": [
    "class MyClass:\n",
    "    def instance_method(self):\n",
    "        return '저는 인스턴스 메서드입니다.'\n",
    "\n",
    "    @classmethod\n",
    "    def class_method():\n",
    "        return '저는 클래스 메서드입니다.'\n",
    "\n",
    "mc = MyClass()\n",
    "mc.instance_method()\n",
    "\n",
    "MyClass.class_method() # 클래스 자기 자신이 우리들 모르게 첫번째 인자로 넣은 것이다. : 따라서 첫번쨰 인자가 뭔지 알려주기 위해서 cls를 클래스 정의부에 arg로 추가한다.\n",
    "\n",
    "# class입장에서 클래스가 부르는 MyClass 메서드를...\n"
   ]
  },
  {
   "cell_type": "code",
   "execution_count": 39,
   "metadata": {},
   "outputs": [
    {
     "data": {
      "text/plain": [
       "__main__.MyClass"
      ]
     },
     "execution_count": 39,
     "metadata": {},
     "output_type": "execute_result"
    }
   ],
   "source": [
    "class MyClass:\n",
    "    def instance_method(self):\n",
    "        return '저는 인스턴스 메서드입니다.'\n",
    "\n",
    "    @classmethod\n",
    "    def class_method(cls):\n",
    "        return cls\n",
    "        #         return f'저는 클래스 메서드입니다. 저를 호출한 사람은 {cls}입니다.'\n",
    "\n",
    "    @staticmethod\n",
    "    def static_method():\n",
    "        return '저는 스태틱 메서드입니다.'\n",
    "    # 스태틱 메서드는 자기 자신이 들어오지 않는다.\n",
    "    # 클래스가 쉐어는 하되, 마치 이름 공간처럼 써서 ,  연관없는 얘들이 많이 들어간다.(단순 기능적인 부분, 연산적인 부분이 들어간다.) ##$$??\n",
    "    # 뭐든지 안 넘어온다. - 클래스 메서드처럼.. \n",
    "    \n",
    "mc = MyClass()\n",
    "mc.instance_method()\n",
    "\n",
    "MyClass.class_method() # 클래스 자기 자신이 우리들 모르게 첫번째 인자로 넣은 것이다. : 따라서 첫번쨰 인자가 뭔지 알려주기 위해서 cls를 클래스 정의부에 arg로 추가한다.\n",
    "\n",
    "# class입장에서 클래스가 부르는 MyClass 메서드를...\n"
   ]
  },
  {
   "cell_type": "markdown",
   "metadata": {},
   "source": [
    "# **인스턴스로 불러도 첫번째 인자로 들어가는 것은 클래스의 인자이다!!!**"
   ]
  },
  {
   "cell_type": "code",
   "execution_count": 37,
   "metadata": {},
   "outputs": [
    {
     "data": {
      "text/plain": [
       "\"저는 클래스 메서드입니다. 저를 호출한 사람은 <class '__main__.MyClass'>입니다.\""
      ]
     },
     "execution_count": 37,
     "metadata": {},
     "output_type": "execute_result"
    }
   ],
   "source": [
    "# 인스턴스 입장에서 확인해 봅시다.\n",
    "mc = MyClass()\n",
    "mc.class_method() # 객체에서도 클래스 변수 접근이 가능하다!\n",
    "\n",
    "# **인스턴스로 불러도 첫번쨰 인자로 들어가는 것은 클래스의 인자이다!!!**"
   ]
  },
  {
   "cell_type": "code",
   "execution_count": 40,
   "metadata": {},
   "outputs": [
    {
     "data": {
      "text/plain": [
       "True"
      ]
     },
     "execution_count": 40,
     "metadata": {},
     "output_type": "execute_result"
    }
   ],
   "source": [
    "# 인스턴스는 인스턴스 메서드에 접근 가능합니다.\n",
    "id(mc.class_method()) == id(MyClass)"
   ]
  },
  {
   "cell_type": "code",
   "execution_count": 41,
   "metadata": {},
   "outputs": [
    {
     "ename": "AttributeError",
     "evalue": "'MyClass' object has no attribute 'static_method'",
     "output_type": "error",
     "traceback": [
      "\u001b[1;31m---------------------------------------------------------------------------\u001b[0m",
      "\u001b[1;31mAttributeError\u001b[0m                            Traceback (most recent call last)",
      "\u001b[1;32m<ipython-input-41-134f412365f4>\u001b[0m in \u001b[0;36m<module>\u001b[1;34m\u001b[0m\n\u001b[0;32m      1\u001b[0m \u001b[1;31m# 인스턴스는 클래스 메서드에 접근 가능합니다.\u001b[0m\u001b[1;33m\u001b[0m\u001b[1;33m\u001b[0m\u001b[1;33m\u001b[0m\u001b[0m\n\u001b[0;32m      2\u001b[0m \u001b[0mmc\u001b[0m \u001b[1;33m=\u001b[0m \u001b[0mMyClass\u001b[0m\u001b[1;33m(\u001b[0m\u001b[1;33m)\u001b[0m\u001b[1;33m\u001b[0m\u001b[1;33m\u001b[0m\u001b[0m\n\u001b[1;32m----> 3\u001b[1;33m \u001b[0mmc\u001b[0m\u001b[1;33m.\u001b[0m\u001b[0mstatic_method\u001b[0m\u001b[1;33m(\u001b[0m\u001b[1;33m)\u001b[0m\u001b[1;33m\u001b[0m\u001b[1;33m\u001b[0m\u001b[0m\n\u001b[0m",
      "\u001b[1;31mAttributeError\u001b[0m: 'MyClass' object has no attribute 'static_method'"
     ]
    }
   ],
   "source": [
    "# 인스턴스는 클래스 메서드에 접근 가능합니다.\n",
    "mc = MyClass()\n",
    "mc.static_method() # 첫번째 인자로 해당 클래스 자체가 들어와서 활용할 수 있게 해주었고\n",
    "\n",
    "# 스태틱 메서드는 클래스, 인스턴스에 대한 정보 필요없이,\n",
    "# 데이터를 건드리지 않고\n",
    "# 객체나 클래스 자체가 들어오지 않으므로, 내용만 들어오고 열람가능하다.\n"
   ]
  },
  {
   "cell_type": "code",
   "execution_count": null,
   "metadata": {},
   "outputs": [],
   "source": [
    "# 인스턴스는 스태틱 메서드에 접근 가능합니다."
   ]
  },
  {
   "cell_type": "markdown",
   "metadata": {},
   "source": [
    "#### 정리\n",
    "- 인스턴스는, 3가지 메서드 모두에 접근할 수 있습니다.\n",
    "- 하지만 인스턴스에서 클래스메서드와 스태틱메서드는 호출하지 않아야 합니다. (가능하다 != 사용한다) \n",
    "- 인스턴스가 할 행동은 모두 인스턴스 메서드로 한정 지어서 설계합니다."
   ]
  },
  {
   "cell_type": "markdown",
   "metadata": {},
   "source": [
    "---"
   ]
  },
  {
   "cell_type": "code",
   "execution_count": null,
   "metadata": {},
   "outputs": [],
   "source": [
    "# 클래스 입장에서 확인해 봅시다."
   ]
  },
  {
   "cell_type": "code",
   "execution_count": 4,
   "metadata": {},
   "outputs": [
    {
     "data": {
      "text/plain": [
       "<__main__.MyClass at 0x104db90>"
      ]
     },
     "execution_count": 4,
     "metadata": {},
     "output_type": "execute_result"
    }
   ],
   "source": [
    "class MyClass:\n",
    "    def instance_method(self):\n",
    "        return self\n",
    "\n",
    "    @classmethod\n",
    "    def class_method(cls):\n",
    "        return cls\n",
    "        #         return f'저는 클래스 메서드입니다. 저를 호출한 사람은 {cls}입니다.'\n",
    "\n",
    "    @staticmethod\n",
    "    def static_method():\n",
    "        return '저는 스태틱 메서드입니다.'\n",
    "    # 스태틱 메서드는 자기 자신이 들어오지 않는다.\n",
    "    # 클래스가 쉐어는 하되, 마치 이름 공간처럼 써서 ,  연관없는 얘들이 많이 들어간다.(단순 기능적인 부분, 연산적인 부분이 들어간다.) ##$$??\n",
    "    # 뭐든지 안 넘어온다. - 클래스 메서드처럼.. \n",
    "    \n",
    "# mc = MyClass()\n",
    "# mc.instance_method()\n",
    "\n",
    "# MyClass.class_method() # 클래스 자기 자신이 우리들 모르게 첫번째 인자로 넣은 것이다. : 따라서 첫번쨰 인자가 뭔지 알려주기 위해서 cls를 클래스 정의부에 arg로 추가한다.\n",
    "# # 에러가 난다.\n",
    "\n",
    "mc = MyClass()\n",
    "MyClass.instance_method(mc)\n",
    "\n",
    "# class입장에서 클래스가 부르는 MyClass 메서드를...\n"
   ]
  },
  {
   "cell_type": "code",
   "execution_count": null,
   "metadata": {},
   "outputs": [],
   "source": []
  },
  {
   "cell_type": "code",
   "execution_count": null,
   "metadata": {},
   "outputs": [],
   "source": []
  },
  {
   "cell_type": "code",
   "execution_count": 44,
   "metadata": {},
   "outputs": [],
   "source": [
    "# 스스로 만들 수도 있으면서, 어떤 게 담겨 있는지 유추할 수도 있다.\n",
    "# python turtle\n",
    "import turtle\n",
    "\n",
    "    turtle.forward(100)\n",
    "    turtle.right(90)\n",
    "    turtle.forward(100)\n",
    "    turtle.right(90)\n",
    "    turtle.forward(100)\n",
    "    turtle.right(90)\n",
    "    turtle.forward(100)\n",
    "    turtle.right(90)\n"
   ]
  },
  {
   "cell_type": "code",
   "execution_count": 3,
   "metadata": {},
   "outputs": [
    {
     "ename": "KeyboardInterrupt",
     "evalue": "",
     "output_type": "error",
     "traceback": [
      "\u001b[1;31m---------------------------------------------------------------------------\u001b[0m",
      "\u001b[1;31mKeyboardInterrupt\u001b[0m                         Traceback (most recent call last)",
      "\u001b[1;32m<ipython-input-3-de0c2cc75b94>\u001b[0m in \u001b[0;36m<module>\u001b[1;34m\u001b[0m\n\u001b[0;32m     41\u001b[0m     \u001b[0mggobugi\u001b[0m\u001b[1;33m.\u001b[0m\u001b[0mright\u001b[0m\u001b[1;33m(\u001b[0m\u001b[1;36m5\u001b[0m\u001b[1;33m)\u001b[0m\u001b[1;33m\u001b[0m\u001b[1;33m\u001b[0m\u001b[0m\n\u001b[0;32m     42\u001b[0m \u001b[1;33m\u001b[0m\u001b[0m\n\u001b[1;32m---> 43\u001b[1;33m     \u001b[0mmake_square\u001b[0m\u001b[1;33m(\u001b[0m\u001b[0munibugi\u001b[0m\u001b[1;33m)\u001b[0m\u001b[1;33m\u001b[0m\u001b[1;33m\u001b[0m\u001b[0m\n\u001b[0m\u001b[0;32m     44\u001b[0m     \u001b[0munibugi\u001b[0m\u001b[1;33m.\u001b[0m\u001b[0mright\u001b[0m\u001b[1;33m(\u001b[0m\u001b[1;36m5\u001b[0m\u001b[1;33m)\u001b[0m\u001b[1;33m\u001b[0m\u001b[1;33m\u001b[0m\u001b[0m\n\u001b[0;32m     45\u001b[0m \u001b[1;33m\u001b[0m\u001b[0m\n",
      "\u001b[1;32m<ipython-input-2-24ea4358a5b5>\u001b[0m in \u001b[0;36mmake_square\u001b[1;34m(turtle)\u001b[0m\n\u001b[0;32m      4\u001b[0m     \u001b[0mturtle\u001b[0m\u001b[1;33m.\u001b[0m\u001b[0mright\u001b[0m\u001b[1;33m(\u001b[0m\u001b[1;36m90\u001b[0m\u001b[1;33m)\u001b[0m\u001b[1;33m\u001b[0m\u001b[1;33m\u001b[0m\u001b[0m\n\u001b[0;32m      5\u001b[0m     \u001b[0mturtle\u001b[0m\u001b[1;33m.\u001b[0m\u001b[0mforward\u001b[0m\u001b[1;33m(\u001b[0m\u001b[1;36m100\u001b[0m\u001b[1;33m)\u001b[0m\u001b[1;33m\u001b[0m\u001b[1;33m\u001b[0m\u001b[0m\n\u001b[1;32m----> 6\u001b[1;33m     \u001b[0mturtle\u001b[0m\u001b[1;33m.\u001b[0m\u001b[0mright\u001b[0m\u001b[1;33m(\u001b[0m\u001b[1;36m90\u001b[0m\u001b[1;33m)\u001b[0m\u001b[1;33m\u001b[0m\u001b[1;33m\u001b[0m\u001b[0m\n\u001b[0m\u001b[0;32m      7\u001b[0m     \u001b[0mturtle\u001b[0m\u001b[1;33m.\u001b[0m\u001b[0mforward\u001b[0m\u001b[1;33m(\u001b[0m\u001b[1;36m100\u001b[0m\u001b[1;33m)\u001b[0m\u001b[1;33m\u001b[0m\u001b[1;33m\u001b[0m\u001b[0m\n\u001b[0;32m      8\u001b[0m     \u001b[0mturtle\u001b[0m\u001b[1;33m.\u001b[0m\u001b[0mright\u001b[0m\u001b[1;33m(\u001b[0m\u001b[1;36m90\u001b[0m\u001b[1;33m)\u001b[0m\u001b[1;33m\u001b[0m\u001b[1;33m\u001b[0m\u001b[0m\n",
      "\u001b[1;32mc:\\users\\student\\appdata\\local\\programs\\python\\python37-32\\lib\\turtle.py\u001b[0m in \u001b[0;36mright\u001b[1;34m(self, angle)\u001b[0m\n\u001b[0;32m   1676\u001b[0m         \u001b[1;36m337.0\u001b[0m\u001b[1;33m\u001b[0m\u001b[1;33m\u001b[0m\u001b[0m\n\u001b[0;32m   1677\u001b[0m         \"\"\"\n\u001b[1;32m-> 1678\u001b[1;33m         \u001b[0mself\u001b[0m\u001b[1;33m.\u001b[0m\u001b[0m_rotate\u001b[0m\u001b[1;33m(\u001b[0m\u001b[1;33m-\u001b[0m\u001b[0mangle\u001b[0m\u001b[1;33m)\u001b[0m\u001b[1;33m\u001b[0m\u001b[1;33m\u001b[0m\u001b[0m\n\u001b[0m\u001b[0;32m   1679\u001b[0m \u001b[1;33m\u001b[0m\u001b[0m\n\u001b[0;32m   1680\u001b[0m     \u001b[1;32mdef\u001b[0m \u001b[0mleft\u001b[0m\u001b[1;33m(\u001b[0m\u001b[0mself\u001b[0m\u001b[1;33m,\u001b[0m \u001b[0mangle\u001b[0m\u001b[1;33m)\u001b[0m\u001b[1;33m:\u001b[0m\u001b[1;33m\u001b[0m\u001b[1;33m\u001b[0m\u001b[0m\n",
      "\u001b[1;32mc:\\users\\student\\appdata\\local\\programs\\python\\python37-32\\lib\\turtle.py\u001b[0m in \u001b[0;36m_rotate\u001b[1;34m(self, angle)\u001b[0m\n\u001b[0;32m   3274\u001b[0m             \u001b[1;32mfor\u001b[0m \u001b[0m_\u001b[0m \u001b[1;32min\u001b[0m \u001b[0mrange\u001b[0m\u001b[1;33m(\u001b[0m\u001b[0msteps\u001b[0m\u001b[1;33m)\u001b[0m\u001b[1;33m:\u001b[0m\u001b[1;33m\u001b[0m\u001b[1;33m\u001b[0m\u001b[0m\n\u001b[0;32m   3275\u001b[0m                 \u001b[0mself\u001b[0m\u001b[1;33m.\u001b[0m\u001b[0m_orient\u001b[0m \u001b[1;33m=\u001b[0m \u001b[0mself\u001b[0m\u001b[1;33m.\u001b[0m\u001b[0m_orient\u001b[0m\u001b[1;33m.\u001b[0m\u001b[0mrotate\u001b[0m\u001b[1;33m(\u001b[0m\u001b[0mdelta\u001b[0m\u001b[1;33m)\u001b[0m\u001b[1;33m\u001b[0m\u001b[1;33m\u001b[0m\u001b[0m\n\u001b[1;32m-> 3276\u001b[1;33m                 \u001b[0mself\u001b[0m\u001b[1;33m.\u001b[0m\u001b[0m_update\u001b[0m\u001b[1;33m(\u001b[0m\u001b[1;33m)\u001b[0m\u001b[1;33m\u001b[0m\u001b[1;33m\u001b[0m\u001b[0m\n\u001b[0m\u001b[0;32m   3277\u001b[0m         \u001b[0mself\u001b[0m\u001b[1;33m.\u001b[0m\u001b[0m_orient\u001b[0m \u001b[1;33m=\u001b[0m \u001b[0mneworient\u001b[0m\u001b[1;33m\u001b[0m\u001b[1;33m\u001b[0m\u001b[0m\n\u001b[0;32m   3278\u001b[0m         \u001b[0mself\u001b[0m\u001b[1;33m.\u001b[0m\u001b[0m_update\u001b[0m\u001b[1;33m(\u001b[0m\u001b[1;33m)\u001b[0m\u001b[1;33m\u001b[0m\u001b[1;33m\u001b[0m\u001b[0m\n",
      "\u001b[1;32mc:\\users\\student\\appdata\\local\\programs\\python\\python37-32\\lib\\turtle.py\u001b[0m in \u001b[0;36m_update\u001b[1;34m(self)\u001b[0m\n\u001b[0;32m   2661\u001b[0m             \u001b[0mself\u001b[0m\u001b[1;33m.\u001b[0m\u001b[0m_drawturtle\u001b[0m\u001b[1;33m(\u001b[0m\u001b[1;33m)\u001b[0m\u001b[1;33m\u001b[0m\u001b[1;33m\u001b[0m\u001b[0m\n\u001b[0;32m   2662\u001b[0m             \u001b[0mscreen\u001b[0m\u001b[1;33m.\u001b[0m\u001b[0m_update\u001b[0m\u001b[1;33m(\u001b[0m\u001b[1;33m)\u001b[0m                  \u001b[1;31m# TurtleScreenBase\u001b[0m\u001b[1;33m\u001b[0m\u001b[1;33m\u001b[0m\u001b[0m\n\u001b[1;32m-> 2663\u001b[1;33m             \u001b[0mscreen\u001b[0m\u001b[1;33m.\u001b[0m\u001b[0m_delay\u001b[0m\u001b[1;33m(\u001b[0m\u001b[0mscreen\u001b[0m\u001b[1;33m.\u001b[0m\u001b[0m_delayvalue\u001b[0m\u001b[1;33m)\u001b[0m \u001b[1;31m# TurtleScreenBase\u001b[0m\u001b[1;33m\u001b[0m\u001b[1;33m\u001b[0m\u001b[0m\n\u001b[0m\u001b[0;32m   2664\u001b[0m         \u001b[1;32melse\u001b[0m\u001b[1;33m:\u001b[0m\u001b[1;33m\u001b[0m\u001b[1;33m\u001b[0m\u001b[0m\n\u001b[0;32m   2665\u001b[0m             \u001b[0mself\u001b[0m\u001b[1;33m.\u001b[0m\u001b[0m_update_data\u001b[0m\u001b[1;33m(\u001b[0m\u001b[1;33m)\u001b[0m\u001b[1;33m\u001b[0m\u001b[1;33m\u001b[0m\u001b[0m\n",
      "\u001b[1;32mc:\\users\\student\\appdata\\local\\programs\\python\\python37-32\\lib\\turtle.py\u001b[0m in \u001b[0;36m_delay\u001b[1;34m(self, delay)\u001b[0m\n\u001b[0;32m    564\u001b[0m     \u001b[1;32mdef\u001b[0m \u001b[0m_delay\u001b[0m\u001b[1;33m(\u001b[0m\u001b[0mself\u001b[0m\u001b[1;33m,\u001b[0m \u001b[0mdelay\u001b[0m\u001b[1;33m)\u001b[0m\u001b[1;33m:\u001b[0m\u001b[1;33m\u001b[0m\u001b[1;33m\u001b[0m\u001b[0m\n\u001b[0;32m    565\u001b[0m         \u001b[1;34m\"\"\"Delay subsequent canvas actions for delay ms.\"\"\"\u001b[0m\u001b[1;33m\u001b[0m\u001b[1;33m\u001b[0m\u001b[0m\n\u001b[1;32m--> 566\u001b[1;33m         \u001b[0mself\u001b[0m\u001b[1;33m.\u001b[0m\u001b[0mcv\u001b[0m\u001b[1;33m.\u001b[0m\u001b[0mafter\u001b[0m\u001b[1;33m(\u001b[0m\u001b[0mdelay\u001b[0m\u001b[1;33m)\u001b[0m\u001b[1;33m\u001b[0m\u001b[1;33m\u001b[0m\u001b[0m\n\u001b[0m\u001b[0;32m    567\u001b[0m \u001b[1;33m\u001b[0m\u001b[0m\n\u001b[0;32m    568\u001b[0m     \u001b[1;32mdef\u001b[0m \u001b[0m_iscolorstring\u001b[0m\u001b[1;33m(\u001b[0m\u001b[0mself\u001b[0m\u001b[1;33m,\u001b[0m \u001b[0mcolor\u001b[0m\u001b[1;33m)\u001b[0m\u001b[1;33m:\u001b[0m\u001b[1;33m\u001b[0m\u001b[1;33m\u001b[0m\u001b[0m\n",
      "\u001b[1;32mc:\\users\\student\\appdata\\local\\programs\\python\\python37-32\\lib\\tkinter\\__init__.py\u001b[0m in \u001b[0;36mafter\u001b[1;34m(self, ms, func, *args)\u001b[0m\n\u001b[0;32m    742\u001b[0m         \u001b[1;32mif\u001b[0m \u001b[1;32mnot\u001b[0m \u001b[0mfunc\u001b[0m\u001b[1;33m:\u001b[0m\u001b[1;33m\u001b[0m\u001b[1;33m\u001b[0m\u001b[0m\n\u001b[0;32m    743\u001b[0m             \u001b[1;31m# I'd rather use time.sleep(ms*0.001)\u001b[0m\u001b[1;33m\u001b[0m\u001b[1;33m\u001b[0m\u001b[1;33m\u001b[0m\u001b[0m\n\u001b[1;32m--> 744\u001b[1;33m             \u001b[0mself\u001b[0m\u001b[1;33m.\u001b[0m\u001b[0mtk\u001b[0m\u001b[1;33m.\u001b[0m\u001b[0mcall\u001b[0m\u001b[1;33m(\u001b[0m\u001b[1;34m'after'\u001b[0m\u001b[1;33m,\u001b[0m \u001b[0mms\u001b[0m\u001b[1;33m)\u001b[0m\u001b[1;33m\u001b[0m\u001b[1;33m\u001b[0m\u001b[0m\n\u001b[0m\u001b[0;32m    745\u001b[0m             \u001b[1;32mreturn\u001b[0m \u001b[1;32mNone\u001b[0m\u001b[1;33m\u001b[0m\u001b[1;33m\u001b[0m\u001b[0m\n\u001b[0;32m    746\u001b[0m         \u001b[1;32melse\u001b[0m\u001b[1;33m:\u001b[0m\u001b[1;33m\u001b[0m\u001b[1;33m\u001b[0m\u001b[0m\n",
      "\u001b[1;31mKeyboardInterrupt\u001b[0m: "
     ]
    }
   ],
   "source": [
    "import turtle\n",
    "turtle.speed(3)\n",
    "turtle.forward(100)\n",
    "\n",
    "turtle.speed(3)\n",
    "turtle.shape('turtle')\n",
    "turtle.width(10)\n",
    "\n",
    "\n",
    "turtle.forward(100)\n",
    "turtle.right(90)\n",
    "turtle.forward(100)\n",
    "turtle.right(90)\n",
    "turtle.forward(100)\n",
    "turtle.right(90)\n",
    "turtle.forward(100)\n",
    "turtle.right(90)\n",
    "\n",
    "ggobugi = turtle.Turtle()\n",
    "ggobugi.setposition(-50, -50)\n",
    "ggobugi.shape('turtle')\n",
    "ggobugi.color('red')\n",
    "ggobugi.speed(3)\n",
    "\n",
    "unibugi = turtle.Turtle()\n",
    "unibugi.setposition(50, 50)\n",
    "unibugi.shape('turtle')\n",
    "unibugi.color('green')\n",
    "unibugi.speed(3)\n",
    "\n",
    "turtle_king = turtle.Turtle()\n",
    "turtle_king.setposition(0, 0)\n",
    "turtle_king.shape('turtle')\n",
    "turtle_king.color('blue')\n",
    "turtle_king.speed(3)\n",
    "\n",
    "\n",
    "\n",
    "for i in range(200):\n",
    "    make_square(ggobugi)\n",
    "    ggobugi.right(5)\n",
    "    \n",
    "    make_square(unibugi)\n",
    "    unibugi.right(5)\n",
    "    \n",
    "    make_square(turtle_king)\n",
    "    turtle_king.right(5)\n",
    "    "
   ]
  },
  {
   "cell_type": "code",
   "execution_count": 2,
   "metadata": {},
   "outputs": [],
   "source": [
    "import turtle\n",
    "def make_square(turtle):\n",
    "    turtle.forward(100)\n",
    "    turtle.right(90)\n",
    "    turtle.forward(100)\n",
    "    turtle.right(90)\n",
    "    turtle.forward(100)\n",
    "    turtle.right(90)\n",
    "    turtle.forward(100)\n",
    "    turtle.right(90)"
   ]
  },
  {
   "cell_type": "code",
   "execution_count": 5,
   "metadata": {},
   "outputs": [],
   "source": [
    "turtle.speed(0.5)\n",
    "make_square()"
   ]
  },
  {
   "cell_type": "code",
   "execution_count": 8,
   "metadata": {},
   "outputs": [],
   "source": [
    "from turtle import *\n",
    "color('red', 'yellow')\n",
    "begin_fill()\n",
    "while True:\n",
    "    forward(200)\n",
    "    left(170)\n",
    "    if abs(pos()) < 1:\n",
    "        break\n",
    "end_fill()\n",
    "done()"
   ]
  },
  {
   "cell_type": "code",
   "execution_count": null,
   "metadata": {},
   "outputs": [],
   "source": [
    "from turtle import *\n",
    "from random import randint\n",
    "bgcolor"
   ]
  },
  {
   "cell_type": "code",
   "execution_count": null,
   "metadata": {},
   "outputs": [],
   "source": [
    "# turtle은 객체다.\n",
    "\n"
   ]
  },
  {
   "cell_type": "code",
   "execution_count": 1,
   "metadata": {},
   "outputs": [],
   "source": [
    "from turtle import *\n",
    "from random import randint\n",
    "bgcolor('black')\n",
    "x = 1\n",
    "speed(0)\n",
    "while x < 400:\n",
    "\n",
    "    r = randint(0,255)\n",
    "    g = randint(0,255) \n",
    "    b = randint(0,255)\n",
    "\n",
    "    colormode(255) \n",
    "    pencolor(r,g,b)\n",
    "    fd(50 + x)\n",
    "    rt(90.991)\n",
    "    x = x+1\n",
    "\n",
    "exitonclick()"
   ]
  },
  {
   "cell_type": "code",
   "execution_count": 3,
   "metadata": {},
   "outputs": [],
   "source": [
    "import turtle\n",
    "colors = ['red', 'purple', 'blue', 'green', 'orange', 'yellow']\n",
    "t = turtle.Pen()\n",
    "#AbhijithPrakash\n",
    "turtle.bgcolor('black')\n",
    "for x in range(360): #code By ABHIJITHPRAKASH\n",
    "    t.pencolor(colors[x%6])\n",
    "    t.width(x/100 + 1)\n",
    "    t.forward(x)\n",
    "    t.left(29) # 59, 119"
   ]
  },
  {
   "cell_type": "code",
   "execution_count": null,
   "metadata": {},
   "outputs": [],
   "source": [
    "import turtle\n",
    "colors = ['red', 'purple', 'blue', 'green', 'orange', 'yellow']\n",
    "t = turtle.Pen()\n",
    "\n",
    "turtle.bgcolor('white')\n",
    "for int\n",
    "# 대칭형 모양\n",
    "\n",
    "# circle\n",
    "\n",
    "t.pencolor(colors[x%6])\n",
    "t.width(x/100 + 1)\n",
    "t.forward(x)\n",
    "\n",
    "\n",
    "\n",
    "\n",
    "\n",
    "\n",
    "\n"
   ]
  },
  {
   "cell_type": "code",
   "execution_count": null,
   "metadata": {},
   "outputs": [],
   "source": []
  },
  {
   "cell_type": "markdown",
   "metadata": {},
   "source": [
    "#### 정리\n",
    "- 클래스는, 3가지 메서드 모두에 접근할 수 있습니다.\n",
    "- 하지만 클래스에서 인스턴스메서드는 호출하지 않습니다. (가능하다 != 사용한다)\n",
    "- 클래스가 할 행동은 다음 원칙에 따라 설계합니다.\n",
    "    - 클래스 자체(`cls`)와 그 속성에 접근할 필요가 있다면 클래스메서드로 정의합니다.\n",
    "    - 클래스와 클래스 속성에 접근할 필요가 없다면 스태틱메서드로 정의합니다."
   ]
  },
  {
   "cell_type": "markdown",
   "metadata": {},
   "source": [
    "---"
   ]
  },
  {
   "cell_type": "code",
   "execution_count": 2,
   "metadata": {
    "scrolled": true
   },
   "outputs": [],
   "source": [
    "# Person 클래스가 인사할 수 있는지 확인해보겠습니다."
   ]
  },
  {
   "cell_type": "code",
   "execution_count": 158,
   "metadata": {
    "scrolled": true
   },
   "outputs": [
    {
     "name": "stdout",
     "output_type": "stream",
     "text": [
      "person이 타계하였습니다.\n",
      "person\n",
      "허허이 타계하였습니다.\n",
      "person\n",
      "현재 인구는 0입니다.\n",
      "현재 인구는 0입니다.\n"
     ]
    }
   ],
   "source": [
    "class Person:\n",
    "    population = 0\n",
    "    name = 'person'\n",
    "    def __init__(self, name=Person.name): #, name=None\n",
    "        self.name = name\n",
    "        Person.population += 1\n",
    "    \n",
    "    def __del__(self):\n",
    "        print(f'{self.name}이 타계하였습니다.')\n",
    "        Person.population -= 1\n",
    "    # class로도 다 접근 가능하고, instance로도 모두 접근 가능하므로... ***\n",
    "    \n",
    "    def greeting(self):\n",
    "        print(f'안녕하세요 저는 {self.name}입니다.')\n",
    "    \n",
    "    @staticmethod\n",
    "#     def show_population(cls): # 객체로 인식\n",
    "#         print(f'현재 인구는 {cls.population}입니다.')\n",
    "    def show_population(): # 객체로 인식\n",
    "        print(f'현재 인구는 {Person.population}입니다.')\n",
    "\n",
    "# john = Person('john')\n",
    "# ashley = Person('ashley')\n",
    "# abe = Person('abe')\n",
    "\n",
    "\n",
    "\n",
    "# john.greeting()\n",
    "# ashley.greeting()\n",
    "# abe.greeting()\n",
    "\n",
    "nonName = Person()\n",
    "\n",
    "print(nonName.name)\n",
    "\n",
    "\n",
    "nonName2 = Person(\"허허\")\n",
    "print(nonName.name)\n",
    "\n",
    "\n",
    "Person.show_population()\n",
    "              \n",
    "# del abe\n",
    "              \n",
    "Person.show_population()\n",
    "\n",
    "# del 이 들어가면 한박자 꼬임 : 이유는?? tutor돌려보기"
   ]
  },
  {
   "cell_type": "markdown",
   "metadata": {},
   "source": [
    "### 실습 : Puppy class\n",
    "> 1. 클래스 변수 num_of_dogs 통해 개가 생성될 때마다 증가시키도록 하겠습니다. \n",
    "> 2. 개들은 각자의 이름과 나이를 가지고 있습니다. \n",
    "> 3. 그리고 bark() 메서드를 통해 짖을 수 있습니다. "
   ]
  },
  {
   "cell_type": "code",
   "execution_count": 45,
   "metadata": {},
   "outputs": [],
   "source": [
    "class Puppy:\n",
    "    num_of_dogs = 0\n",
    "    def __init__(self, name, age):\n",
    "        self.name = name\n",
    "        self.age = age\n",
    "        Puppy.num_of_dogs += 1\n",
    "        \n",
    "    def __del__(self):\n",
    "        print(f'{self.name}가(이) 세상을 떠났습니다.')\n",
    "        Puppy.num_of_dogs-= 1\n",
    "        \n",
    "    def bark(self):\n",
    "        print( f'{self.name}가(이) 짓습니다: 멍멍!' )\n",
    "        \n",
    "    @classmethod\n",
    "    def show_dogs(cls):\n",
    "        print(f'현재 강아지의 수는 {cls.num_of_dogs} 마리 입니다.')\n",
    "        \n",
    "    @staticmethod\n",
    "    def info():\n",
    "        print('Dog 클래스는 강아지를 만들어주는 클래스로, Dog()인자로는 name과 age를 받습니다.')"
   ]
  },
  {
   "cell_type": "code",
   "execution_count": 46,
   "metadata": {},
   "outputs": [
    {
     "name": "stdout",
     "output_type": "stream",
     "text": [
      "초코가(이) 세상을 떠났습니다.\n",
      "시바가(이) 세상을 떠났습니다.\n",
      "농농이가(이) 세상을 떠났습니다.\n"
     ]
    }
   ],
   "source": [
    "# 각각 이름과 나이가 다른 인스턴스를 3개 만들어봅시다.\n",
    "d1 = Puppy( '초코', 1)\n",
    "d2 = Puppy( '시바', 3 )\n",
    "d3 = Puppy( '농농이', 13)"
   ]
  },
  {
   "cell_type": "code",
   "execution_count": 47,
   "metadata": {},
   "outputs": [
    {
     "name": "stdout",
     "output_type": "stream",
     "text": [
      "초코가(이) 짓습니다: 멍멍!\n",
      "시바가(이) 짓습니다: 멍멍!\n",
      "농농이가(이) 짓습니다: 멍멍!\n"
     ]
    }
   ],
   "source": [
    "d1.bark()\n",
    "d2.bark()\n",
    "d3.bark()"
   ]
  },
  {
   "cell_type": "code",
   "execution_count": 48,
   "metadata": {},
   "outputs": [
    {
     "name": "stdout",
     "output_type": "stream",
     "text": [
      "Dog 클래스는 강아지를 만들어주는 클래스로, Dog()인자로는 name과 age를 받습니다.\n"
     ]
    },
    {
     "data": {
      "text/plain": [
       "['__class__',\n",
       " '__del__',\n",
       " '__delattr__',\n",
       " '__dict__',\n",
       " '__dir__',\n",
       " '__doc__',\n",
       " '__eq__',\n",
       " '__format__',\n",
       " '__ge__',\n",
       " '__getattribute__',\n",
       " '__gt__',\n",
       " '__hash__',\n",
       " '__init__',\n",
       " '__init_subclass__',\n",
       " '__le__',\n",
       " '__lt__',\n",
       " '__module__',\n",
       " '__ne__',\n",
       " '__new__',\n",
       " '__reduce__',\n",
       " '__reduce_ex__',\n",
       " '__repr__',\n",
       " '__setattr__',\n",
       " '__sizeof__',\n",
       " '__str__',\n",
       " '__subclasshook__',\n",
       " '__weakref__',\n",
       " 'bark',\n",
       " 'info',\n",
       " 'num_of_dogs',\n",
       " 'show_dogs']"
      ]
     },
     "execution_count": 48,
     "metadata": {},
     "output_type": "execute_result"
    }
   ],
   "source": [
    "d1.info()\n",
    "\n",
    "\n",
    "dir(Puppy)"
   ]
  },
  {
   "cell_type": "code",
   "execution_count": 49,
   "metadata": {},
   "outputs": [
    {
     "ename": "TypeError",
     "evalue": "show_dogs() takes 1 positional argument but 2 were given",
     "output_type": "error",
     "traceback": [
      "\u001b[1;31m---------------------------------------------------------------------------\u001b[0m",
      "\u001b[1;31mTypeError\u001b[0m                                 Traceback (most recent call last)",
      "\u001b[1;32m<ipython-input-49-b24baefb140c>\u001b[0m in \u001b[0;36m<module>\u001b[1;34m\u001b[0m\n\u001b[1;32m----> 1\u001b[1;33m \u001b[0mPuppy\u001b[0m\u001b[1;33m.\u001b[0m\u001b[0mshow_dogs\u001b[0m\u001b[1;33m(\u001b[0m\u001b[0mPuppy\u001b[0m\u001b[1;33m)\u001b[0m\u001b[1;33m\u001b[0m\u001b[1;33m\u001b[0m\u001b[0m\n\u001b[0m",
      "\u001b[1;31mTypeError\u001b[0m: show_dogs() takes 1 positional argument but 2 were given"
     ]
    }
   ],
   "source": [
    "Puppy.show_dogs(Puppy)"
   ]
  },
  {
   "cell_type": "code",
   "execution_count": null,
   "metadata": {},
   "outputs": [],
   "source": []
  },
  {
   "cell_type": "code",
   "execution_count": 89,
   "metadata": {},
   "outputs": [
    {
     "name": "stdout",
     "output_type": "stream",
     "text": [
      "john이 타계하였습니다.\n",
      "ashley이 타계하였습니다.\n",
      "abe이 타계하였습니다.\n",
      "안녕하세요 저는 john입니다.\n",
      "안녕하세요 저는 ashley입니다.\n",
      "안녕하세요 저는 abe입니다.\n"
     ]
    },
    {
     "ename": "NameError",
     "evalue": "name 'cls' is not defined",
     "output_type": "error",
     "traceback": [
      "\u001b[1;31m---------------------------------------------------------------------------\u001b[0m",
      "\u001b[1;31mNameError\u001b[0m                                 Traceback (most recent call last)",
      "\u001b[1;32m<ipython-input-89-111bd3d1a6de>\u001b[0m in \u001b[0;36m<module>\u001b[1;34m\u001b[0m\n\u001b[0;32m     29\u001b[0m \u001b[0mabe\u001b[0m\u001b[1;33m.\u001b[0m\u001b[0mgreeting\u001b[0m\u001b[1;33m(\u001b[0m\u001b[1;33m)\u001b[0m\u001b[1;33m\u001b[0m\u001b[1;33m\u001b[0m\u001b[0m\n\u001b[0;32m     30\u001b[0m \u001b[1;33m\u001b[0m\u001b[0m\n\u001b[1;32m---> 31\u001b[1;33m \u001b[0mPerson\u001b[0m\u001b[1;33m.\u001b[0m\u001b[0mshow_population\u001b[0m\u001b[1;33m(\u001b[0m\u001b[1;33m)\u001b[0m\u001b[1;33m\u001b[0m\u001b[1;33m\u001b[0m\u001b[0m\n\u001b[0m\u001b[0;32m     32\u001b[0m \u001b[1;33m\u001b[0m\u001b[0m\n\u001b[0;32m     33\u001b[0m \u001b[1;32mdel\u001b[0m \u001b[0mabe\u001b[0m\u001b[1;33m\u001b[0m\u001b[1;33m\u001b[0m\u001b[0m\n",
      "\u001b[1;32m<ipython-input-89-111bd3d1a6de>\u001b[0m in \u001b[0;36mshow_population\u001b[1;34m()\u001b[0m\n\u001b[0;32m     15\u001b[0m     \u001b[1;33m@\u001b[0m\u001b[0mstaticmethod\u001b[0m\u001b[1;33m\u001b[0m\u001b[1;33m\u001b[0m\u001b[0m\n\u001b[0;32m     16\u001b[0m     \u001b[1;32mdef\u001b[0m \u001b[0mshow_population\u001b[0m\u001b[1;33m(\u001b[0m\u001b[1;33m)\u001b[0m\u001b[1;33m:\u001b[0m\u001b[1;33m\u001b[0m\u001b[1;33m\u001b[0m\u001b[0m\n\u001b[1;32m---> 17\u001b[1;33m         \u001b[0mprint\u001b[0m\u001b[1;33m(\u001b[0m\u001b[1;34mf'현재 인구는 {cls.population}입니다.'\u001b[0m\u001b[1;33m)\u001b[0m\u001b[1;33m\u001b[0m\u001b[1;33m\u001b[0m\u001b[0m\n\u001b[0m\u001b[0;32m     18\u001b[0m \u001b[1;31m#         print(f'현재 인구는 {person.population}입니다.')\u001b[0m\u001b[1;33m\u001b[0m\u001b[1;33m\u001b[0m\u001b[1;33m\u001b[0m\u001b[0m\n\u001b[0;32m     19\u001b[0m \u001b[1;33m\u001b[0m\u001b[0m\n",
      "\u001b[1;31mNameError\u001b[0m: name 'cls' is not defined"
     ]
    }
   ],
   "source": [
    "class Person:\n",
    "    population = 0\n",
    "    def __init__(self, name):\n",
    "        self.name = name\n",
    "        Person.population += 1\n",
    "    \n",
    "    def __del__(self):\n",
    "        print(f'{self.name}이 타계하였습니다.')\n",
    "        Person.population -= 1\n",
    "    # class로도 다 접근 가능하고, instance로도 모두 접근 가능하므로... ***\n",
    "    \n",
    "    def greeting(self):\n",
    "        print(f'안녕하세요 저는 {self.name}입니다.')\n",
    "    \n",
    "    @staticmethod\n",
    "    def show_population():\n",
    "        print(f'현재 인구는 {cls.population}입니다.')\n",
    "#         print(f'현재 인구는 {person.population}입니다.')\n",
    "\n",
    "##$$Q>\n",
    "\n",
    "\n",
    "john = Person('john')\n",
    "ashley = Person('ashley')\n",
    "abe = Person('abe')\n",
    "              \n",
    "john.greeting()\n",
    "ashley.greeting()\n",
    "abe.greeting()\n",
    "              \n",
    "Person.show_population()\n",
    "              \n",
    "del abe\n",
    "              \n",
    "Person.show_population()"
   ]
  },
  {
   "cell_type": "markdown",
   "metadata": {},
   "source": [
    "* 클래스메서드는 다음과 같이 정의됩니다.\n",
    "\n",
    "```python\n",
    "\n",
    "@classmethod\n",
    "def methodname(cls):\n",
    "    codeblock\n",
    "```"
   ]
  },
  {
   "cell_type": "code",
   "execution_count": null,
   "metadata": {},
   "outputs": [],
   "source": [
    "# Doggy 클래스의 속성에 접근하는 클래스메서드를 생성해 보겠습니다."
   ]
  },
  {
   "cell_type": "code",
   "execution_count": null,
   "metadata": {},
   "outputs": [],
   "source": []
  },
  {
   "cell_type": "code",
   "execution_count": null,
   "metadata": {},
   "outputs": [],
   "source": [
    "# Dog 3 마리를 만들어보고,"
   ]
  },
  {
   "cell_type": "code",
   "execution_count": null,
   "metadata": {},
   "outputs": [],
   "source": []
  },
  {
   "cell_type": "code",
   "execution_count": null,
   "metadata": {},
   "outputs": [],
   "source": [
    "# 함수를 호출해봅시다."
   ]
  },
  {
   "cell_type": "code",
   "execution_count": null,
   "metadata": {},
   "outputs": [],
   "source": [
    "##$$Q>"
   ]
  },
  {
   "cell_type": "code",
   "execution_count": null,
   "metadata": {},
   "outputs": [],
   "source": []
  },
  {
   "cell_type": "markdown",
   "metadata": {},
   "source": [
    "* 스태틱메서드는 다음과 같이 정의됩니다.\n",
    "\n",
    "```python\n",
    "\n",
    "@staticmethod\n",
    "def methodname():\n",
    "    codeblock\n",
    "```"
   ]
  },
  {
   "cell_type": "code",
   "execution_count": null,
   "metadata": {},
   "outputs": [],
   "source": [
    "# Dog 에 어떠한 속성에도 접근하지 않는 스태틱메서드를 만들어보겠습니다."
   ]
  },
  {
   "cell_type": "code",
   "execution_count": null,
   "metadata": {},
   "outputs": [],
   "source": []
  },
  {
   "cell_type": "code",
   "execution_count": null,
   "metadata": {},
   "outputs": [],
   "source": [
    "# Dog 3 마리를 만들어보고,"
   ]
  },
  {
   "cell_type": "code",
   "execution_count": null,
   "metadata": {},
   "outputs": [],
   "source": []
  },
  {
   "cell_type": "code",
   "execution_count": null,
   "metadata": {
    "scrolled": true
   },
   "outputs": [],
   "source": [
    "# 함수를 호출해봅시다."
   ]
  },
  {
   "cell_type": "code",
   "execution_count": null,
   "metadata": {
    "scrolled": true
   },
   "outputs": [],
   "source": []
  },
  {
   "cell_type": "markdown",
   "metadata": {},
   "source": [
    "## 실습문제 - 스태틱(정적) 메소드\n",
    "\n",
    "> 계산기 class인 `Calculator`를 만들어봅시다.\n",
    "\n",
    "* 다음과 같이 정적 메소드를 구성한다. \n",
    "* 모든 정적 메서드는, 두 수를 받아서 각각의 연산을 한 결과를 리턴한다.\n",
    "* `a` 연산자 `b` 의 순서로 연산한다. (`a - b`, `a / b`)\n",
    "    1. `add(a, b)` : 덧셈\n",
    "    2. `sub(a, b)` : 뺄셈 \n",
    "    3. `mul(a, b)` : 곱셈\n",
    "    4. `div(a, b)` : 나눗셈"
   ]
  },
  {
   "cell_type": "code",
   "execution_count": null,
   "metadata": {},
   "outputs": [],
   "source": [
    "# 아래에 코드를 작성해주세요."
   ]
  },
  {
   "cell_type": "code",
   "execution_count": 53,
   "metadata": {},
   "outputs": [],
   "source": [
    "##$$Q>\n",
    "\n",
    "class Calculator:\n",
    "    @staticmethod\n",
    "    def sdd(a,b):\n",
    "        return a+b    \n",
    "\n",
    "    @staticmethod\n",
    "    def sub(a,b):\n",
    "        return a-b    \n",
    "    \n",
    "    @staticmethod\n",
    "    def mul(a,b):\n",
    "        return a*b    \n",
    "    \n",
    "    @staticmethod\n",
    "    def mul(a,b):\n",
    "        return a/b\n",
    "    \n",
    "    # 안에 있는 데이터를 건들지 않고 메서드를 사용하고 싶을 때 사용!"
   ]
  },
  {
   "cell_type": "code",
   "execution_count": null,
   "metadata": {},
   "outputs": [],
   "source": [
    "# 정적메소드를 호출해보세요."
   ]
  },
  {
   "cell_type": "code",
   "execution_count": null,
   "metadata": {},
   "outputs": [],
   "source": []
  },
  {
   "cell_type": "markdown",
   "metadata": {},
   "source": [
    "## 연산자 오버라이딩(중복 정의, 덮어 쓰기)\n",
    "\n",
    "* 파이썬에 기본적으로 정의된 연산자를 직접적으로 정의하여 활용할 수 있습니다. \n",
    "\n",
    "* 몇가지만 소개하고 활용해봅시다.\n",
    "\n",
    "```\n",
    "+  __add__   \n",
    "-  __sub__\n",
    "*  __mul__\n",
    "<  __lt__\n",
    "<= __le__\n",
    "== __eq__\n",
    "!= __ne__\n",
    ">= __ge__\n",
    ">  __gt__\n",
    "```"
   ]
  },
  {
   "cell_type": "code",
   "execution_count": null,
   "metadata": {},
   "outputs": [],
   "source": [
    "# 사람과 사람을 같은지 비교하면, 이는 나이가 같은지 비교한 결과를 반환하도록 만들어봅시다."
   ]
  },
  {
   "cell_type": "code",
   "execution_count": 94,
   "metadata": {},
   "outputs": [],
   "source": [
    "class Person:\n",
    "    population = 0\n",
    "    name = ''\n",
    "    age = 0\n",
    "    \n",
    "    def __init__(self, name, age):\n",
    "        self.name = name\n",
    "        self.age = age\n",
    "        Person.population += 1\n",
    "        \n",
    "    def greeting(self):\n",
    "        print(f'{self.name} 입니다. 반갑습니다!')\n",
    "        \n",
    "    def __repr__(self):\n",
    "        return f'< \"name:\" {self.name}, \"age\": {self.age} >'\n",
    "    \n",
    "    def __gt__(self, other): # greater than\n",
    "        return self.age > other.age\n",
    "        \n",
    "    def __eq__(self, other):\n",
    "        return self.age == other.age\n",
    "    \n",
    "    def __ge__(self,other):\n",
    "        return self.age >= other.age\n",
    "    "
   ]
  },
  {
   "cell_type": "code",
   "execution_count": 95,
   "metadata": {},
   "outputs": [
    {
     "name": "stdout",
     "output_type": "stream",
     "text": [
      "john이 타계하였습니다.\n",
      "ashley이 타계하였습니다.\n"
     ]
    },
    {
     "data": {
      "text/plain": [
       "True"
      ]
     },
     "execution_count": 95,
     "metadata": {},
     "output_type": "execute_result"
    }
   ],
   "source": [
    "# 연산자를 호출해 봅시다.\n",
    "john = Person('john',34)\n",
    "ashley = Person('ashley',31)\n",
    "\n",
    "eric = Person('eric',31)\n",
    "# 객체 관계가 들어왔을 떄 , 비교 연산자가 들어오면??\n",
    "\n",
    "ashley > john # 우리가 보는 코드\n",
    "# ashley.__gt__(john) # 내부에서 돌아가는 코드\n",
    "\n",
    "(eric == ashley, eric == john)\n",
    "\n",
    "eric >= ashley # 이거까지 쓰려면 : greater and equal than other\n"
   ]
  },
  {
   "cell_type": "code",
   "execution_count": 96,
   "metadata": {},
   "outputs": [
    {
     "data": {
      "text/plain": [
       "True"
      ]
     },
     "execution_count": 96,
     "metadata": {},
     "output_type": "execute_result"
    }
   ],
   "source": [
    "\n",
    "eric >= ashley # 이거까지 쓰려면 : greater and equal than other\n",
    "eric <= ashley # 한쪽 쓰면, 반대쪽도 써지긴 한다."
   ]
  },
  {
   "cell_type": "code",
   "execution_count": 97,
   "metadata": {},
   "outputs": [
    {
     "data": {
      "text/plain": [
       "False"
      ]
     },
     "execution_count": 97,
     "metadata": {},
     "output_type": "execute_result"
    }
   ],
   "source": [
    "ashley.__ne__(eric) # gt, eq, ge, lt  중에 하나 정의 되면 ne도 자동으로 정의된다!"
   ]
  },
  {
   "cell_type": "code",
   "execution_count": 98,
   "metadata": {},
   "outputs": [
    {
     "data": {
      "text/plain": [
       "[< \"name:\" john, \"age\": 34 >,\n",
       " < \"name:\" ashley, \"age\": 31 >,\n",
       " < \"name:\" eric, \"age\": 31 >]"
      ]
     },
     "execution_count": 98,
     "metadata": {},
     "output_type": "execute_result"
    }
   ],
   "source": [
    "people = [ john, ashley, eric]\n",
    "people"
   ]
  },
  {
   "cell_type": "code",
   "execution_count": 99,
   "metadata": {},
   "outputs": [
    {
     "data": {
      "text/plain": [
       "[< \"name:\" ashley, \"age\": 31 >,\n",
       " < \"name:\" eric, \"age\": 31 >,\n",
       " < \"name:\" john, \"age\": 34 >]"
      ]
     },
     "execution_count": 99,
     "metadata": {},
     "output_type": "execute_result"
    }
   ],
   "source": [
    "people = [ john, ashley, eric]\n",
    "sorted(people)"
   ]
  },
  {
   "cell_type": "code",
   "execution_count": 100,
   "metadata": {},
   "outputs": [
    {
     "data": {
      "text/plain": [
       "['__class__',\n",
       " '__delattr__',\n",
       " '__dict__',\n",
       " '__dir__',\n",
       " '__doc__',\n",
       " '__eq__',\n",
       " '__format__',\n",
       " '__ge__',\n",
       " '__getattribute__',\n",
       " '__gt__',\n",
       " '__hash__',\n",
       " '__init__',\n",
       " '__init_subclass__',\n",
       " '__le__',\n",
       " '__lt__',\n",
       " '__module__',\n",
       " '__ne__',\n",
       " '__new__',\n",
       " '__reduce__',\n",
       " '__reduce_ex__',\n",
       " '__repr__',\n",
       " '__setattr__',\n",
       " '__sizeof__',\n",
       " '__str__',\n",
       " '__subclasshook__',\n",
       " '__weakref__',\n",
       " 'age',\n",
       " 'greeting',\n",
       " 'name',\n",
       " 'population']"
      ]
     },
     "execution_count": 100,
     "metadata": {},
     "output_type": "execute_result"
    }
   ],
   "source": [
    "dir(Person)"
   ]
  },
  {
   "cell_type": "markdown",
   "metadata": {},
   "source": [
    "# 상속 \n",
    "\n",
    "## 기초\n",
    "\n",
    "* 클래스에서 가장 큰 특징은 '상속' 기능을 가지고 있다는 것이다. \n",
    "\n",
    "* 부모 클래스의 모든 속성이 자식 클래스에게 상속 되므로 코드재사용성이 높아집니다.\n",
    "\n",
    "```python\n",
    "class DerivedClassName(BaseClassName):\n",
    "    code block\n",
    "```"
   ]
  },
  {
   "cell_type": "code",
   "execution_count": 164,
   "metadata": {},
   "outputs": [
    {
     "name": "stdout",
     "output_type": "stream",
     "text": [
      "person이 타계하였습니다.\n",
      "person\n",
      "허허이 타계하였습니다.\n",
      "person\n",
      "현재 인구는 0입니다.\n",
      "현재 인구는 0입니다.\n"
     ]
    }
   ],
   "source": [
    "class Person:\n",
    "    population = 0\n",
    "    name = 'person'\n",
    "    def __init__(self, name=Person.name): #, name=None\n",
    "        self.name = name\n",
    "        Person.population += 1\n",
    "    \n",
    "    def __del__(self):\n",
    "        print(f'{self.name}이 타계하였습니다.')\n",
    "        Person.population -= 1\n",
    "    # class로도 다 접근 가능하고, instance로도 모두 접근 가능하므로... ***\n",
    "    \n",
    "    def greeting(self):\n",
    "        print(f'안녕하세요 저는 {self.name}입니다.')\n",
    "    \n",
    "    @staticmethod\n",
    "#     def show_population(cls): # 객체로 인식\n",
    "#         print(f'현재 인구는 {cls.population}입니다.')\n",
    "    def show_population(): # 객체로 인식\n",
    "        print(f'현재 인구는 {Person.population}입니다.')\n",
    "\n",
    "# john = Person('john')\n",
    "# ashley = Person('ashley')\n",
    "# abe = Person('abe')\n",
    "\n",
    "\n",
    "\n",
    "# john.greeting()\n",
    "# ashley.greeting()\n",
    "# abe.greeting()\n",
    "nonName = Person()\n",
    "\n",
    "print(nonName.name)\n",
    "nonName2 = Person(\"허허\")\n",
    "print(nonName.name)\n",
    "\n",
    "Person.show_population()          \n",
    "# del abe\n",
    "            \n",
    "Person.show_population()\n",
    "\n",
    "# del 이 들어가면 한박자 꼬임 : 이유는?? tutor돌려보기"
   ]
  },
  {
   "cell_type": "code",
   "execution_count": 232,
   "metadata": {},
   "outputs": [],
   "source": [
    "class Person:\n",
    "    population = 0\n",
    "    name = ''\n",
    "    age = 0\n",
    "    \n",
    "    def __init__(self, name, age):\n",
    "        self.name = name\n",
    "        self.age = age\n",
    "        Person.population += 1\n",
    "        \n",
    "    def greeting(self):\n",
    "        print(f'{self.name} 입니다. 반갑습니다!')\n",
    "        \n",
    "    def __repr__(self):\n",
    "        return f'< \"name:\" {self.name}, \"age\": {self.age} >'\n",
    "    \n",
    "    def __gt__(self, other): # greater than\n",
    "        return self.age > other.age\n",
    "        \n",
    "#     def __eq__(self, other):\n",
    "#         return self.age == other.age\n",
    "    \n",
    "#     def __ge__(self,other):\n",
    "#         return self.age >= other.age\n",
    "    "
   ]
  },
  {
   "cell_type": "code",
   "execution_count": 233,
   "metadata": {},
   "outputs": [
    {
     "name": "stdout",
     "output_type": "stream",
     "text": [
      "이한얼은 탈퇴되었습니다.\n"
     ]
    }
   ],
   "source": [
    "p1 = Person('john',34)\n",
    "p2 = Person('han',27)"
   ]
  },
  {
   "cell_type": "code",
   "execution_count": 234,
   "metadata": {},
   "outputs": [
    {
     "name": "stdout",
     "output_type": "stream",
     "text": [
      "True\n",
      "False\n",
      "False\n"
     ]
    }
   ],
   "source": [
    "print(p1 > p2)\n",
    "print(p1 == p2) #\n",
    "# print(p1 >= p2)\n",
    "print(p1 < p2)\n",
    "# print(p1 <= p2)\n"
   ]
  },
  {
   "cell_type": "markdown",
   "metadata": {},
   "source": [
    "**\n",
    "# Q> '__gt__', '__ge__', '__eq__', '__lt__', '__le__ 5 개중 하나만 정의하면 반대쪽도 정의되나?'\n",
    "# A> X\n",
    "# gt가 정의 되면 lt, eq가 정의되고, ge가 정의되면, eq le가 정의 된다. \n",
    "**"
   ]
  },
  {
   "cell_type": "code",
   "execution_count": 235,
   "metadata": {},
   "outputs": [
    {
     "data": {
      "text/plain": [
       "['__class__',\n",
       " '__delattr__',\n",
       " '__dict__',\n",
       " '__dir__',\n",
       " '__doc__',\n",
       " '__eq__',\n",
       " '__format__',\n",
       " '__ge__',\n",
       " '__getattribute__',\n",
       " '__gt__',\n",
       " '__hash__',\n",
       " '__init__',\n",
       " '__init_subclass__',\n",
       " '__le__',\n",
       " '__lt__',\n",
       " '__module__',\n",
       " '__ne__',\n",
       " '__new__',\n",
       " '__reduce__',\n",
       " '__reduce_ex__',\n",
       " '__repr__',\n",
       " '__setattr__',\n",
       " '__sizeof__',\n",
       " '__str__',\n",
       " '__subclasshook__',\n",
       " '__weakref__',\n",
       " 'age',\n",
       " 'greeting',\n",
       " 'name',\n",
       " 'population']"
      ]
     },
     "execution_count": 235,
     "metadata": {},
     "output_type": "execute_result"
    }
   ],
   "source": [
    "dir(Person)\n"
   ]
  },
  {
   "cell_type": "code",
   "execution_count": 236,
   "metadata": {},
   "outputs": [],
   "source": [
    "# 인사만 할 수 있는 간단한 사람 클래스를 만들어봅시다."
   ]
  },
  {
   "cell_type": "code",
   "execution_count": 237,
   "metadata": {},
   "outputs": [],
   "source": [
    "# 사람 클래스를 상속받아 학생 클래스를 만들어봅시다."
   ]
  },
  {
   "cell_type": "code",
   "execution_count": 239,
   "metadata": {},
   "outputs": [],
   "source": [
    "class Student(Person):\n",
    "    def __init__(self, name, age, student_id):\n",
    "#         self.name = name\n",
    "#         self.age = age\n",
    "        self.student_id = student_id\n",
    "    \n",
    "    def study(self):\n",
    "        print('와 공부 너무 재밌다.')\n",
    "\n",
    "# 위에 코드 돌리고, 아래 코드 돌려서..:\n",
    "    # 상속을 받았기 때문에 Person이 가지고 있는 모든 것을 받아쓸 수 있다.\n",
    "    "
   ]
  },
  {
   "cell_type": "code",
   "execution_count": 255,
   "metadata": {},
   "outputs": [],
   "source": [
    "class Student(Person):\n",
    "    def __init__(self, name, age, student_id):\n",
    "#         self.name = name\n",
    "#         self.age = age\n",
    "#         Person.__init__(name,age) # 슈퍼 상위 클래스를 부르고,\n",
    "        super().__init__(name,age) # 슈퍼 상위 클래스를 부르고,\n",
    "        self.student_id = student_id # 나머지 얘들은 하위 클래스에만 있는 요소들 넣기\n",
    "    \n",
    "    def study(self):\n",
    "        print('와 공부 너무 재밌다.')\n",
    "\n",
    "# 위에 코드 돌리고, 아래 코드 돌려서..:\n",
    "    # 상속을 받았기 때문에 Person이 가지고 있는 모든 것을 받아쓸 수 있다.\n",
    "    def greeting(self):\n",
    "        print(f'안녕하세요 {self.student_id}학번 {self.name}입니다.')\n",
    "        \n",
    "    def __gt__(self, other):\n",
    "        return self.student_id > other.student_id\n",
    "    \n",
    "    def __ge__(self, other):\n",
    "        return self.student_id >= other.student_id\n",
    "    "
   ]
  },
  {
   "cell_type": "code",
   "execution_count": 256,
   "metadata": {},
   "outputs": [
    {
     "ename": "TypeError",
     "evalue": "__init__() missing 3 required positional arguments: 'name', 'age', and 'student_id'",
     "output_type": "error",
     "traceback": [
      "\u001b[1;31m---------------------------------------------------------------------------\u001b[0m",
      "\u001b[1;31mTypeError\u001b[0m                                 Traceback (most recent call last)",
      "\u001b[1;32m<ipython-input-256-b109c3d6bc86>\u001b[0m in \u001b[0;36m<module>\u001b[1;34m\u001b[0m\n\u001b[0;32m      1\u001b[0m \u001b[1;31m# 학생을 만들어봅시다.\u001b[0m\u001b[1;33m\u001b[0m\u001b[1;33m\u001b[0m\u001b[1;33m\u001b[0m\u001b[0m\n\u001b[1;32m----> 2\u001b[1;33m \u001b[0mstudent0\u001b[0m \u001b[1;33m=\u001b[0m \u001b[0mStudent\u001b[0m\u001b[1;33m(\u001b[0m\u001b[1;33m)\u001b[0m\u001b[1;33m\u001b[0m\u001b[1;33m\u001b[0m\u001b[0m\n\u001b[0m",
      "\u001b[1;31mTypeError\u001b[0m: __init__() missing 3 required positional arguments: 'name', 'age', and 'student_id'"
     ]
    }
   ],
   "source": [
    "# 학생을 만들어봅시다.\n",
    "student0 = Student()"
   ]
  },
  {
   "cell_type": "code",
   "execution_count": 257,
   "metadata": {
    "scrolled": true
   },
   "outputs": [
    {
     "ename": "TypeError",
     "evalue": "__init__() missing 1 required positional argument: 'student_id'",
     "output_type": "error",
     "traceback": [
      "\u001b[1;31m---------------------------------------------------------------------------\u001b[0m",
      "\u001b[1;31mTypeError\u001b[0m                                 Traceback (most recent call last)",
      "\u001b[1;32m<ipython-input-257-bc185a86ad1c>\u001b[0m in \u001b[0;36m<module>\u001b[1;34m\u001b[0m\n\u001b[1;32m----> 1\u001b[1;33m \u001b[0mstudent1\u001b[0m \u001b[1;33m=\u001b[0m \u001b[0mStudent\u001b[0m\u001b[1;33m(\u001b[0m\u001b[1;34m'이한얼'\u001b[0m\u001b[1;33m,\u001b[0m \u001b[1;36m27\u001b[0m\u001b[1;33m)\u001b[0m\u001b[1;33m\u001b[0m\u001b[1;33m\u001b[0m\u001b[0m\n\u001b[0m\u001b[0;32m      2\u001b[0m \u001b[0mstudent1\u001b[0m\u001b[1;33m.\u001b[0m\u001b[0mstudy\u001b[0m\u001b[1;33m(\u001b[0m\u001b[1;33m)\u001b[0m \u001b[1;31m# Student에서만 정의했으니 Person에서는 이걸 쓸 수 없다.\u001b[0m\u001b[1;33m\u001b[0m\u001b[1;33m\u001b[0m\u001b[0m\n",
      "\u001b[1;31mTypeError\u001b[0m: __init__() missing 1 required positional argument: 'student_id'"
     ]
    }
   ],
   "source": [
    "student1 = Student('이한얼', 27)\n",
    "student1.study() # Student에서만 정의했으니 Person에서는 이걸 쓸 수 없다."
   ]
  },
  {
   "cell_type": "code",
   "execution_count": 258,
   "metadata": {
    "scrolled": false
   },
   "outputs": [
    {
     "ename": "AttributeError",
     "evalue": "'Person' object has no attribute 'study'",
     "output_type": "error",
     "traceback": [
      "\u001b[1;31m---------------------------------------------------------------------------\u001b[0m",
      "\u001b[1;31mAttributeError\u001b[0m                            Traceback (most recent call last)",
      "\u001b[1;32m<ipython-input-258-6d8300b91626>\u001b[0m in \u001b[0;36m<module>\u001b[1;34m\u001b[0m\n\u001b[0;32m      1\u001b[0m \u001b[0mstudent2\u001b[0m \u001b[1;33m=\u001b[0m \u001b[0mPerson\u001b[0m\u001b[1;33m(\u001b[0m\u001b[1;34m'ashley'\u001b[0m\u001b[1;33m,\u001b[0m \u001b[1;36m31\u001b[0m\u001b[1;33m)\u001b[0m\u001b[1;33m\u001b[0m\u001b[1;33m\u001b[0m\u001b[0m\n\u001b[1;32m----> 2\u001b[1;33m \u001b[0mstudent2\u001b[0m\u001b[1;33m.\u001b[0m\u001b[0mstudy\u001b[0m\u001b[1;33m(\u001b[0m\u001b[1;33m)\u001b[0m \u001b[1;31m# Student에서만 정의했으니 Person에서는 사용하려고 하면 없다고 에러 난다.\u001b[0m\u001b[1;33m\u001b[0m\u001b[1;33m\u001b[0m\u001b[0m\n\u001b[0m",
      "\u001b[1;31mAttributeError\u001b[0m: 'Person' object has no attribute 'study'"
     ]
    }
   ],
   "source": [
    "student2 = Person('ashley', 31)\n",
    "student2.study() # Student에서만 정의했으니 Person에서는 사용하려고 하면 없다고 에러 난다."
   ]
  },
  {
   "cell_type": "code",
   "execution_count": 259,
   "metadata": {},
   "outputs": [],
   "source": [
    "##$$Q>"
   ]
  },
  {
   "cell_type": "code",
   "execution_count": 260,
   "metadata": {
    "scrolled": true
   },
   "outputs": [
    {
     "name": "stdout",
     "output_type": "stream",
     "text": [
      "와 공부 너무 재밌다.\n"
     ]
    },
    {
     "data": {
      "text/plain": [
       "'13'"
      ]
     },
     "execution_count": 260,
     "metadata": {},
     "output_type": "execute_result"
    }
   ],
   "source": [
    "student1 = Student('이한얼', 27, '13')\n",
    "student1.study() # Student에서만 정의했으니 Person에서는 이걸 쓸 수 없다.\n",
    "student1.student_id"
   ]
  },
  {
   "cell_type": "code",
   "execution_count": 261,
   "metadata": {},
   "outputs": [
    {
     "ename": "AttributeError",
     "evalue": "'Person' object has no attribute 'study'",
     "output_type": "error",
     "traceback": [
      "\u001b[1;31m---------------------------------------------------------------------------\u001b[0m",
      "\u001b[1;31mAttributeError\u001b[0m                            Traceback (most recent call last)",
      "\u001b[1;32m<ipython-input-261-6d8300b91626>\u001b[0m in \u001b[0;36m<module>\u001b[1;34m\u001b[0m\n\u001b[0;32m      1\u001b[0m \u001b[0mstudent2\u001b[0m \u001b[1;33m=\u001b[0m \u001b[0mPerson\u001b[0m\u001b[1;33m(\u001b[0m\u001b[1;34m'ashley'\u001b[0m\u001b[1;33m,\u001b[0m \u001b[1;36m31\u001b[0m\u001b[1;33m)\u001b[0m\u001b[1;33m\u001b[0m\u001b[1;33m\u001b[0m\u001b[0m\n\u001b[1;32m----> 2\u001b[1;33m \u001b[0mstudent2\u001b[0m\u001b[1;33m.\u001b[0m\u001b[0mstudy\u001b[0m\u001b[1;33m(\u001b[0m\u001b[1;33m)\u001b[0m \u001b[1;31m# Student에서만 정의했으니 Person에서는 사용하려고 하면 없다고 에러 난다.\u001b[0m\u001b[1;33m\u001b[0m\u001b[1;33m\u001b[0m\u001b[0m\n\u001b[0m",
      "\u001b[1;31mAttributeError\u001b[0m: 'Person' object has no attribute 'study'"
     ]
    }
   ],
   "source": [
    "student2 = Person('ashley', 31)\n",
    "student2.study() # Student에서만 정의했으니 Person에서는 사용하려고 하면 없다고 에러 난다."
   ]
  },
  {
   "cell_type": "code",
   "execution_count": null,
   "metadata": {},
   "outputs": [],
   "source": [
    "# 부모 클래스에 정의를 했음에도 메소드를 호출 할 수 있습니다."
   ]
  },
  {
   "cell_type": "code",
   "execution_count": null,
   "metadata": {},
   "outputs": [],
   "source": []
  },
  {
   "cell_type": "markdown",
   "metadata": {},
   "source": [
    "* 이처럼 상속은 공통된 속성이나 메소드를 부모 클래스에 정의하고, 이를 상속받아 다양한 형태의 사람들을 만들 수 있습니다."
   ]
  },
  {
   "cell_type": "code",
   "execution_count": null,
   "metadata": {},
   "outputs": [],
   "source": [
    "# 진짜 상속관계인지 확인해봅시다."
   ]
  },
  {
   "cell_type": "code",
   "execution_count": null,
   "metadata": {},
   "outputs": [],
   "source": []
  },
  {
   "cell_type": "code",
   "execution_count": null,
   "metadata": {},
   "outputs": [],
   "source": []
  },
  {
   "cell_type": "markdown",
   "metadata": {},
   "source": [
    "## super()\n",
    "\n",
    "* 자식 클래스에 메서드를 추가 구현할 수 있습니다.\n",
    "\n",
    "* 부모 클래스의 내용을 사용하고자 할 때, `super()`를 사용할 수 있습니다."
   ]
  },
  {
   "cell_type": "code",
   "execution_count": null,
   "metadata": {},
   "outputs": [],
   "source": []
  },
  {
   "cell_type": "markdown",
   "metadata": {},
   "source": [
    "* 위의 코드를 보면, 상속을 했음에도 불구하고 동일한 코드가 반복됩니다. "
   ]
  },
  {
   "cell_type": "code",
   "execution_count": null,
   "metadata": {},
   "outputs": [],
   "source": [
    "# 이를 수정해봅시다."
   ]
  },
  {
   "cell_type": "code",
   "execution_count": null,
   "metadata": {},
   "outputs": [],
   "source": []
  },
  {
   "cell_type": "markdown",
   "metadata": {},
   "source": [
    "## 메서드 오버라이딩\n",
    "\n",
    "* 메서드를 재정의할 수도 있습니다."
   ]
  },
  {
   "cell_type": "code",
   "execution_count": null,
   "metadata": {},
   "outputs": [],
   "source": [
    "# 군인은 다른 인사를 합니다."
   ]
  },
  {
   "cell_type": "code",
   "execution_count": null,
   "metadata": {},
   "outputs": [],
   "source": [
    "# 군인은 다른 인사를 합니다."
   ]
  },
  {
   "cell_type": "markdown",
   "metadata": {},
   "source": [
    "## 상속관계에서의 이름공간\n",
    "\n",
    "* 기존에 인스턴스 -> 클래스순으로 이름 공간을 탐색해나가는 과정에서 상속관계에 있으면 아래와 같이 확장됩니다.\n",
    "\n",
    "* instance => class => global\n",
    "* 인스턴스 -> 자식 클래스 -> 부모 클래스 -> 전역"
   ]
  },
  {
   "cell_type": "markdown",
   "metadata": {},
   "source": [
    "## 실습1 \n",
    "\n",
    "> Teacher 클래스를 만들어보고 Student와 Teacher 클래스에 각각 다른 행동의 메소드들을 하나씩 추가해봅시다."
   ]
  },
  {
   "cell_type": "code",
   "execution_count": 203,
   "metadata": {},
   "outputs": [],
   "source": [
    "# class Person:\n",
    "#     population = 0\n",
    "#     name = ''\n",
    "#     age = 0\n",
    "    \n",
    "#     def __init__(self, name, age):\n",
    "#         self.name = name\n",
    "#         self.age = age\n",
    "#         Person.population += 1\n",
    "        \n",
    "#     def greeting(self):\n",
    "#         print(f'{self.name} 입니다. 반갑습니다!')\n",
    "        \n",
    "#     def __repr__(self):\n",
    "#         return f'< \"name:\" {self.name}, \"age\": {self.age} >'\n",
    "    \n",
    "#     def __gt__(self, other): # greater than\n",
    "#         return self.age > other.age\n",
    "        \n",
    "# #     def __eq__(self, other):\n",
    "# #         return self.age == other.age\n",
    "    \n",
    "#     def __ge__(self,other):\n",
    "#         return self.age >= other.age\n",
    "    "
   ]
  },
  {
   "cell_type": "code",
   "execution_count": 431,
   "metadata": {},
   "outputs": [],
   "source": [
    "# Person Class\n",
    "class Person:\n",
    "    population = 0\n",
    "    \n",
    "    def __init__(self, name, age):\n",
    "        self.name = name\n",
    "        self.age = age\n",
    "        Person.population += 1\n",
    "        \n",
    "    def __del__(self):\n",
    "        print(f'{self.name}은 탈퇴되었습니다.')\n",
    "        Person.population -= 1\n",
    "        \n",
    "    def greeting(self):\n",
    "        print(f'{self.name} 입니다. 반갑습니다!')\n",
    "        \n",
    "    def __repr__(self):\n",
    "        return f'< \"name:\" {self.name}, \"age\": {self.age} >'\n",
    "    \n",
    "    def __gt__(self, other): # greater than\n",
    "        return self.age > other.age\n",
    "        \n",
    "#     def __eq__(self, other):\n",
    "#         return self.age == other.age\n",
    "    \n",
    "    def __ge__(self,other):\n",
    "        return self.age >= other.age\n",
    "    \n",
    "#     def status():\n",
    "#         print(f'{self.name}선생님은 {self.name}세 입니다!'')\n"
   ]
  },
  {
   "cell_type": "code",
   "execution_count": 286,
   "metadata": {},
   "outputs": [],
   "source": [
    "# # 아래에 코드를 작성해주세요.\n",
    "# # Teacher  class\n",
    "# class Teacher(Person):\n",
    "#     def __init__(self, name, age, teacherSubject):\n",
    "#         Person.__init__(name, age)\n",
    "#         self.teacherSubject = teacherSubject\n",
    "        \n",
    "#     def __del__(self):\n",
    "#         print('Teacher 가 탈퇴되었습니다.')\n",
    "#         Person.__del__(self)\n",
    "\n",
    "        \n",
    "#     def teach(self, Student):\n",
    "#         print(f'저는 선생님 {self.name}입니다. 나이는 {self.age}세이고 {Student.name}학생에게 {self.teacherSubject}를 가르칩니다.')\n",
    "    "
   ]
  },
  {
   "cell_type": "code",
   "execution_count": 287,
   "metadata": {},
   "outputs": [],
   "source": [
    "# class Student(Person):\n",
    "#     def __init__(self, name, age, student_id):\n",
    "#         Person.__init__(name, age)\n",
    "#         self.student_id = student_id\n",
    "\n",
    "#     def __del__(self):\n",
    "#         print('Studendt 가 탈퇴되었습니다.')\n",
    "#         Person.__del__(self)\n",
    "        \n",
    "#     def study(self):\n",
    "#         print(f'{self.name}학생은 공부하다가 너무 재밌어서 밤을 샜습니다!')\n",
    "        \n",
    "#     def greeting():\n",
    "#         print(f'저는 학생 {self.name}입니다. {self.age}세이고 학번은 {student_id}입니다!')"
   ]
  },
  {
   "cell_type": "code",
   "execution_count": 288,
   "metadata": {},
   "outputs": [
    {
     "ename": "TypeError",
     "evalue": "__init__() missing 1 required positional argument: 'age'",
     "output_type": "error",
     "traceback": [
      "\u001b[1;31m---------------------------------------------------------------------------\u001b[0m",
      "\u001b[1;31mTypeError\u001b[0m                                 Traceback (most recent call last)",
      "\u001b[1;32m<ipython-input-288-712fd83e1dcb>\u001b[0m in \u001b[0;36m<module>\u001b[1;34m\u001b[0m\n\u001b[0;32m      1\u001b[0m \u001b[0mp1\u001b[0m \u001b[1;33m=\u001b[0m \u001b[0mPerson\u001b[0m\u001b[1;33m(\u001b[0m\u001b[1;34m'이한얼'\u001b[0m\u001b[1;33m,\u001b[0m \u001b[1;36m27\u001b[0m\u001b[1;33m)\u001b[0m\u001b[1;33m\u001b[0m\u001b[1;33m\u001b[0m\u001b[0m\n\u001b[1;32m----> 2\u001b[1;33m \u001b[0mp2\u001b[0m \u001b[1;33m=\u001b[0m \u001b[0mTeacher\u001b[0m\u001b[1;33m(\u001b[0m\u001b[1;34m'이한얼'\u001b[0m\u001b[1;33m,\u001b[0m \u001b[1;36m27\u001b[0m\u001b[1;33m,\u001b[0m \u001b[1;34m'프로그래밍'\u001b[0m\u001b[1;33m)\u001b[0m\u001b[1;33m\u001b[0m\u001b[1;33m\u001b[0m\u001b[0m\n\u001b[0m\u001b[0;32m      3\u001b[0m \u001b[0mp3\u001b[0m \u001b[1;33m=\u001b[0m \u001b[0mStudent\u001b[0m\u001b[1;33m(\u001b[0m\u001b[1;34m'이한얼'\u001b[0m\u001b[1;33m,\u001b[0m \u001b[1;36m27\u001b[0m\u001b[1;33m,\u001b[0m \u001b[1;34m'13'\u001b[0m\u001b[1;33m)\u001b[0m\u001b[1;33m\u001b[0m\u001b[1;33m\u001b[0m\u001b[0m\n\u001b[0;32m      4\u001b[0m \u001b[1;33m\u001b[0m\u001b[0m\n\u001b[0;32m      5\u001b[0m \u001b[1;31m# 원래 있던 꼬부기는 찾을 수 없는 꼬북이로 인터스텔라로 사라진다.\u001b[0m\u001b[1;33m\u001b[0m\u001b[1;33m\u001b[0m\u001b[1;33m\u001b[0m\u001b[0m\n",
      "\u001b[1;32m<ipython-input-286-945f099ee8ea>\u001b[0m in \u001b[0;36m__init__\u001b[1;34m(self, name, age, teacherSubject)\u001b[0m\n\u001b[0;32m      3\u001b[0m \u001b[1;32mclass\u001b[0m \u001b[0mTeacher\u001b[0m\u001b[1;33m(\u001b[0m\u001b[0mPerson\u001b[0m\u001b[1;33m)\u001b[0m\u001b[1;33m:\u001b[0m\u001b[1;33m\u001b[0m\u001b[1;33m\u001b[0m\u001b[0m\n\u001b[0;32m      4\u001b[0m     \u001b[1;32mdef\u001b[0m \u001b[0m__init__\u001b[0m\u001b[1;33m(\u001b[0m\u001b[0mself\u001b[0m\u001b[1;33m,\u001b[0m \u001b[0mname\u001b[0m\u001b[1;33m,\u001b[0m \u001b[0mage\u001b[0m\u001b[1;33m,\u001b[0m \u001b[0mteacherSubject\u001b[0m\u001b[1;33m)\u001b[0m\u001b[1;33m:\u001b[0m\u001b[1;33m\u001b[0m\u001b[1;33m\u001b[0m\u001b[0m\n\u001b[1;32m----> 5\u001b[1;33m         \u001b[0mPerson\u001b[0m\u001b[1;33m.\u001b[0m\u001b[0m__init__\u001b[0m\u001b[1;33m(\u001b[0m\u001b[0mname\u001b[0m\u001b[1;33m,\u001b[0m \u001b[0mage\u001b[0m\u001b[1;33m)\u001b[0m\u001b[1;33m\u001b[0m\u001b[1;33m\u001b[0m\u001b[0m\n\u001b[0m\u001b[0;32m      6\u001b[0m         \u001b[0mself\u001b[0m\u001b[1;33m.\u001b[0m\u001b[0mteacherSubject\u001b[0m \u001b[1;33m=\u001b[0m \u001b[0mteacherSubject\u001b[0m\u001b[1;33m\u001b[0m\u001b[1;33m\u001b[0m\u001b[0m\n\u001b[0;32m      7\u001b[0m \u001b[1;33m\u001b[0m\u001b[0m\n",
      "\u001b[1;31mTypeError\u001b[0m: __init__() missing 1 required positional argument: 'age'"
     ]
    }
   ],
   "source": [
    "# p1 = Person('이한얼', 27)\n",
    "# p2 = Teacher('이한얼', 27, '프로그래밍')\n",
    "# p3 = Student('이한얼', 27, '13')\n",
    "\n",
    "# # 원래 있던 꼬부기는 찾을 수 없는 꼬북이로 인터스텔라로 사라진다."
   ]
  },
  {
   "cell_type": "code",
   "execution_count": 468,
   "metadata": {},
   "outputs": [],
   "source": [
    "# 아래에 코드를 작성해주세요.\n",
    "# Person Class\n",
    "class Person:\n",
    "    population = 0\n",
    "    \n",
    "    def __init__(self, name, age):\n",
    "        self.name = name\n",
    "        self.age = age\n",
    "        Person.population += 1\n",
    "        \n",
    "    def __del__(self):\n",
    "        print(f'{self.name}은 탈퇴되었습니다.')\n",
    "        Person.population -= 1\n",
    "        \n",
    "    def greeting(self):\n",
    "        print(f'{self.name} 입니다. 반갑습니다!')\n",
    "        \n",
    "    def __repr__(self):\n",
    "        return f'< \"name:\" {self.name}, \"age\": {self.age} >'\n",
    "    \n",
    "    def __gt__(self, other): # greater than\n",
    "        return self.age > other.age\n",
    "        \n",
    "#     def __eq__(self, other):\n",
    "#         return self.age == other.age\n",
    "    \n",
    "    def __ge__(self,other):\n",
    "        return self.age >= other.age\n",
    "    \n",
    "    def __del__(self):\n",
    "        print('Teacher 가 탈퇴되었습니다.')\n",
    "#         super().__del__(self)\n",
    "#         super().__del__()\n",
    "\n",
    "    \n",
    "\n",
    "# Teacher  class\n",
    "class Teacher(Person):\n",
    "    def __init__(self, name, age, teacherSubject):\n",
    "        super().__init__(name, age)\n",
    "        self.teacherSubject = teacherSubject\n",
    "        \n",
    "\n",
    "    \n",
    "    def teach(self, Student):\n",
    "        print(f'저는 선생님 {self.name}입니다. 나이는 {self.age}세이고 {Student.name}학생에게 {self.teacherSubject}를 가르칩니다.')\n",
    "    \n",
    "p1 = Person('이한얼', 27)\n",
    "p2 = Teacher('이한얼', 27, '프로그래밍')\n"
   ]
  },
  {
   "cell_type": "code",
   "execution_count": 469,
   "metadata": {
    "scrolled": true
   },
   "outputs": [
    {
     "name": "stdout",
     "output_type": "stream",
     "text": [
      "Teacher 가 탈퇴되었습니다.\n",
      "Teacher 가 탈퇴되었습니다.\n"
     ]
    }
   ],
   "source": [
    "del p1\n",
    "del p2"
   ]
  },
  {
   "cell_type": "code",
   "execution_count": null,
   "metadata": {},
   "outputs": [],
   "source": []
  },
  {
   "cell_type": "code",
   "execution_count": 457,
   "metadata": {},
   "outputs": [
    {
     "ename": "NameError",
     "evalue": "name 'p1' is not defined",
     "output_type": "error",
     "traceback": [
      "\u001b[1;31m---------------------------------------------------------------------------\u001b[0m",
      "\u001b[1;31mNameError\u001b[0m                                 Traceback (most recent call last)",
      "\u001b[1;32m<ipython-input-457-4c2cbfeef995>\u001b[0m in \u001b[0;36m<module>\u001b[1;34m\u001b[0m\n\u001b[1;32m----> 1\u001b[1;33m \u001b[1;32mdel\u001b[0m \u001b[0mp1\u001b[0m\u001b[1;33m\u001b[0m\u001b[1;33m\u001b[0m\u001b[0m\n\u001b[0m\u001b[0;32m      2\u001b[0m \u001b[1;32mdel\u001b[0m \u001b[0mp2\u001b[0m\u001b[1;33m\u001b[0m\u001b[1;33m\u001b[0m\u001b[0m\n",
      "\u001b[1;31mNameError\u001b[0m: name 'p1' is not defined"
     ]
    }
   ],
   "source": [
    "del p1\n",
    "del p2"
   ]
  },
  {
   "cell_type": "code",
   "execution_count": 443,
   "metadata": {},
   "outputs": [],
   "source": [
    "class Student(Person):\n",
    "    def __init__(self, name, age, student_id):\n",
    "        super().__init__(name, age)\n",
    "        self.student_id = student_id\n",
    "\n",
    "    def __del__(self):\n",
    "\n",
    "        print('Studendt 가 탈퇴되었습니다.') \n",
    "#         super().__del__(self)\n",
    "#         super().__del__()\n",
    "        \n",
    "    def study(self):\n",
    "        print(f'{self.name}학생은 공부하다가 너무 재밌어서 밤을 샜습니다!')\n",
    "        \n",
    "    def greeting():\n",
    "        print(f'저는 학생 {self.name}입니다. {self.age}세이고 학번은 {student_id}입니다!')"
   ]
  },
  {
   "cell_type": "code",
   "execution_count": 444,
   "metadata": {},
   "outputs": [],
   "source": [
    "p1 = Person('이한얼', 27)\n",
    "p2 = Teacher('이한얼', 27, '프로그래밍')\n",
    "p3 = Student('이한얼', 27, '13')\n",
    "\n",
    "# 원래 있던 꼬부기는 찾을 수 없는 꼬북이로 인터스텔라로 사라진다."
   ]
  },
  {
   "cell_type": "code",
   "execution_count": 445,
   "metadata": {},
   "outputs": [
    {
     "data": {
      "text/plain": [
       "6"
      ]
     },
     "execution_count": 445,
     "metadata": {},
     "output_type": "execute_result"
    }
   ],
   "source": [
    "# Person.population = 0\n",
    "Person.population"
   ]
  },
  {
   "cell_type": "code",
   "execution_count": 446,
   "metadata": {},
   "outputs": [
    {
     "data": {
      "text/plain": [
       "< \"name:\" 이한얼, \"age\": 27 >"
      ]
     },
     "execution_count": 446,
     "metadata": {},
     "output_type": "execute_result"
    }
   ],
   "source": [
    "p1"
   ]
  },
  {
   "cell_type": "code",
   "execution_count": 447,
   "metadata": {},
   "outputs": [
    {
     "data": {
      "text/plain": [
       "< \"name:\" 이한얼, \"age\": 27 >"
      ]
     },
     "execution_count": 447,
     "metadata": {},
     "output_type": "execute_result"
    }
   ],
   "source": [
    "p2"
   ]
  },
  {
   "cell_type": "code",
   "execution_count": 448,
   "metadata": {},
   "outputs": [
    {
     "data": {
      "text/plain": [
       "< \"name:\" 이한얼, \"age\": 27 >"
      ]
     },
     "execution_count": 448,
     "metadata": {},
     "output_type": "execute_result"
    }
   ],
   "source": [
    "p3"
   ]
  },
  {
   "cell_type": "code",
   "execution_count": 449,
   "metadata": {},
   "outputs": [],
   "source": [
    "del p2 # 이걸 바로 쓰면 상속시켜주는 Person의 __del__(소멸자)을 부르지 않고 바로 삭제가 된다. ##$$Q>"
   ]
  },
  {
   "cell_type": "code",
   "execution_count": 450,
   "metadata": {},
   "outputs": [
    {
     "ename": "NameError",
     "evalue": "name 'p2' is not defined",
     "output_type": "error",
     "traceback": [
      "\u001b[1;31m---------------------------------------------------------------------------\u001b[0m",
      "\u001b[1;31mNameError\u001b[0m                                 Traceback (most recent call last)",
      "\u001b[1;32m<ipython-input-450-32960d173fa8>\u001b[0m in \u001b[0;36m<module>\u001b[1;34m\u001b[0m\n\u001b[1;32m----> 1\u001b[1;33m \u001b[0mp2\u001b[0m\u001b[1;33m\u001b[0m\u001b[1;33m\u001b[0m\u001b[0m\n\u001b[0m",
      "\u001b[1;31mNameError\u001b[0m: name 'p2' is not defined"
     ]
    }
   ],
   "source": [
    "p2"
   ]
  },
  {
   "cell_type": "code",
   "execution_count": 451,
   "metadata": {},
   "outputs": [
    {
     "data": {
      "text/plain": [
       "6"
      ]
     },
     "execution_count": 451,
     "metadata": {},
     "output_type": "execute_result"
    }
   ],
   "source": [
    "Person.population"
   ]
  },
  {
   "cell_type": "code",
   "execution_count": 413,
   "metadata": {},
   "outputs": [],
   "source": [
    "del p3"
   ]
  },
  {
   "cell_type": "code",
   "execution_count": 414,
   "metadata": {},
   "outputs": [
    {
     "ename": "NameError",
     "evalue": "name 'p3' is not defined",
     "output_type": "error",
     "traceback": [
      "\u001b[1;31m---------------------------------------------------------------------------\u001b[0m",
      "\u001b[1;31mNameError\u001b[0m                                 Traceback (most recent call last)",
      "\u001b[1;32m<ipython-input-414-1d4236778dc2>\u001b[0m in \u001b[0;36m<module>\u001b[1;34m\u001b[0m\n\u001b[1;32m----> 1\u001b[1;33m \u001b[0mp3\u001b[0m\u001b[1;33m\u001b[0m\u001b[1;33m\u001b[0m\u001b[0m\n\u001b[0m",
      "\u001b[1;31mNameError\u001b[0m: name 'p3' is not defined"
     ]
    }
   ],
   "source": [
    "p3"
   ]
  },
  {
   "cell_type": "code",
   "execution_count": null,
   "metadata": {},
   "outputs": [],
   "source": []
  },
  {
   "cell_type": "code",
   "execution_count": null,
   "metadata": {},
   "outputs": [],
   "source": [
    "# class Student(Person):\n",
    "#     def __init__(self, name, age, student_id):\n",
    "# #         self.name = name\n",
    "# #         self.age = age\n",
    "# #         Person.__init__(name,age) # 슈퍼 상위 클래스를 부르고,\n",
    "#         Person.__init__(name,age) # 슈퍼 상위 클래스를 부르고,\n",
    "#         self.student_id = student_id # 나머지 얘들은 하위 클래스에만 있는 요소들 넣기\n",
    "    \n",
    "#     def study(self):\n",
    "#         print('와 공부 너무 재밌다.')\n",
    "\n",
    "# # 위에 코드 돌리고, 아래 코드 돌려서..:\n",
    "#     # 상속을 받았기 때문에 Person이 가지고 있는 모든 것을 받아쓸 수 있다.\n",
    "#     def greeting(self):\n",
    "#         print(f'안녕하세요 {self.student_id}학번 {self.name}입니다.')\n",
    "        \n",
    "#     def __gt__(self, other):\n",
    "#         return self.student_id > other.student_id\n",
    "    \n",
    "#     def __ge__(self, other):\n",
    "#         return self.student_id >= other.student_id\n",
    "    "
   ]
  },
  {
   "cell_type": "markdown",
   "metadata": {},
   "source": [
    "## 실습2\n",
    "\n",
    "> 사실 사람은 포유류입니다. \n",
    ">\n",
    "> Animal Class를 만들고, Person클래스가 상속받도록 구성해봅시다.\n",
    ">\n",
    "> 변수나, 메소드는 자유롭게 만들어봅시다."
   ]
  },
  {
   "cell_type": "code",
   "execution_count": null,
   "metadata": {},
   "outputs": [],
   "source": [
    "# class Person : Animal을 상속하도록 설정!!\n",
    "# class Person(Animal):\n",
    "#     pass"
   ]
  },
  {
   "cell_type": "code",
   "execution_count": null,
   "metadata": {},
   "outputs": [],
   "source": [
    "# 아래에 코드를 작성해주세요.\n",
    "class Animal:\n",
    "    population = 0\n",
    "    \n",
    "    def __init__(self, name, age):\n",
    "        Animal.population += 1\n",
    "        \n",
    "    def __del__(self)\n",
    "        print(f'{self.name}은 타계했습니다')\n",
    "\n",
    "    def \n",
    "        "
   ]
  },
  {
   "cell_type": "markdown",
   "metadata": {},
   "source": [
    "## 다중 상속\n",
    "두개 이상의 클래스를 상속받는 경우, 다중상속이 됩니다."
   ]
  },
  {
   "cell_type": "code",
   "execution_count": null,
   "metadata": {},
   "outputs": [],
   "source": [
    "# Person 클래스를 정의합니다."
   ]
  },
  {
   "cell_type": "code",
   "execution_count": null,
   "metadata": {},
   "outputs": [],
   "source": []
  },
  {
   "cell_type": "code",
   "execution_count": null,
   "metadata": {},
   "outputs": [],
   "source": [
    "# Mom 클래스를 정의합니다."
   ]
  },
  {
   "cell_type": "code",
   "execution_count": null,
   "metadata": {},
   "outputs": [],
   "source": []
  },
  {
   "cell_type": "code",
   "execution_count": null,
   "metadata": {},
   "outputs": [],
   "source": [
    "# Dad 클래스를 정의합니다."
   ]
  },
  {
   "cell_type": "code",
   "execution_count": null,
   "metadata": {},
   "outputs": [],
   "source": []
  },
  {
   "cell_type": "code",
   "execution_count": null,
   "metadata": {},
   "outputs": [],
   "source": [
    "# Child 클래스를 정의합니다."
   ]
  },
  {
   "cell_type": "code",
   "execution_count": null,
   "metadata": {},
   "outputs": [],
   "source": []
  },
  {
   "cell_type": "code",
   "execution_count": null,
   "metadata": {},
   "outputs": [],
   "source": [
    "# Child 의 인스턴스 객체를 확인합니다."
   ]
  },
  {
   "cell_type": "code",
   "execution_count": null,
   "metadata": {},
   "outputs": [],
   "source": []
  },
  {
   "cell_type": "code",
   "execution_count": null,
   "metadata": {},
   "outputs": [],
   "source": [
    "# cry 메서드를 실행합니다."
   ]
  },
  {
   "cell_type": "code",
   "execution_count": null,
   "metadata": {},
   "outputs": [],
   "source": []
  },
  {
   "cell_type": "code",
   "execution_count": null,
   "metadata": {},
   "outputs": [],
   "source": [
    "# swim 메서드를 실행합니다."
   ]
  },
  {
   "cell_type": "code",
   "execution_count": null,
   "metadata": {},
   "outputs": [],
   "source": []
  },
  {
   "cell_type": "code",
   "execution_count": null,
   "metadata": {},
   "outputs": [],
   "source": [
    "# walk 메서드를 실행합니다."
   ]
  },
  {
   "cell_type": "code",
   "execution_count": null,
   "metadata": {},
   "outputs": [],
   "source": []
  },
  {
   "cell_type": "code",
   "execution_count": null,
   "metadata": {},
   "outputs": [],
   "source": [
    "# gene 은 누구의 속성을 참조할까요?"
   ]
  },
  {
   "cell_type": "code",
   "execution_count": null,
   "metadata": {},
   "outputs": [],
   "source": []
  },
  {
   "cell_type": "code",
   "execution_count": null,
   "metadata": {},
   "outputs": [],
   "source": [
    "# 상속 순서를 바꿔봅시다."
   ]
  },
  {
   "cell_type": "code",
   "execution_count": null,
   "metadata": {},
   "outputs": [],
   "source": []
  },
  {
   "cell_type": "code",
   "execution_count": null,
   "metadata": {},
   "outputs": [],
   "source": [
    "# Child 의 인스턴스 객체를 확인합니다."
   ]
  },
  {
   "cell_type": "code",
   "execution_count": null,
   "metadata": {},
   "outputs": [],
   "source": []
  },
  {
   "cell_type": "code",
   "execution_count": null,
   "metadata": {},
   "outputs": [],
   "source": [
    "# cry메서드를 실행합니다."
   ]
  },
  {
   "cell_type": "code",
   "execution_count": null,
   "metadata": {},
   "outputs": [],
   "source": []
  },
  {
   "cell_type": "code",
   "execution_count": null,
   "metadata": {},
   "outputs": [],
   "source": [
    "# swim 메서드를 실행합니다."
   ]
  },
  {
   "cell_type": "code",
   "execution_count": null,
   "metadata": {},
   "outputs": [],
   "source": []
  },
  {
   "cell_type": "code",
   "execution_count": null,
   "metadata": {},
   "outputs": [],
   "source": [
    "# walk 메서드를 실행합니다."
   ]
  },
  {
   "cell_type": "code",
   "execution_count": null,
   "metadata": {},
   "outputs": [],
   "source": []
  },
  {
   "cell_type": "code",
   "execution_count": null,
   "metadata": {},
   "outputs": [],
   "source": [
    "# gene 은 누구의 속성을 참조할까요?"
   ]
  },
  {
   "cell_type": "code",
   "execution_count": null,
   "metadata": {},
   "outputs": [],
   "source": []
  },
  {
   "cell_type": "markdown",
   "metadata": {},
   "source": [
    "## 포켓몬 구현하기\n",
    "\n",
    "> 포켓몬을 상속하는 이상해씨, 파이리, 꼬부기를 구현해 봅시다. 게임을 만든다면 아래와 같이 먼저 기획을 하고 코드로 구현하게 됩니다.\n",
    "우선 아래와 같이 구현해 보고, 추가로 본인이 원하는 대로 구현 및 수정해 봅시다.\n",
    "\n",
    "모든 포켓몬은 다음과 같은 속성을 갖습니다.\n",
    "* `name`: 이름\n",
    "* `level`: 레벨\n",
    "    * 레벨은 시작할 때 모두 5 입니다.\n",
    "* `hp`: 체력\n",
    "    * 체력은 `level` * 20 입니다.\n",
    "* `exp`: 경험치\n",
    "    * 상대방을 쓰러뜨리면 상대방 `level` * 15 를 획득합니다.\n",
    "    * 경험치는 `level` * 100 이 되면, 레벨이 하나 올라가고 0부터 추가 됩니다. \n",
    "\n",
    "이후 이상해씨, 파이리, 꼬부기는 포켓몬을 상속하여 자유롭게 구현해 봅시다.\n",
    "\n",
    "추가적으로 \n",
    "\n",
    "* 포켓몬 => 물포켓몬 => 꼬부기 \n",
    "* 포켓몬 => 물포켓몬 => 잉어킹\n",
    "* 포켓몬 => 비행포켓몬, 불포켓몬 => 파이어\n",
    "\n",
    "와 같이 다양한 추가 상속관계도 구현해 봅시다."
   ]
  },
  {
   "cell_type": "code",
   "execution_count": 418,
   "metadata": {},
   "outputs": [],
   "source": [
    "# 아래에 코드를 작성해주세요.\n",
    "\n",
    "# method에서 주의하기!\n",
    "class PocketMonster:\n",
    "    name = ''\n",
    "    level = 5\n",
    "    hp = level*20\n",
    "    exp = 0\n",
    "    \n",
    "#     def __init__(self, name='Monster', level=5):\n",
    "    def __init__(self, name='Monster', level = 5): # Q> 이렇게 되면 외부의 enclosed namespace를 참조하지 않는가? ##$$Q\n",
    "        self.name = name\n",
    "        self.level = level\n",
    "        self.hp = level*20\n",
    "        exp = 0\n",
    "\n",
    "    def status(self):\n",
    "        print(f'{self.name}의 현재 level은 {self.level}, 경험치는 {self.exp} 남은 HP는 {self.hp}입니다.')\n",
    "        \n",
    "    def __del__(self):\n",
    "        print(f'{self.name}는 공격을 받아 쓰러졌습니다..8ㅅ8')\n",
    "\n",
    "        \n",
    "    def bark(self):\n",
    "        print('pikachu')\n",
    "\n",
    "    def body_attack(self, counterpartMonster):  # PocketMonster 로 넣으면 어떻게 될까??\n",
    "        print(f'{self.name}가(이) {counterpartMonster.name}에게 `몸통박치기`로 -{self.level * 5} HP만큼 타격을 가했습니다.')\n",
    "        counterpartMonster.hp -=self.level * 5\n",
    "        if counterpartMonster.hp <= 0:\n",
    "            del counterpartMonster\n",
    "                    \n",
    "    def thousand_volt(self, counterpartMonster):\n",
    "        print(f'{self.name}(가)이 {counterpartMonster.name}에게 `십만볼트로`로 -{self.level * 7} HP만큼 타격을 가했습니다.')\n",
    "        if counterpartMonster.hp > 0:\n",
    "            counterpartMonster.hp -=self.level * 7\n",
    "        # 상대방의 hp가 0이하로 떨어지면 발생하는 것들\n",
    "            if counterpartMonster.hp <= 0:\n",
    "                self.exp += counterpartMonster.level*15 # 경험치 증가\n",
    "                del counterpartMonster                  # 상대방이 쓰러지면 객체 파괴\n",
    "                # 확인 : 이것도 모듈화 필요\n",
    "            # 경험치 획들에 따른 레벨업\n",
    "            while( self.exp >= self.level*100 ):\n",
    "                self.exp -= self.level*100\n",
    "                self.level += 1\n",
    "        else: \n",
    "            print(f'이미 {counterpartMonster.name}은(는) 빈사상태입니다.')\n",
    "  \n",
    "            \n",
    "# 핵 객체 지향 프로그램."
   ]
  },
  {
   "cell_type": "code",
   "execution_count": null,
   "metadata": {},
   "outputs": [],
   "source": [
    "# 아래에 코드를 작성해주세요.\n",
    "\n",
    "# method에서 주의하기!\n",
    "class electric_PocketMonster:\n",
    "    name = ''\n",
    "    level = 5\n",
    "    hp = level*20\n",
    "    exp = 0\n",
    "    \n",
    "#     def __init__(self, name='Monster', level=5):\n",
    "    def __init__(self, name='Monster', level = 5): # Q> 이렇게 되면 외부의 enclosed namespace를 참조하지 않는가? ##$$Q\n",
    "        self.name = name\n",
    "        self.level = level\n",
    "        self.hp = level*20\n",
    "        exp = 0\n",
    "\n",
    "    def status(self):\n",
    "        print(f'{self.name}의 현재 level은 {self.level}, 경험치는 {self.exp} 남은 HP는 {self.hp}입니다.')\n",
    "        \n",
    "    def __del__(self):\n",
    "        print(f'{self.name}는 공격을 받아 쓰러졌습니다..8ㅅ8')\n",
    "\n",
    "        \n",
    "    def bark(self):\n",
    "        print('pikachu')\n",
    "\n",
    "    def body_attack(self, counterpartMonster):  # PocketMonster 로 넣으면 어떻게 될까??\n",
    "        print(f'{self.name}가(이) {counterpartMonster.name}에게 `몸통박치기`로 -{self.level * 5} HP만큼 타격을 가했습니다.')\n",
    "        counterpartMonster.hp -=self.level * 5\n",
    "        if counterpartMonster.hp <= 0:\n",
    "            del counterpartMonster\n",
    "                    \n",
    "    def thousand_volt(self, counterpartMonster):\n",
    "        print(f'{self.name}(가)이 {counterpartMonster.name}에게 `십만볼트로`로 -{self.level * 7} HP만큼 타격을 가했습니다.')\n",
    "        if counterpartMonster.hp > 0:\n",
    "            counterpartMonster.hp -=self.level * 7\n",
    "        # 상대방의 hp가 0이하로 떨어지면 발생하는 것들\n",
    "            if counterpartMonster.hp <= 0:\n",
    "                self.exp += counterpartMonster.level*15 # 경험치 증가\n",
    "                del counterpartMonster                  # 상대방이 쓰러지면 객체 파괴\n",
    "                # 확인 : 이것도 모듈화 필요\n",
    "            # 경험치 획들에 따른 레벨업\n",
    "            while( self.exp >= self.level*100 ):\n",
    "                self.exp -= self.level*100\n",
    "                self.level += 1\n",
    "        else: \n",
    "            print(f'이미 {counterpartMonster.name}은(는) 빈사상태입니다.')\n",
    "  \n",
    "            \n",
    "# 핵 객체 지향 프로그램."
   ]
  },
  {
   "cell_type": "code",
   "execution_count": 421,
   "metadata": {},
   "outputs": [],
   "source": [
    "class waterPocketMonster:\n",
    "    name = ''\n",
    "    level = 5\n",
    "    hp = level*20\n",
    "    exp = 0\n",
    "    \n",
    "    \n",
    "#     def __init__(self, name='Monster', level=5):\n",
    "    def __init__(self, name='waterMonster', level = 5): # Q> 이렇게 되면 외부의 enclosed namespace를 참조하지 않는가? ##$$Q\n",
    "        self.name = name\n",
    "        self.level = level\n",
    "        self.hp = level*20\n",
    "        exp = 0\n",
    "\n",
    "    def status(self):\n",
    "        print(f'{self.name}의 현재 level은 {self.level}, 경험치는 {self.exp} 남은 HP는 {self.hp}입니다.')\n",
    "        \n",
    "    def __del__(self):\n",
    "        print(f'{self.name}는 공격을 받아 쓰러졌습니다..8ㅅ8')\n"
   ]
  },
  {
   "cell_type": "code",
   "execution_count": 419,
   "metadata": {},
   "outputs": [],
   "source": [
    "class firePocketMonster:\n",
    "    name = ''\n",
    "    level = 5\n",
    "    hp = level*20\n",
    "    exp = 0\n",
    "\n",
    "    #     def __init__(self, name='Monster', level=5):\n",
    "    def __init__(self, name='fireMonster', level = 5): # Q> 이렇게 되면 외부의 enclosed namespace를 참조하지 않는가? ##$$Q\n",
    "        self.name = name\n",
    "        self.level = level\n",
    "        self.hp = level*20\n",
    "        exp = 0\n",
    "\n",
    "    def status(self):\n",
    "        print(f'{self.name}의 현재 level은 {self.level}, 경험치는 {self.exp} 남은 HP는 {self.hp}입니다.')\n",
    "\n",
    "    def __del__(self):\n",
    "        print(f'{self.name}는 공격을 받아 쓰러졌습니다..8ㅅ8')\n",
    "\n",
    "    def body_attack(self, counterpartMonster):  # PocketMonster 로 넣으면 어떻게 될까??\n",
    "        print(f'{self.name}가(이) {counterpartMonster.name}에게 `몸통박치기`로 -{self.level * 5} HP만큼 타격을 가했습니다.')\n",
    "        counterpartMonster.hp -=self.level * 6\n",
    "        if counterpartMonster.hp <= 0:\n",
    "            del counterpartMonster\n",
    "\n",
    "\n",
    "    def fire_volt(self, counterpartMonster):\n",
    "        print(f'{self.name}(가)이 {counterpartMonster.name}에게 `파이어볼트로`로 -{self.level * 7} HP만큼 타격을 가했습니다.')\n",
    "        if counterpartMonster.hp > 0:\n",
    "            counterpartMonster.hp -=self.level * 7\n",
    "        # 상대방의 hp가 0이하로 떨어지면 발생하는 것들\n",
    "            if counterpartMonster.hp <= 0:\n",
    "                self.exp += counterpartMonster.level*15 # 경험치 증가\n",
    "                del counterpartMonster                  # 상대방이 쓰러지면 객체 파괴\n",
    "                # 확인 : 이것도 모듈화 필요\n",
    "            # 경험치 획들에 따른 레벨업\n",
    "            while( self.exp >= self.level*100 ):\n",
    "                self.exp -= self.level*100\n",
    "                self.level += 1\n",
    "        else: \n",
    "            print(f'이미 {counterpartMonster.name}은(는) 빈사상태입니다.')\n"
   ]
  },
  {
   "cell_type": "code",
   "execution_count": 420,
   "metadata": {},
   "outputs": [],
   "source": [
    "class flyPocketMonster:\n",
    "    name = ''\n",
    "    level = 5\n",
    "    hp = level*20\n",
    "    exp = 0\n",
    "\n",
    "    #     def __init__(self, name='Monster', level=5):\n",
    "    def __init__(self, name='Monster', level = 5): # Q> 이렇게 되면 외부의 enclosed namespace를 참조하지 않는가? ##$$Q\n",
    "        self.name = name\n",
    "        self.level = level\n",
    "        self.hp = level*20\n",
    "        exp = 0\n",
    "\n",
    "    def status(self):\n",
    "        print(f'{self.name}의 현재 level은 {self.level}, 경험치는 {self.exp} 남은 HP는 {self.hp}입니다.')\n",
    "\n",
    "    def __del__(self):\n",
    "        print(f'{self.name}는 공격을 받아 쓰러졌습니다..8ㅅ8')\n",
    "\n",
    "    def body_attack(self, counterpartMonster):  # PocketMonster 로 넣으면 어떻게 될까??\n",
    "        print(f'{self.name}가(이) {counterpartMonster.name}에게 `몸통박치기`로 -{self.level * 5} HP만큼 타격을 가했습니다.')\n",
    "        counterpartMonster.hp -=self.level * 6\n",
    "        if counterpartMonster.hp <= 0:\n",
    "            del counterpartMonster\n",
    "\n",
    "    def wind_volt(self, counterpartMonster):\n",
    "        print(f'{self.name}(가)이 {counterpartMonster.name}에게 `윈드볼트로`로 -{self.level * 7} HP만큼 타격을 가했습니다.')\n",
    "        if counterpartMonster.hp > 0:\n",
    "            counterpartMonster.hp -=self.level * 7\n",
    "        # 상대방의 hp가 0이하로 떨어지면 발생하는 것들\n",
    "            if counterpartMonster.hp <= 0:\n",
    "                self.exp += counterpartMonster.level*15 # 경험치 증가\n",
    "                del counterpartMonster                  # 상대방이 쓰러지면 객체 파괴\n",
    "                # 확인 : 이것도 모듈화 필요\n",
    "            # 경험치 획들에 따른 레벨업\n",
    "            while( self.exp >= self.level*100 ):\n",
    "                self.exp -= self.level*100\n",
    "                self.level += 1\n",
    "        else: \n",
    "            print(f'이미 {counterpartMonster.name}은(는) 빈사상태입니다.')\n"
   ]
  },
  {
   "cell_type": "code",
   "execution_count": null,
   "metadata": {},
   "outputs": [],
   "source": []
  },
  {
   "cell_type": "code",
   "execution_count": null,
   "metadata": {},
   "outputs": [],
   "source": []
  },
  {
   "cell_type": "code",
   "execution_count": null,
   "metadata": {},
   "outputs": [],
   "source": []
  },
  {
   "cell_type": "code",
   "execution_count": null,
   "metadata": {},
   "outputs": [],
   "source": []
  },
  {
   "cell_type": "code",
   "execution_count": null,
   "metadata": {},
   "outputs": [],
   "source": []
  },
  {
   "cell_type": "code",
   "execution_count": null,
   "metadata": {},
   "outputs": [],
   "source": []
  },
  {
   "cell_type": "code",
   "execution_count": null,
   "metadata": {},
   "outputs": [],
   "source": []
  },
  {
   "cell_type": "code",
   "execution_count": null,
   "metadata": {},
   "outputs": [],
   "source": []
  },
  {
   "cell_type": "code",
   "execution_count": null,
   "metadata": {},
   "outputs": [],
   "source": []
  }
 ],
 "metadata": {
  "kernelspec": {
   "display_name": "Python 3",
   "language": "python",
   "name": "python3"
  },
  "language_info": {
   "codemirror_mode": {
    "name": "ipython",
    "version": 3
   },
   "file_extension": ".py",
   "mimetype": "text/x-python",
   "name": "python",
   "nbconvert_exporter": "python",
   "pygments_lexer": "ipython3",
   "version": "3.7.3"
  },
  "latex_envs": {
   "LaTeX_envs_menu_present": true,
   "autoclose": false,
   "autocomplete": true,
   "bibliofile": "biblio.bib",
   "cite_by": "apalike",
   "current_citInitial": 1,
   "eqLabelWithNumbers": true,
   "eqNumInitial": 1,
   "hotkeys": {
    "equation": "Ctrl-E",
    "itemize": "Ctrl-I"
   },
   "labels_anchors": false,
   "latex_user_defs": false,
   "report_style_numbering": false,
   "user_envs_cfg": false
  },
  "toc": {
   "base_numbering": 1,
   "nav_menu": {},
   "number_sections": true,
   "sideBar": true,
   "skip_h1_title": false,
   "title_cell": "Table of Contents",
   "title_sidebar": "Contents",
   "toc_cell": false,
   "toc_position": {},
   "toc_section_display": true,
   "toc_window_display": false
  }
 },
 "nbformat": 4,
 "nbformat_minor": 2
}
