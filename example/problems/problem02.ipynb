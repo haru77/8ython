{
 "cells": [
  {
   "cell_type": "code",
   "execution_count": null,
   "metadata": {},
   "outputs": [],
   "source": []
  },
  {
   "cell_type": "code",
   "execution_count": 27,
   "metadata": {},
   "outputs": [
    {
     "name": "stdout",
     "output_type": "stream",
     "text": [
      "{'BTC': {'opening_price': '12756000', 'closing_price': '11200000', 'min_price': '11000000', 'max_price': '13000000', 'average_price': '11931749.3516', 'units_traded': '18431.17058845', 'volume_1day': '18431.17058845', 'volume_7day': '95804.79218979', 'buy_price': '11205000', 'sell_price': '11218000', '24H_fluctate': '-1556000', '24H_fluctate_rate': '-12.19'}, 'ETH': {'opening_price': '271300', 'closing_price': '236100', 'min_price': '231500', 'max_price': '276000', 'average_price': '251157.2914', 'units_traded': '145238.44830862', 'volume_1day': '145238.44830862', 'volume_7day': '695458.484418215743882788', 'buy_price': '236000', 'sell_price': '236300', '24H_fluctate': '-35200', '24H_fluctate_rate': '-12.97'}, 'DASH': {'opening_price': '162400', 'closing_price': '139600', 'min_price': '130100', 'max_price': '163500', 'average_price': '151956.1661', 'units_traded': '2357319.79151697', 'volume_1day': '2357319.79151697', 'volume_7day': '10216702.13365874', 'buy_price': '138600', 'sell_price': '141200', '24H_fluctate': '-22800', '24H_fluctate_rate': '-14.03'}, 'LTC': {'opening_price': '106900', 'closing_price': '94450', 'min_price': '92300', 'max_price': '109200', 'average_price': '100192.7861', 'units_traded': '30324.69528848', 'volume_1day': '30324.69528848', 'volume_7day': '191786.07095373', 'buy_price': '94000', 'sell_price': '94200', '24H_fluctate': '-12450', '24H_fluctate_rate': '-11.64'}, 'ETC': {'opening_price': '6875', 'closing_price': '6465', 'min_price': '6295', 'max_price': '7320', 'average_price': '6726.1942', 'units_traded': '213127.31275502', 'volume_1day': '213127.31275502', 'volume_7day': '966789.962063603046780939', 'buy_price': '6445', 'sell_price': '6465', '24H_fluctate': '-410', '24H_fluctate_rate': '-5.96'}, 'XRP': {'opening_price': '374', 'closing_price': '357', 'min_price': '350', 'max_price': '381', 'average_price': '364.5151', 'units_traded': '89818038.51172421', 'volume_1day': '89818038.51172421', 'volume_7day': '694969540.16390361', 'buy_price': '356', 'sell_price': '357', '24H_fluctate': '-17', '24H_fluctate_rate': '-4.54'}, 'BCH': {'opening_price': '368000', 'closing_price': '340300', 'min_price': '329000', 'max_price': '376500', 'average_price': '348432.5563', 'units_traded': '48510.88159852', 'volume_1day': '48510.88159852', 'volume_7day': '246523.90803181', 'buy_price': '340300', 'sell_price': '340900', '24H_fluctate': '-27700', '24H_fluctate_rate': '-7.52'}, 'XMR': {'opening_price': '101200', 'closing_price': '85500', 'min_price': '84900', 'max_price': '102000', 'average_price': '93472.8903', 'units_traded': '6137161.68129787', 'volume_1day': '6137161.68129787', 'volume_7day': '22789695.338822852552', 'buy_price': '85900', 'sell_price': '86450', '24H_fluctate': '-15700', '24H_fluctate_rate': '-15.51'}, 'ZEC': {'opening_price': '106000', 'closing_price': '91750', 'min_price': '89000', 'max_price': '118300', 'average_price': '102978.0258', 'units_traded': '3475.28433097', 'volume_1day': '3475.28433097', 'volume_7day': '17448.18187653', 'buy_price': '90100', 'sell_price': '91650', '24H_fluctate': '-14250', '24H_fluctate_rate': '-13.44'}, 'QTUM': {'opening_price': '3901', 'closing_price': '3303', 'min_price': '3137', 'max_price': '3960', 'average_price': '3564.6923', 'units_traded': '581913.84563373', 'volume_1day': '581913.84563373', 'volume_7day': '4007986.95125047', 'buy_price': '3303', 'sell_price': '3318', '24H_fluctate': '-598', '24H_fluctate_rate': '-15.32'}, 'BTG': {'opening_price': '29210', 'closing_price': '27490', 'min_price': '27000', 'max_price': '30340', 'average_price': '28749.8546', 'units_traded': '15732.14112179', 'volume_1day': '15732.14112179', 'volume_7day': '224636.62087917', 'buy_price': '27400', 'sell_price': '27490', '24H_fluctate': '-1720', '24H_fluctate_rate': '-5.88'}, 'EOS': {'opening_price': '5095', 'closing_price': '4331', 'min_price': '4230', 'max_price': '5175', 'average_price': '4609.8374', 'units_traded': '4905134.48393673', 'volume_1day': '4905134.48393673', 'volume_7day': '21611984.56291716', 'buy_price': '4321', 'sell_price': '4331', '24H_fluctate': '-764', '24H_fluctate_rate': '-14.99'}, 'ICX': {'opening_price': '342', 'closing_price': '307', 'min_price': '300', 'max_price': '349', 'average_price': '325.6107', 'units_traded': '385051.78088568', 'volume_1day': '385051.78088568', 'volume_7day': '3590547.260688584750396732', 'buy_price': '305', 'sell_price': '307', '24H_fluctate': '-35', '24H_fluctate_rate': '-10.23'}, 'VET': {'opening_price': '7.62', 'closing_price': '6.9', 'min_price': '6.82', 'max_price': '7.69', 'average_price': '7.2099', 'units_traded': '11401997.58866069', 'volume_1day': '11401997.58866069', 'volume_7day': '135882711.939941799474615319', 'buy_price': '6.85', 'sell_price': '6.9', '24H_fluctate': '-0.72', '24H_fluctate_rate': '-9.44'}, 'TRX': {'opening_price': '28.7', 'closing_price': '24.8', 'min_price': '24', 'max_price': '29.3', 'average_price': '26.5542', 'units_traded': '136882537.16062938', 'volume_1day': '136882537.16062938', 'volume_7day': '651478196.51321819', 'buy_price': '24.7', 'sell_price': '24.8', '24H_fluctate': '-3.9', '24H_fluctate_rate': '-13.58'}, 'ELF': {'opening_price': '164', 'closing_price': '134', 'min_price': '129', 'max_price': '165', 'average_price': '145.7352', 'units_traded': '1166564.04825834', 'volume_1day': '1166564.04825834', 'volume_7day': '10654897.632938102578687607', 'buy_price': '133', 'sell_price': '134', '24H_fluctate': '-30', '24H_fluctate_rate': '-18.29'}, 'MITH': {'opening_price': '47.5', 'closing_price': '41.7', 'min_price': '39.7', 'max_price': '48.2', 'average_price': '43.6074', 'units_traded': '4876325.18905018', 'volume_1day': '4876325.18905018', 'volume_7day': '18572858.715663987453504042', 'buy_price': '40.8', 'sell_price': '41.5', '24H_fluctate': '-5.8', '24H_fluctate_rate': '-12.21'}, 'MCO': {'opening_price': '6090', 'closing_price': '5715', 'min_price': '4800', 'max_price': '6165', 'average_price': '5427.5788', 'units_traded': '66626.59984308', 'volume_1day': '66626.59984308', 'volume_7day': '288445.27400526', 'buy_price': '5570', 'sell_price': '5710', '24H_fluctate': '-375', '24H_fluctate_rate': '-6.15'}, 'OMG': {'opening_price': '1842', 'closing_price': '1587', 'min_price': '1555', 'max_price': '1877', 'average_price': '1711.7248', 'units_traded': '565810.47324577', 'volume_1day': '565810.47324577', 'volume_7day': '3497849.56412093258833701', 'buy_price': '1606', 'sell_price': '1614', '24H_fluctate': '-255', '24H_fluctate_rate': '-13.84'}, 'KNC': {'opening_price': '224', 'closing_price': '188', 'min_price': '181', 'max_price': '228', 'average_price': '197.023', 'units_traded': '1630038.18809897', 'volume_1day': '1630038.18809897', 'volume_7day': '6642871.204374862807234699', 'buy_price': '185', 'sell_price': '187', '24H_fluctate': '-36', '24H_fluctate_rate': '-16.07'}, 'GNT': {'opening_price': '76.5', 'closing_price': '64.1', 'min_price': '62', 'max_price': '78.1', 'average_price': '70.9792', 'units_traded': '684889.00222543', 'volume_1day': '684889.00222543', 'volume_7day': '5728729.340675769454116624', 'buy_price': '64.1', 'sell_price': '65.3', '24H_fluctate': '-12.4', '24H_fluctate_rate': '-16.20'}, 'ZIL': {'opening_price': '17.1', 'closing_price': '15.8', 'min_price': '15.1', 'max_price': '17.1', 'average_price': '16.1543', 'units_traded': '8609017.91034495', 'volume_1day': '8609017.91034495', 'volume_7day': '64290235.295375059259', 'buy_price': '15.8', 'sell_price': '15.9', '24H_fluctate': '-1.3', '24H_fluctate_rate': '-7.60'}, 'ETHOS': {'opening_price': '153', 'closing_price': '136', 'min_price': '127', 'max_price': '158', 'average_price': '143.6034', 'units_traded': '3920903.28463847', 'volume_1day': '3920903.28463847', 'volume_7day': '48089907.56022503', 'buy_price': '133', 'sell_price': '135', '24H_fluctate': '-17', '24H_fluctate_rate': '-11.11'}, 'PAY': {'opening_price': '276', 'closing_price': '248', 'min_price': '235', 'max_price': '277', 'average_price': '255.7', 'units_traded': '249359.38240087', 'volume_1day': '249359.38240087', 'volume_7day': '3158783.785818322053643046', 'buy_price': '243', 'sell_price': '251', '24H_fluctate': '-28', '24H_fluctate_rate': '-10.14'}, 'WAX': {'opening_price': '65.6', 'closing_price': '55.1', 'min_price': '52.3', 'max_price': '66.3', 'average_price': '58.7642', 'units_traded': '2112254.99021476', 'volume_1day': '2112254.99021476', 'volume_7day': '16430226.19667985', 'buy_price': '55', 'sell_price': '55.8', '24H_fluctate': '-10.5', '24H_fluctate_rate': '-16.00'}, 'POWR': {'opening_price': '98.5', 'closing_price': '86.3', 'min_price': '85', 'max_price': '103', 'average_price': '94.8334', 'units_traded': '1008533.33720059', 'volume_1day': '1008533.33720059', 'volume_7day': '7770383.41247427', 'buy_price': '86.3', 'sell_price': '86.4', '24H_fluctate': '-12.2', '24H_fluctate_rate': '-12.38'}, 'LRC': {'opening_price': '74.9', 'closing_price': '65', 'min_price': '62.6', 'max_price': '76', 'average_price': '69.635', 'units_traded': '763663.084', 'volume_1day': '763663.084', 'volume_7day': '5619207.823153228685816445', 'buy_price': '63.1', 'sell_price': '64', '24H_fluctate': '-9.9', '24H_fluctate_rate': '-13.21'}, 'GTO': {'opening_price': '27.7', 'closing_price': '24.6', 'min_price': '22.9', 'max_price': '29.1', 'average_price': '26.3849', 'units_traded': '3607750.7673', 'volume_1day': '3607750.7673', 'volume_7day': '29037568.94852787', 'buy_price': '24.6', 'sell_price': '24.7', '24H_fluctate': '-3.1', '24H_fluctate_rate': '-11.19'}, 'STEEM': {'opening_price': '392', 'closing_price': '341', 'min_price': '329', 'max_price': '404', 'average_price': '365.1001', 'units_traded': '758832.70737056', 'volume_1day': '758832.70737056', 'volume_7day': '11972187.29771009', 'buy_price': '340', 'sell_price': '341', '24H_fluctate': '-51', '24H_fluctate_rate': '-13.01'}, 'STRAT': {'opening_price': '1471', 'closing_price': '1260', 'min_price': '1212', 'max_price': '1500', 'average_price': '1370.0348', 'units_traded': '163301.16211421', 'volume_1day': '163301.16211421', 'volume_7day': '1574761.39240218', 'buy_price': '1231', 'sell_price': '1259', '24H_fluctate': '-211', '24H_fluctate_rate': '-14.34'}, 'ZRX': {'opening_price': '303', 'closing_price': '256', 'min_price': '251', 'max_price': '318', 'average_price': '290.1452', 'units_traded': '1366546.62462701', 'volume_1day': '1366546.62462701', 'volume_7day': '5401462.323253470687706821', 'buy_price': '256', 'sell_price': '258', '24H_fluctate': '-47', '24H_fluctate_rate': '-15.51'}, 'REP': {'opening_price': '19920', 'closing_price': '17060', 'min_price': '16110', 'max_price': '20980', 'average_price': '18617.1888', 'units_traded': '32528.61853096', 'volume_1day': '32528.61853096', 'volume_7day': '197783.329376265001025999', 'buy_price': '17030', 'sell_price': '17100', '24H_fluctate': '-2860', '24H_fluctate_rate': '-14.35'}, 'AE': {'opening_price': '522', 'closing_price': '453', 'min_price': '447', 'max_price': '543', 'average_price': '489.1385', 'units_traded': '313121.84031864', 'volume_1day': '313121.84031864', 'volume_7day': '2489015.693563084264651685', 'buy_price': '450', 'sell_price': '453', '24H_fluctate': '-69', '24H_fluctate_rate': '-13.21'}, 'XEM': {'opening_price': '97.4', 'closing_price': '80.6', 'min_price': '75.2', 'max_price': '101', 'average_price': '91.128', 'units_traded': '1491771.22016428', 'volume_1day': '1491771.22016428', 'volume_7day': '12601774.12670864', 'buy_price': '80.8', 'sell_price': '82', '24H_fluctate': '-16.8', '24H_fluctate_rate': '-17.24'}, 'SNT': {'opening_price': '24.8', 'closing_price': '21.9', 'min_price': '21.2', 'max_price': '25.7', 'average_price': '23.0242', 'units_traded': '8782763.10961898', 'volume_1day': '8782763.10961898', 'volume_7day': '57973066.578512071437666452', 'buy_price': '21.6', 'sell_price': '21.9', '24H_fluctate': '-2.9', '24H_fluctate_rate': '-11.69'}, 'ADA': {'opening_price': '95.7', 'closing_price': '79.6', 'min_price': '73', 'max_price': '98.1', 'average_price': '87.2283', 'units_traded': '11076797.62300498', 'volume_1day': '11076797.62300498', 'volume_7day': '65393906.47720293', 'buy_price': '79.6', 'sell_price': '79.7', '24H_fluctate': '-16.1', '24H_fluctate_rate': '-16.82'}, 'PPT': {'opening_price': '3453', 'closing_price': '2831', 'min_price': '2800', 'max_price': '3537', 'average_price': '3148.9147', 'units_traded': '105427.22582302', 'volume_1day': '105427.22582302', 'volume_7day': '1417929.24409229', 'buy_price': '2831', 'sell_price': '2850', '24H_fluctate': '-622', '24H_fluctate_rate': '-18.01'}, 'CTXC': {'opening_price': '493', 'closing_price': '400', 'min_price': '270', 'max_price': '496', 'average_price': '422.3616', 'units_traded': '781329.25805389', 'volume_1day': '781329.25805389', 'volume_7day': '7933435.606075825741524307', 'buy_price': '400', 'sell_price': '408', '24H_fluctate': '-93', '24H_fluctate_rate': '-18.86'}, 'CMT': {'opening_price': '63.5', 'closing_price': '52.1', 'min_price': '50', 'max_price': '65.7', 'average_price': '57.4992', 'units_traded': '10883124.88337285', 'volume_1day': '10883124.88337285', 'volume_7day': '188827257.871467386629530622', 'buy_price': '51.9', 'sell_price': '52.1', '24H_fluctate': '-11.4', '24H_fluctate_rate': '-17.95'}, 'THETA': {'opening_price': '114', 'closing_price': '115', 'min_price': '95.5', 'max_price': '125', 'average_price': '111.367', 'units_traded': '3644126.33694716', 'volume_1day': '3644126.33694716', 'volume_7day': '8796252.609566350954745378', 'buy_price': '113', 'sell_price': '115', '24H_fluctate': '1', '24H_fluctate_rate': '0.87'}, 'WTC': {'opening_price': '2592', 'closing_price': '2206', 'min_price': '2204', 'max_price': '2679', 'average_price': '2444.2225', 'units_traded': '191328.42498096', 'volume_1day': '191328.42498096', 'volume_7day': '4810412.237393110756993105', 'buy_price': '2207', 'sell_price': '2219', '24H_fluctate': '-386', '24H_fluctate_rate': '-14.89'}, 'ITC': {'opening_price': '351', 'closing_price': '286', 'min_price': '276', 'max_price': '385', 'average_price': '333.3036', 'units_traded': '1722306.46059178', 'volume_1day': '1722306.46059178', 'volume_7day': '23132601.47515488602318694', 'buy_price': '288', 'sell_price': '294', '24H_fluctate': '-65', '24H_fluctate_rate': '-18.51'}, 'TRUE': {'opening_price': '539', 'closing_price': '467', 'min_price': '441', 'max_price': '559', 'average_price': '498.1345', 'units_traded': '285155.30388204', 'volume_1day': '285155.30388204', 'volume_7day': '4667461.568929368634675721', 'buy_price': '466', 'sell_price': '467', '24H_fluctate': '-72', '24H_fluctate_rate': '-13.35'}, 'ABT': {'opening_price': '300', 'closing_price': '253', 'min_price': '243', 'max_price': '342', 'average_price': '298.2088', 'units_traded': '3092043.4126792', 'volume_1day': '3092043.4126792', 'volume_7day': '12236641.464056019743480086', 'buy_price': '251', 'sell_price': '253', '24H_fluctate': '-47', '24H_fluctate_rate': '-15.66'}, 'RNT': {'opening_price': '41.8', 'closing_price': '38.7', 'min_price': '36.9', 'max_price': '42.9', 'average_price': '39.8951', 'units_traded': '4422342.22017233', 'volume_1day': '4422342.22017233', 'volume_7day': '32295996.895482383345040979', 'buy_price': '38.3', 'sell_price': '38.7', '24H_fluctate': '-3.1', '24H_fluctate_rate': '-7.41'}, 'PLY': {'opening_price': '13.6', 'closing_price': '11.8', 'min_price': '11.2', 'max_price': '13.8', 'average_price': '12.5981', 'units_traded': '47510041.30919659', 'volume_1day': '47510041.30919659', 'volume_7day': '310139004.915854237', 'buy_price': '11.6', 'sell_price': '11.8', '24H_fluctate': '-1.8', '24H_fluctate_rate': '-13.23'}, 'WAVES': {'opening_price': '2611', 'closing_price': '2256', 'min_price': '2035', 'max_price': '2690', 'average_price': '2459.4504', 'units_traded': '250274.87820016', 'volume_1day': '250274.87820016', 'volume_7day': '1584495.0493693', 'buy_price': '2214', 'sell_price': '2247', '24H_fluctate': '-355', '24H_fluctate_rate': '-13.59'}, 'LINK': {'opening_price': '4560', 'closing_price': '3959', 'min_price': '3600', 'max_price': '4699', 'average_price': '4180.0977', 'units_traded': '380144.0243506', 'volume_1day': '380144.0243506', 'volume_7day': '5091757.638175046265604235', 'buy_price': '3907', 'sell_price': '3954', '24H_fluctate': '-601', '24H_fluctate_rate': '-13.17'}, 'ENJ': {'opening_price': '119', 'closing_price': '96.6', 'min_price': '93.4', 'max_price': '121', 'average_price': '104.73', 'units_traded': '20800883.07162165', 'volume_1day': '20800883.07162165', 'volume_7day': '85885970.26932020673174538', 'buy_price': '96.5', 'sell_price': '96.6', '24H_fluctate': '-22.4', '24H_fluctate_rate': '-18.82'}, 'PST': {'opening_price': '147', 'closing_price': '132', 'min_price': '131', 'max_price': '153', 'average_price': '142.128', 'units_traded': '4627879.78856906', 'volume_1day': '4627879.78856906', 'volume_7day': '24191026.353485285449642233', 'buy_price': '132', 'sell_price': '134', '24H_fluctate': '-15', '24H_fluctate_rate': '-10.20'}, 'SALT': {'opening_price': '211', 'closing_price': '183', 'min_price': '180', 'max_price': '213', 'average_price': '198.3498', 'units_traded': '268316.74967162', 'volume_1day': '268316.74967162', 'volume_7day': '2762201.39562876', 'buy_price': '182', 'sell_price': '183', '24H_fluctate': '-28', '24H_fluctate_rate': '-13.27'}, 'RDN': {'opening_price': '1006', 'closing_price': '869', 'min_price': '820', 'max_price': '1030', 'average_price': '936.3847', 'units_traded': '163696.39348704', 'volume_1day': '163696.39348704', 'volume_7day': '1907697.953992760179720427', 'buy_price': '862', 'sell_price': '869', '24H_fluctate': '-137', '24H_fluctate_rate': '-13.61'}, 'LOOM': {'opening_price': '88.6', 'closing_price': '69.1', 'min_price': '68.5', 'max_price': '90', 'average_price': '77.7849', 'units_traded': '399499.76217958', 'volume_1day': '399499.76217958', 'volume_7day': '3914197.803944474238507997', 'buy_price': '69.1', 'sell_price': '72.7', '24H_fluctate': '-19.5', '24H_fluctate_rate': '-22.00'}, 'PIVX': {'opening_price': '1997', 'closing_price': '1634', 'min_price': '1634', 'max_price': '1997', 'average_price': '1814.7694', 'units_traded': '50694.39819083', 'volume_1day': '50694.39819083', 'volume_7day': '453606.6405428', 'buy_price': '1634', 'sell_price': '1698', '24H_fluctate': '-363', '24H_fluctate_rate': '-18.17'}, 'INS': {'opening_price': '447', 'closing_price': '390', 'min_price': '360', 'max_price': '466', 'average_price': '413.3757', 'units_traded': '469145.69300377', 'volume_1day': '469145.69300377', 'volume_7day': '8755427.2658618372', 'buy_price': '377', 'sell_price': '390', '24H_fluctate': '-57', '24H_fluctate_rate': '-12.75'}, 'BCD': {'opening_price': '2181', 'closing_price': '1915', 'min_price': '1790', 'max_price': '2223', 'average_price': '1983.2759', 'units_traded': '156728.94824354', 'volume_1day': '156728.94824354', 'volume_7day': '1673158.46150435', 'buy_price': '1900', 'sell_price': '1915', '24H_fluctate': '-266', '24H_fluctate_rate': '-12.19'}, 'BZNT': {'opening_price': '22.7', 'closing_price': '20.4', 'min_price': '19.6', 'max_price': '23', 'average_price': '21.1648', 'units_traded': '7757304.76723416', 'volume_1day': '7757304.76723416', 'volume_7day': '69108008.309557782012469539', 'buy_price': '20', 'sell_price': '20.2', '24H_fluctate': '-2.3', '24H_fluctate_rate': '-10.13'}, 'XLM': {'opening_price': '114', 'closing_price': '101', 'min_price': '100', 'max_price': '114', 'average_price': '106.1656', 'units_traded': '3523145.4488968', 'volume_1day': '3523145.4488968', 'volume_7day': '25163142.77119693', 'buy_price': '100', 'sell_price': '102', '24H_fluctate': '-13', '24H_fluctate_rate': '-11.40'}, 'OCN': {'opening_price': '3.23', 'closing_price': '2.85', 'min_price': '2.62', 'max_price': '3.29', 'average_price': '3.0347', 'units_traded': '20037671.21239179', 'volume_1day': '20037671.21239179', 'volume_7day': '135923598.263572804823652432', 'buy_price': '2.74', 'sell_price': '2.81', '24H_fluctate': '-0.38', '24H_fluctate_rate': '-11.76'}, 'BSV': {'opening_price': '153600', 'closing_price': '133600', 'min_price': '127500', 'max_price': '158900', 'average_price': '141110.3094', 'units_traded': '73786.35937748', 'volume_1day': '73786.35937748', 'volume_7day': '358311.9551193', 'buy_price': '133100', 'sell_price': '133500', '24H_fluctate': '-20000', '24H_fluctate_rate': '-13.02'}, 'TMTG': {'opening_price': '2.19', 'closing_price': '2.03', 'min_price': '1.96', 'max_price': '2.2', 'average_price': '2.0876', 'units_traded': '64091950.45942644', 'volume_1day': '64091950.45942644', 'volume_7day': '325719008.43349268204659512', 'buy_price': '2.02', 'sell_price': '2.04', '24H_fluctate': '-0.16', '24H_fluctate_rate': '-7.30'}, 'BAT': {'opening_price': '283', 'closing_price': '247', 'min_price': '238', 'max_price': '288', 'average_price': '262.8205', 'units_traded': '1535108.22772576', 'volume_1day': '1535108.22772576', 'volume_7day': '9324564.658248507327690423', 'buy_price': '247', 'sell_price': '249', '24H_fluctate': '-36', '24H_fluctate_rate': '-12.72'}, 'WET': {'opening_price': '15.2', 'closing_price': '13.1', 'min_price': '12.6', 'max_price': '15.3', 'average_price': '14.0578', 'units_traded': '20130336.79686821', 'volume_1day': '20130336.79686821', 'volume_7day': '139032929.078702212782532932', 'buy_price': '12.9', 'sell_price': '13.1', '24H_fluctate': '-2.1', '24H_fluctate_rate': '-13.81'}, 'XVG': {'opening_price': '15', 'closing_price': '12.5', 'min_price': '10.3', 'max_price': '15', 'average_price': '13.0758', 'units_traded': '2571563.0721907', 'volume_1day': '2571563.0721907', 'volume_7day': '21389393.72912314', 'buy_price': '12.2', 'sell_price': '12.5', '24H_fluctate': '-2.5', '24H_fluctate_rate': '-16.66'}, 'IOST': {'opening_price': '12.1', 'closing_price': '10.3', 'min_price': '9.97', 'max_price': '12.1', 'average_price': '10.9371', 'units_traded': '7927277.05131588', 'volume_1day': '7927277.05131588', 'volume_7day': '44717697.434583711076869834', 'buy_price': '10.1', 'sell_price': '10.3', '24H_fluctate': '-1.8', '24H_fluctate_rate': '-14.87'}, 'POLY': {'opening_price': '70.9', 'closing_price': '61.3', 'min_price': '60.5', 'max_price': '75.7', 'average_price': '68.9628', 'units_traded': '12406515.30348336', 'volume_1day': '12406515.30348336', 'volume_7day': '50740770.263390163974205425', 'buy_price': '61.3', 'sell_price': '62.3', '24H_fluctate': '-9.6', '24H_fluctate_rate': '-13.54'}, 'HC': {'opening_price': '4006', 'closing_price': '3398', 'min_price': '3342', 'max_price': '4150', 'average_price': '3737.2433', 'units_traded': '291422.2091376', 'volume_1day': '291422.2091376', 'volume_7day': '4540431.45925343', 'buy_price': '3398', 'sell_price': '3422', '24H_fluctate': '-608', '24H_fluctate_rate': '-15.17'}, 'ROM': {'opening_price': '0.05', 'closing_price': '0.05', 'min_price': '0.04', 'max_price': '0.05', 'average_price': '0.0447', 'units_traded': '2300601881.05296', 'volume_1day': '2300601881.05296', 'volume_7day': '20650284840.993', 'buy_price': '0.04', 'sell_price': '0.05', '24H_fluctate': '0', '24H_fluctate_rate': '0.00'}, 'AMO': {'opening_price': '0.64', 'closing_price': '0.56', 'min_price': '0.53', 'max_price': '0.65', 'average_price': '0.5971', 'units_traded': '306290981.38775778', 'volume_1day': '306290981.38775778', 'volume_7day': '2856933761.42145047190119862', 'buy_price': '0.56', 'sell_price': '0.57', '24H_fluctate': '-0.08', '24H_fluctate_rate': '-12.50'}, 'ETZ': {'opening_price': '302', 'closing_price': '261', 'min_price': '247', 'max_price': '307', 'average_price': '282.4424', 'units_traded': '1782397.4314892', 'volume_1day': '1782397.4314892', 'volume_7day': '18141786.671489474937431989', 'buy_price': '255', 'sell_price': '261', '24H_fluctate': '-41', '24H_fluctate_rate': '-13.57'}, 'ARN': {'opening_price': '522', 'closing_price': '466', 'min_price': '446', 'max_price': '542', 'average_price': '500.6486', 'units_traded': '412019.71916372', 'volume_1day': '412019.71916372', 'volume_7day': '2009145.69113411', 'buy_price': '460', 'sell_price': '474', '24H_fluctate': '-56', '24H_fluctate_rate': '-10.72'}, 'APIS': {'opening_price': '1.8', 'closing_price': '1.5', 'min_price': '1.48', 'max_price': '1.8', 'average_price': '1.6196', 'units_traded': '51892979.18169623', 'volume_1day': '51892979.18169623', 'volume_7day': '319269623.760042459554924308', 'buy_price': '1.48', 'sell_price': '1.5', '24H_fluctate': '-0.3', '24H_fluctate_rate': '-16.66'}, 'MTL': {'opening_price': '2130', 'closing_price': '1750', 'min_price': '1701', 'max_price': '2130', 'average_price': '1917.9019', 'units_traded': '75822.94144569', 'volume_1day': '75822.94144569', 'volume_7day': '644285.00320562', 'buy_price': '1722', 'sell_price': '1750', '24H_fluctate': '-380', '24H_fluctate_rate': '-17.84'}, 'DACC': {'opening_price': '0.16', 'closing_price': '0.15', 'min_price': '0.15', 'max_price': '0.17', 'average_price': '0.158', 'units_traded': '572107755.71151766', 'volume_1day': '572107755.71151766', 'volume_7day': '3217044075.64416374', 'buy_price': '0.15', 'sell_price': '0.16', '24H_fluctate': '-0.01', '24H_fluctate_rate': '-6.25'}, 'DAC': {'opening_price': '5.73', 'closing_price': '5.26', 'min_price': '5.21', 'max_price': '5.89', 'average_price': '5.5134', 'units_traded': '45029959.3743987', 'volume_1day': '45029959.3743987', 'volume_7day': '538239540.648389927430706729', 'buy_price': '5.28', 'sell_price': '5.29', '24H_fluctate': '-0.47', '24H_fluctate_rate': '-8.20'}, 'BHP': {'opening_price': '1730', 'closing_price': '1718', 'min_price': '1658', 'max_price': '1897', 'average_price': '1759.8608', 'units_traded': '349685.34094545', 'volume_1day': '349685.34094545', 'volume_7day': '1552284.47551457', 'buy_price': '1716', 'sell_price': '1718', '24H_fluctate': '-12', '24H_fluctate_rate': '-0.69'}, 'BTT': {'opening_price': '1.37', 'closing_price': '1.13', 'min_price': '1.09', 'max_price': '1.39', 'average_price': '1.2562', 'units_traded': '310689285.01575389', 'volume_1day': '310689285.01575389', 'volume_7day': '1733905961.4882356', 'buy_price': '1.12', 'sell_price': '1.13', '24H_fluctate': '-0.24', '24H_fluctate_rate': '-17.51'}, 'HDAC': {'opening_price': '31', 'closing_price': '27.7', 'min_price': '25', 'max_price': '31.5', 'average_price': '28.595', 'units_traded': '6894374.82076176', 'volume_1day': '6894374.82076176', 'volume_7day': '37558923.03144557', 'buy_price': '27.4', 'sell_price': '27.9', '24H_fluctate': '-3.3', '24H_fluctate_rate': '-10.64'}, 'NPXS': {'opening_price': '0.76', 'closing_price': '0.66', 'min_price': '0.64', 'max_price': '0.79', 'average_price': '0.7258', 'units_traded': '653353636.37051104', 'volume_1day': '653353636.37051104', 'volume_7day': '3360807213.982699145710591575', 'buy_price': '0.66', 'sell_price': '0.68', '24H_fluctate': '-0.1', '24H_fluctate_rate': '-13.15'}, 'AUTO': {'opening_price': '1.66', 'closing_price': '1.48', 'min_price': '1.42', 'max_price': '1.7', 'average_price': '1.5568', 'units_traded': '43913406.18352828', 'volume_1day': '43913406.18352828', 'volume_7day': '331662329.302602279130866446', 'buy_price': '1.47', 'sell_price': '1.48', '24H_fluctate': '-0.18', '24H_fluctate_rate': '-10.84'}, 'GXC': {'opening_price': '1883', 'closing_price': '1733', 'min_price': '1676', 'max_price': '1961', 'average_price': '1858.2914', 'units_traded': '172404.60989744', 'volume_1day': '172404.60989744', 'volume_7day': '1678112.89755036', 'buy_price': '1695', 'sell_price': '1733', '24H_fluctate': '-150', '24H_fluctate_rate': '-7.96'}, 'ORBS': {'opening_price': '29.4', 'closing_price': '25.3', 'min_price': '24.1', 'max_price': '29.8', 'average_price': '27.3849', 'units_traded': '23241378.68208312', 'volume_1day': '23241378.68208312', 'volume_7day': '134171304.017053075737751782', 'buy_price': '25.1', 'sell_price': '25.3', '24H_fluctate': '-4.1', '24H_fluctate_rate': '-13.94'}, 'VALOR': {'opening_price': '2531', 'closing_price': '2217', 'min_price': '2127', 'max_price': '2601', 'average_price': '2359.9452', 'units_traded': '116141.47256018', 'volume_1day': '116141.47256018', 'volume_7day': '937310.976659585278062723', 'buy_price': '2182', 'sell_price': '2217', '24H_fluctate': '-314', '24H_fluctate_rate': '-12.40'}, 'CON': {'opening_price': '14.1', 'closing_price': '11.8', 'min_price': '11.7', 'max_price': '14.4', 'average_price': '12.9216', 'units_traded': '78910499.81132489', 'volume_1day': '78910499.81132489', 'volume_7day': '1109081753.958528048216214226', 'buy_price': '11.8', 'sell_price': '11.9', '24H_fluctate': '-2.3', '24H_fluctate_rate': '-16.31'}, 'ANKR': {'opening_price': '10.7', 'closing_price': '10.2', 'min_price': '9.82', 'max_price': '11.7', 'average_price': '10.7812', 'units_traded': '70173509.96982003', 'volume_1day': '70173509.96982003', 'volume_7day': '733105052.730335535647627521', 'buy_price': '10', 'sell_price': '10.2', '24H_fluctate': '-0.5', '24H_fluctate_rate': '-4.67'}, 'MIX': {'opening_price': '67', 'closing_price': '57.4', 'min_price': '55', 'max_price': '68.1', 'average_price': '61.1936', 'units_traded': '2683175.05089387', 'volume_1day': '2683175.05089387', 'volume_7day': '31044209.910183453619963051', 'buy_price': '57.5', 'sell_price': '59.6', '24H_fluctate': '-9.6', '24H_fluctate_rate': '-14.32'}, 'HYC': {'opening_price': '9.93', 'closing_price': '8.64', 'min_price': '8.25', 'max_price': '10.1', 'average_price': '9.3191', 'units_traded': '63604167.93601495', 'volume_1day': '63604167.93601495', 'volume_7day': '1314738269.743237533', 'buy_price': '8.55', 'sell_price': '8.7', '24H_fluctate': '-1.29', '24H_fluctate_rate': '-12.99'}, 'LBA': {'opening_price': '30.2', 'closing_price': '24.9', 'min_price': '24.1', 'max_price': '30.7', 'average_price': '27.3512', 'units_traded': '14403678.40361269', 'volume_1day': '14403678.40361269', 'volume_7day': '82270372.840475392944645863', 'buy_price': '24.9', 'sell_price': '25.1', '24H_fluctate': '-5.3', '24H_fluctate_rate': '-17.54'}, 'date': '1563337598095'}\n"
     ]
    }
   ],
   "source": [
    "import requests\n",
    "url = \"https://api.bithumb.com/public/ticker/all\"\n",
    "data = requests.get(url).json()['data']\n",
    "print(data)"
   ]
  },
  {
   "cell_type": "code",
   "execution_count": 29,
   "metadata": {},
   "outputs": [
    {
     "data": {
      "text/plain": [
       "{'opening_price': '12756000',\n",
       " 'closing_price': '11200000',\n",
       " 'min_price': '11000000',\n",
       " 'max_price': '13000000',\n",
       " 'average_price': '11931749.3516',\n",
       " 'units_traded': '18431.17058845',\n",
       " 'volume_1day': '18431.17058845',\n",
       " 'volume_7day': '95804.79218979',\n",
       " 'buy_price': '11205000',\n",
       " 'sell_price': '11218000',\n",
       " '24H_fluctate': '-1556000',\n",
       " '24H_fluctate_rate': '-12.19'}"
      ]
     },
     "execution_count": 29,
     "metadata": {},
     "output_type": "execute_result"
    }
   ],
   "source": [
    "data['BTC']"
   ]
  },
  {
   "cell_type": "code",
   "execution_count": 30,
   "metadata": {
    "scrolled": true
   },
   "outputs": [
    {
     "name": "stdout",
     "output_type": "stream",
     "text": [
      "BTC\n",
      "ETH\n",
      "DASH\n",
      "LTC\n",
      "ETC\n",
      "XRP\n",
      "BCH\n",
      "XMR\n",
      "ZEC\n",
      "QTUM\n",
      "BTG\n",
      "EOS\n",
      "ICX\n",
      "VET\n",
      "TRX\n",
      "ELF\n",
      "MITH\n",
      "MCO\n",
      "OMG\n",
      "KNC\n",
      "GNT\n",
      "ZIL\n",
      "ETHOS\n",
      "PAY\n",
      "WAX\n",
      "POWR\n",
      "LRC\n",
      "GTO\n",
      "STEEM\n",
      "STRAT\n",
      "ZRX\n",
      "REP\n",
      "AE\n",
      "XEM\n",
      "SNT\n",
      "ADA\n",
      "PPT\n",
      "CTXC\n",
      "CMT\n",
      "THETA\n",
      "WTC\n",
      "ITC\n",
      "TRUE\n",
      "ABT\n",
      "RNT\n",
      "PLY\n",
      "WAVES\n",
      "LINK\n",
      "ENJ\n",
      "PST\n",
      "SALT\n",
      "RDN\n",
      "LOOM\n",
      "PIVX\n",
      "INS\n",
      "BCD\n",
      "BZNT\n",
      "XLM\n",
      "OCN\n",
      "BSV\n",
      "TMTG\n",
      "BAT\n",
      "WET\n",
      "XVG\n",
      "IOST\n",
      "POLY\n",
      "HC\n",
      "ROM\n",
      "AMO\n",
      "ETZ\n",
      "ARN\n",
      "APIS\n",
      "MTL\n",
      "DACC\n",
      "DAC\n",
      "BHP\n",
      "BTT\n",
      "HDAC\n",
      "NPXS\n",
      "AUTO\n",
      "GXC\n",
      "ORBS\n",
      "VALOR\n",
      "CON\n",
      "ANKR\n",
      "MIX\n",
      "HYC\n",
      "LBA\n",
      "date\n"
     ]
    }
   ],
   "source": [
    "for i in data.keys():\n",
    "    print(i)"
   ]
  },
  {
   "cell_type": "code",
   "execution_count": 26,
   "metadata": {},
   "outputs": [
    {
     "data": {
      "text/plain": [
       "'date'"
      ]
     },
     "execution_count": 26,
     "metadata": {},
     "output_type": "execute_result"
    }
   ],
   "source": [
    "i"
   ]
  },
  {
   "cell_type": "code",
   "execution_count": 25,
   "metadata": {},
   "outputs": [
    {
     "data": {
      "text/plain": [
       "'1563336719587'"
      ]
     },
     "execution_count": 25,
     "metadata": {},
     "output_type": "execute_result"
    }
   ],
   "source": [
    "data[i]"
   ]
  },
  {
   "cell_type": "code",
   "execution_count": 34,
   "metadata": {},
   "outputs": [],
   "source": [
    "# ?? 이건 무슨 에러일까??"
   ]
  },
  {
   "cell_type": "code",
   "execution_count": 33,
   "metadata": {},
   "outputs": [
    {
     "ename": "TypeError",
     "evalue": "string indices must be integers",
     "output_type": "error",
     "traceback": [
      "\u001b[1;31m---------------------------------------------------------------------------\u001b[0m",
      "\u001b[1;31mTypeError\u001b[0m                                 Traceback (most recent call last)",
      "\u001b[1;32m<ipython-input-33-9627dc424e67>\u001b[0m in \u001b[0;36m<module>\u001b[1;34m\u001b[0m\n\u001b[0;32m      1\u001b[0m \u001b[1;32mfor\u001b[0m \u001b[0mi\u001b[0m \u001b[1;32min\u001b[0m \u001b[0mdata\u001b[0m\u001b[1;33m.\u001b[0m\u001b[0mkeys\u001b[0m\u001b[1;33m(\u001b[0m\u001b[1;33m)\u001b[0m\u001b[1;33m:\u001b[0m\u001b[1;33m\u001b[0m\u001b[1;33m\u001b[0m\u001b[0m\n\u001b[1;32m----> 2\u001b[1;33m     \u001b[0mopenp\u001b[0m \u001b[1;33m=\u001b[0m \u001b[0mfloat\u001b[0m\u001b[1;33m(\u001b[0m\u001b[0mdata\u001b[0m\u001b[1;33m[\u001b[0m\u001b[0mi\u001b[0m\u001b[1;33m]\u001b[0m\u001b[1;33m[\u001b[0m\u001b[1;34m'opening_price'\u001b[0m\u001b[1;33m]\u001b[0m\u001b[1;33m)\u001b[0m\u001b[1;33m\u001b[0m\u001b[1;33m\u001b[0m\u001b[0m\n\u001b[0m\u001b[0;32m      3\u001b[0m     \u001b[0mminp\u001b[0m \u001b[1;33m=\u001b[0m \u001b[0mfloat\u001b[0m\u001b[1;33m(\u001b[0m\u001b[0mdata\u001b[0m\u001b[1;33m[\u001b[0m\u001b[0mi\u001b[0m\u001b[1;33m]\u001b[0m\u001b[1;33m[\u001b[0m\u001b[1;34m'min_price'\u001b[0m\u001b[1;33m]\u001b[0m\u001b[1;33m)\u001b[0m\u001b[1;33m\u001b[0m\u001b[1;33m\u001b[0m\u001b[0m\n\u001b[0;32m      4\u001b[0m     \u001b[0mmaxp\u001b[0m \u001b[1;33m=\u001b[0m \u001b[0mfloat\u001b[0m\u001b[1;33m(\u001b[0m\u001b[0mdata\u001b[0m\u001b[1;33m[\u001b[0m\u001b[0mi\u001b[0m\u001b[1;33m]\u001b[0m\u001b[1;33m[\u001b[0m\u001b[1;34m'max_price'\u001b[0m\u001b[1;33m]\u001b[0m\u001b[1;33m)\u001b[0m\u001b[1;33m\u001b[0m\u001b[1;33m\u001b[0m\u001b[0m\n\u001b[0;32m      5\u001b[0m \u001b[1;33m\u001b[0m\u001b[0m\n",
      "\u001b[1;31mTypeError\u001b[0m: string indices must be integers"
     ]
    }
   ],
   "source": [
    "for i in data.keys():\n",
    "    openp = float(data[i]['opening_price']) #i='date'일 때, data[i]='1341434'\n",
    "    minp = float(data[i]['min_price'])\n",
    "    maxp = float(data[i]['max_price'])\n",
    "\n",
    "#     diffp = float(maxp) - float(minp)\n",
    "\n",
    "#     if (int(openp) + int(diffp)) > int(mxp) :\n",
    "#         print('상승장')\n",
    "#     else:\n",
    "#         print('하락장')"
   ]
  },
  {
   "cell_type": "code",
   "execution_count": 37,
   "metadata": {
    "collapsed": true
   },
   "outputs": [
    {
     "name": "stdout",
     "output_type": "stream",
     "text": [
      "{'BTC': {'opening_price': '12831000', 'closing_price': '11399000', 'min_price': '11000000', 'max_price': '13000000', 'average_price': '11885314.4181', 'units_traded': '18680.1427217', 'volume_1day': '18680.1427217', 'volume_7day': '96187.79073464', 'buy_price': '11399000', 'sell_price': '11405000', '24H_fluctate': '-1432000', '24H_fluctate_rate': '-11.16'}, 'ETH': {'opening_price': '273200', 'closing_price': '240000', 'min_price': '231500', 'max_price': '275700', 'average_price': '250324.2863', 'units_traded': '145585.66319081', 'volume_1day': '145585.66319081', 'volume_7day': '696098.385451276529553102', 'buy_price': '239900', 'sell_price': '240000', '24H_fluctate': '-33200', '24H_fluctate_rate': '-12.15'}, 'DASH': {'opening_price': '162900', 'closing_price': '142000', 'min_price': '130100', 'max_price': '163300', 'average_price': '148211.616', 'units_traded': '2253883.11069694', 'volume_1day': '2253883.11069694', 'volume_7day': '10424013.69755755', 'buy_price': '139500', 'sell_price': '142000', '24H_fluctate': '-20900', '24H_fluctate_rate': '-12.82'}, 'LTC': {'opening_price': '107200', 'closing_price': '95400', 'min_price': '92300', 'max_price': '109200', 'average_price': '99869.6035', 'units_traded': '29882.8513371', 'volume_1day': '29882.8513371', 'volume_7day': '191851.84273651', 'buy_price': '95300', 'sell_price': '95600', '24H_fluctate': '-11800', '24H_fluctate_rate': '-11.00'}, 'ETC': {'opening_price': '6915', 'closing_price': '6520', 'min_price': '6295', 'max_price': '7320', 'average_price': '6720.5604', 'units_traded': '213617.13911168', 'volume_1day': '213617.13911168', 'volume_7day': '968388.566363603046780939', 'buy_price': '6515', 'sell_price': '6530', '24H_fluctate': '-395', '24H_fluctate_rate': '-5.71'}, 'XRP': {'opening_price': '377', 'closing_price': '357', 'min_price': '350', 'max_price': '381', 'average_price': '364.1149', 'units_traded': '90159934.51760079', 'volume_1day': '90159934.51760079', 'volume_7day': '695479337.63672433', 'buy_price': '357', 'sell_price': '358', '24H_fluctate': '-20', '24H_fluctate_rate': '-5.30'}, 'BCH': {'opening_price': '370000', 'closing_price': '342400', 'min_price': '329000', 'max_price': '374500', 'average_price': '347903.5234', 'units_traded': '48477.55969131', 'volume_1day': '48477.55969131', 'volume_7day': '247007.28596697', 'buy_price': '342400', 'sell_price': '342900', '24H_fluctate': '-27600', '24H_fluctate_rate': '-7.45'}, 'XMR': {'opening_price': '101100', 'closing_price': '87150', 'min_price': '84900', 'max_price': '102000', 'average_price': '93453.4477', 'units_traded': '6137687.69213477', 'volume_1day': '6137687.69213477', 'volume_7day': '22776719.696359752781', 'buy_price': '87150', 'sell_price': '87250', '24H_fluctate': '-13950', '24H_fluctate_rate': '-13.79'}, 'ZEC': {'opening_price': '106500', 'closing_price': '95050', 'min_price': '89000', 'max_price': '118300', 'average_price': '102403.1314', 'units_traded': '3546.22183097', 'volume_1day': '3546.22183097', 'volume_7day': '17552.62827653', 'buy_price': '94150', 'sell_price': '95050', '24H_fluctate': '-11450', '24H_fluctate_rate': '-10.75'}, 'QTUM': {'opening_price': '3935', 'closing_price': '3384', 'min_price': '3137', 'max_price': '3960', 'average_price': '3542.2716', 'units_traded': '658936.91905512', 'volume_1day': '658936.91905512', 'volume_7day': '4095376.18147652', 'buy_price': '3361', 'sell_price': '3384', '24H_fluctate': '-551', '24H_fluctate_rate': '-14.00'}, 'BTG': {'opening_price': '29680', 'closing_price': '27790', 'min_price': '27000', 'max_price': '30340', 'average_price': '28690.0513', 'units_traded': '16233.79279055', 'volume_1day': '16233.79279055', 'volume_7day': '221213.57140123', 'buy_price': '27460', 'sell_price': '27790', '24H_fluctate': '-1890', '24H_fluctate_rate': '-6.36'}, 'EOS': {'opening_price': '5110', 'closing_price': '4389', 'min_price': '4230', 'max_price': '5175', 'average_price': '4595.022', 'units_traded': '4985112.25797956', 'volume_1day': '4985112.25797956', 'volume_7day': '21728478.42767829', 'buy_price': '4385', 'sell_price': '4389', '24H_fluctate': '-721', '24H_fluctate_rate': '-14.10'}, 'ICX': {'opening_price': '342', 'closing_price': '307', 'min_price': '300', 'max_price': '347', 'average_price': '324.4481', 'units_traded': '389446.59111992', 'volume_1day': '389446.59111992', 'volume_7day': '3564643.554058207541632355', 'buy_price': '304', 'sell_price': '306', '24H_fluctate': '-35', '24H_fluctate_rate': '-10.23'}, 'VET': {'opening_price': '7.56', 'closing_price': '6.86', 'min_price': '6.82', 'max_price': '7.69', 'average_price': '7.1934', 'units_traded': '11976609.14346069', 'volume_1day': '11976609.14346069', 'volume_7day': '136363650.931241799474615319', 'buy_price': '6.86', 'sell_price': '6.97', '24H_fluctate': '-0.7', '24H_fluctate_rate': '-9.25'}, 'TRX': {'opening_price': '28.9', 'closing_price': '25.1', 'min_price': '24', 'max_price': '29.3', 'average_price': '26.4556', 'units_traded': '137189632.32946767', 'volume_1day': '137189632.32946767', 'volume_7day': '650904924.40774629', 'buy_price': '25.1', 'sell_price': '25.2', '24H_fluctate': '-3.8', '24H_fluctate_rate': '-13.14'}, 'ELF': {'opening_price': '163', 'closing_price': '138', 'min_price': '129', 'max_price': '165', 'average_price': '145.0141', 'units_traded': '1226294.05933256', 'volume_1day': '1226294.05933256', 'volume_7day': '10633708.087467654571960663', 'buy_price': '137', 'sell_price': '138', '24H_fluctate': '-25', '24H_fluctate_rate': '-15.33'}, 'MITH': {'opening_price': '46.9', 'closing_price': '41', 'min_price': '39.7', 'max_price': '48.2', 'average_price': '43.2736', 'units_traded': '4558831.40511404', 'volume_1day': '4558831.40511404', 'volume_7day': '18519932.484963987453504042', 'buy_price': '40.5', 'sell_price': '41', '24H_fluctate': '-5.9', '24H_fluctate_rate': '-12.57'}, 'MCO': {'opening_price': '6125', 'closing_price': '5720', 'min_price': '4800', 'max_price': '6145', 'average_price': '5427.1255', 'units_traded': '67589.74994308', 'volume_1day': '67589.74994308', 'volume_7day': '287632.00330526', 'buy_price': '5640', 'sell_price': '5720', '24H_fluctate': '-405', '24H_fluctate_rate': '-6.61'}, 'OMG': {'opening_price': '1853', 'closing_price': '1635', 'min_price': '1555', 'max_price': '1866', 'average_price': '1705.0681', 'units_traded': '559734.09039463', 'volume_1day': '559734.09039463', 'volume_7day': '3499122.401819462000101715', 'buy_price': '1634', 'sell_price': '1635', '24H_fluctate': '-218', '24H_fluctate_rate': '-11.76'}, 'KNC': {'opening_price': '227', 'closing_price': '190', 'min_price': '181', 'max_price': '227', 'average_price': '195.7675', 'units_traded': '1658315.12739897', 'volume_1day': '1658315.12739897', 'volume_7day': '6668554.949174862807234699', 'buy_price': '188', 'sell_price': '190', '24H_fluctate': '-37', '24H_fluctate_rate': '-16.29'}, 'GNT': {'opening_price': '78.1', 'closing_price': '65.5', 'min_price': '62', 'max_price': '78.1', 'average_price': '70.5613', 'units_traded': '746190.6818403', 'volume_1day': '746190.6818403', 'volume_7day': '5736273.155375769454116624', 'buy_price': '65.3', 'sell_price': '65.5', '24H_fluctate': '-12.6', '24H_fluctate_rate': '-16.13'}, 'ZIL': {'opening_price': '17', 'closing_price': '15.6', 'min_price': '15.1', 'max_price': '17.1', 'average_price': '16.106', 'units_traded': '8845069.82862857', 'volume_1day': '8845069.82862857', 'volume_7day': '63840805.634475059258', 'buy_price': '15.5', 'sell_price': '15.6', '24H_fluctate': '-1.4', '24H_fluctate_rate': '-8.23'}, 'ETHOS': {'opening_price': '155', 'closing_price': '138', 'min_price': '127', 'max_price': '157', 'average_price': '142.8191', 'units_traded': '4006058.00814269', 'volume_1day': '4006058.00814269', 'volume_7day': '48359458.93462925', 'buy_price': '137', 'sell_price': '138', '24H_fluctate': '-17', '24H_fluctate_rate': '-10.96'}, 'PAY': {'opening_price': '275', 'closing_price': '250', 'min_price': '235', 'max_price': '277', 'average_price': '255.0903', 'units_traded': '252478.72059214', 'volume_1day': '252478.72059214', 'volume_7day': '3090154.722909591894912887', 'buy_price': '247', 'sell_price': '250', '24H_fluctate': '-25', '24H_fluctate_rate': '-9.09'}, 'WAX': {'opening_price': '65.1', 'closing_price': '55.1', 'min_price': '52.3', 'max_price': '66.2', 'average_price': '58.4877', 'units_traded': '2120530.62595953', 'volume_1day': '2120530.62595953', 'volume_7day': '15891122.71537985', 'buy_price': '55', 'sell_price': '55.4', '24H_fluctate': '-10', '24H_fluctate_rate': '-15.36'}, 'POWR': {'opening_price': '97.7', 'closing_price': '87.5', 'min_price': '85', 'max_price': '103', 'average_price': '94.4296', 'units_traded': '857226.03830059', 'volume_1day': '857226.03830059', 'volume_7day': '7773843.66487427', 'buy_price': '86.5', 'sell_price': '87.5', '24H_fluctate': '-10.2', '24H_fluctate_rate': '-10.44'}, 'LRC': {'opening_price': '74.4', 'closing_price': '63', 'min_price': '62.6', 'max_price': '76', 'average_price': '68.913', 'units_traded': '908617.1356', 'volume_1day': '908617.1356', 'volume_7day': '5641805.829328631478512471', 'buy_price': '63', 'sell_price': '65', '24H_fluctate': '-11.4', '24H_fluctate_rate': '-15.32'}, 'GTO': {'opening_price': '28.3', 'closing_price': '24.7', 'min_price': '22.9', 'max_price': '29.1', 'average_price': '26.2146', 'units_traded': '3693713.5764', 'volume_1day': '3693713.5764', 'volume_7day': '28826566.05342787', 'buy_price': '24.5', 'sell_price': '24.7', '24H_fluctate': '-3.6', '24H_fluctate_rate': '-12.72'}, 'STEEM': {'opening_price': '393', 'closing_price': '338', 'min_price': '329', 'max_price': '402', 'average_price': '363.7196', 'units_traded': '753041.60616648', 'volume_1day': '753041.60616648', 'volume_7day': '11969917.06059108', 'buy_price': '336', 'sell_price': '338', '24H_fluctate': '-55', '24H_fluctate_rate': '-13.99'}, 'STRAT': {'opening_price': '1470', 'closing_price': '1272', 'min_price': '1212', 'max_price': '1500', 'average_price': '1359.31', 'units_traded': '160680.09325487', 'volume_1day': '160680.09325487', 'volume_7day': '1575281.69772756', 'buy_price': '1246', 'sell_price': '1272', '24H_fluctate': '-198', '24H_fluctate_rate': '-13.46'}, 'ZRX': {'opening_price': '303', 'closing_price': '262', 'min_price': '251', 'max_price': '318', 'average_price': '285.8421', 'units_traded': '1475143.93043735', 'volume_1day': '1475143.93043735', 'volume_7day': '5575342.726053470687706821', 'buy_price': '262', 'sell_price': '263', '24H_fluctate': '-41', '24H_fluctate_rate': '-13.53'}, 'REP': {'opening_price': '19990', 'closing_price': '17450', 'min_price': '16110', 'max_price': '20980', 'average_price': '18498.3595', 'units_traded': '32717.18813096', 'volume_1day': '32717.18813096', 'volume_7day': '198112.219976265001025999', 'buy_price': '17040', 'sell_price': '17450', '24H_fluctate': '-2540', '24H_fluctate_rate': '-12.70'}, 'AE': {'opening_price': '529', 'closing_price': '454', 'min_price': '447', 'max_price': '543', 'average_price': '488.6746', 'units_traded': '312361.00875673', 'volume_1day': '312361.00875673', 'volume_7day': '2484314.310480013963360437', 'buy_price': '451', 'sell_price': '454', '24H_fluctate': '-75', '24H_fluctate_rate': '-14.17'}, 'XEM': {'opening_price': '100', 'closing_price': '82.9', 'min_price': '75.2', 'max_price': '100', 'average_price': '90.659', 'units_traded': '1459935.4024502', 'volume_1day': '1459935.4024502', 'volume_7day': '12500767.14337986', 'buy_price': '83.1', 'sell_price': '84', '24H_fluctate': '-17.1', '24H_fluctate_rate': '-17.10'}, 'SNT': {'opening_price': '25.3', 'closing_price': '21.9', 'min_price': '21.2', 'max_price': '25.3', 'average_price': '22.9048', 'units_traded': '8336490.72081898', 'volume_1day': '8336490.72081898', 'volume_7day': '57516958.750112071437666452', 'buy_price': '21.9', 'sell_price': '22', '24H_fluctate': '-3.4', '24H_fluctate_rate': '-13.43'}, 'ADA': {'opening_price': '96.8', 'closing_price': '82.4', 'min_price': '73', 'max_price': '98.1', 'average_price': '86.5805', 'units_traded': '11564553.05272454', 'volume_1day': '11564553.05272454', 'volume_7day': '65365776.95129939', 'buy_price': '82.3', 'sell_price': '82.4', '24H_fluctate': '-14.4', '24H_fluctate_rate': '-14.87'}, 'PPT': {'opening_price': '3418', 'closing_price': '2877', 'min_price': '2800', 'max_price': '3537', 'average_price': '3138.9426', 'units_traded': '108122.92778587', 'volume_1day': '108122.92778587', 'volume_7day': '1418845.98592047', 'buy_price': '2878', 'sell_price': '2900', '24H_fluctate': '-541', '24H_fluctate_rate': '-15.82'}, 'CTXC': {'opening_price': '484', 'closing_price': '403', 'min_price': '270', 'max_price': '495', 'average_price': '420.6176', 'units_traded': '819037.81510331', 'volume_1day': '819037.81510331', 'volume_7day': '7927197.242835119951207837', 'buy_price': '398', 'sell_price': '404', '24H_fluctate': '-81', '24H_fluctate_rate': '-16.73'}, 'CMT': {'opening_price': '64.8', 'closing_price': '52.4', 'min_price': '50', 'max_price': '65.1', 'average_price': '56.7872', 'units_traded': '10551596.40777285', 'volume_1day': '10551596.40777285', 'volume_7day': '186014382.099469525095211514', 'buy_price': '52.1', 'sell_price': '52.4', '24H_fluctate': '-12.4', '24H_fluctate_rate': '-19.13'}, 'THETA': {'opening_price': '115', 'closing_price': '116', 'min_price': '95.5', 'max_price': '125', 'average_price': '111.6831', 'units_traded': '3917175.037917', 'volume_1day': '3917175.037917', 'volume_7day': '9224329.670150972073223872', 'buy_price': '113', 'sell_price': '116', '24H_fluctate': '1', '24H_fluctate_rate': '0.86'}, 'WTC': {'opening_price': '2659', 'closing_price': '2270', 'min_price': '2204', 'max_price': '2669', 'average_price': '2422.0402', 'units_traded': '183801.35683139', 'volume_1day': '183801.35683139', 'volume_7day': '4711272.966179080596086998', 'buy_price': '2258', 'sell_price': '2270', '24H_fluctate': '-389', '24H_fluctate_rate': '-14.62'}, 'ITC': {'opening_price': '351', 'closing_price': '300', 'min_price': '276', 'max_price': '385', 'average_price': '331.9325', 'units_traded': '1737328.75799648', 'volume_1day': '1737328.75799648', 'volume_7day': '23178110.022459584009764121', 'buy_price': '296', 'sell_price': '300', '24H_fluctate': '-51', '24H_fluctate_rate': '-14.52'}, 'TRUE': {'opening_price': '541', 'closing_price': '480', 'min_price': '441', 'max_price': '559', 'average_price': '496.2823', 'units_traded': '296064.144045', 'volume_1day': '296064.144045', 'volume_7day': '4648357.719440719209388365', 'buy_price': '486', 'sell_price': '490', '24H_fluctate': '-61', '24H_fluctate_rate': '-11.27'}, 'ABT': {'opening_price': '300', 'closing_price': '259', 'min_price': '243', 'max_price': '342', 'average_price': '297.5253', 'units_traded': '3062356.9597792', 'volume_1day': '3062356.9597792', 'volume_7day': '12213008.938683271475581703', 'buy_price': '258', 'sell_price': '260', '24H_fluctate': '-41', '24H_fluctate_rate': '-13.66'}, 'RNT': {'opening_price': '42.9', 'closing_price': '38.9', 'min_price': '36.9', 'max_price': '42.9', 'average_price': '39.7431', 'units_traded': '4257926.14467233', 'volume_1day': '4257926.14467233', 'volume_7day': '32294896.920982383345040979', 'buy_price': '38.8', 'sell_price': '38.9', '24H_fluctate': '-4', '24H_fluctate_rate': '-9.32'}, 'PLY': {'opening_price': '13.7', 'closing_price': '11.5', 'min_price': '11.2', 'max_price': '13.8', 'average_price': '12.55', 'units_traded': '47189313.90199659', 'volume_1day': '47189313.90199659', 'volume_7day': '308791375.767735592', 'buy_price': '11.5', 'sell_price': '11.6', '24H_fluctate': '-2.2', '24H_fluctate_rate': '-16.05'}, 'WAVES': {'opening_price': '2613', 'closing_price': '2195', 'min_price': '2035', 'max_price': '2690', 'average_price': '2446.2132', 'units_traded': '243880.6716703', 'volume_1day': '243880.6716703', 'volume_7day': '1580735.35103503', 'buy_price': '2195', 'sell_price': '2219', '24H_fluctate': '-418', '24H_fluctate_rate': '-15.99'}, 'LINK': {'opening_price': '4671', 'closing_price': '4093', 'min_price': '3600', 'max_price': '4674', 'average_price': '4156.9606', 'units_traded': '390095.95002853', 'volume_1day': '390095.95002853', 'volume_7day': '5104111.650931550966303635', 'buy_price': '4093', 'sell_price': '4095', '24H_fluctate': '-578', '24H_fluctate_rate': '-12.37'}, 'ENJ': {'opening_price': '120', 'closing_price': '99.7', 'min_price': '93.4', 'max_price': '121', 'average_price': '104.1315', 'units_traded': '21630043.87864045', 'volume_1day': '21630043.87864045', 'volume_7day': '86550776.805036735056909321', 'buy_price': '98.8', 'sell_price': '99.7', '24H_fluctate': '-20.3', '24H_fluctate_rate': '-16.91'}, 'PST': {'opening_price': '147', 'closing_price': '135', 'min_price': '131', 'max_price': '153', 'average_price': '141.9117', 'units_traded': '4592953.72886387', 'volume_1day': '4592953.72886387', 'volume_7day': '24134324.628280100264457047', 'buy_price': '134', 'sell_price': '135', '24H_fluctate': '-12', '24H_fluctate_rate': '-8.16'}, 'SALT': {'opening_price': '211', 'closing_price': '181', 'min_price': '180', 'max_price': '213', 'average_price': '197.2128', 'units_traded': '265865.23778022', 'volume_1day': '265865.23778022', 'volume_7day': '2760297.43848718', 'buy_price': '181', 'sell_price': '185', '24H_fluctate': '-30', '24H_fluctate_rate': '-14.21'}, 'RDN': {'opening_price': '1000', 'closing_price': '880', 'min_price': '820', 'max_price': '1010', 'average_price': '924.6898', 'units_traded': '156760.41142893', 'volume_1day': '156760.41142893', 'volume_7day': '1886974.051918906189907185', 'buy_price': '876', 'sell_price': '880', '24H_fluctate': '-120', '24H_fluctate_rate': '-12.00'}, 'LOOM': {'opening_price': '88.5', 'closing_price': '71.2', 'min_price': '68.5', 'max_price': '90', 'average_price': '77.3583', 'units_traded': '459717.86227958', 'volume_1day': '459717.86227958', 'volume_7day': '3940699.025244474238507997', 'buy_price': '71.1', 'sell_price': '71.7', '24H_fluctate': '-17.3', '24H_fluctate_rate': '-19.54'}, 'PIVX': {'opening_price': '1930', 'closing_price': '1704', 'min_price': '1634', 'max_price': '1994', 'average_price': '1801.7606', 'units_traded': '52090.92982115', 'volume_1day': '52090.92982115', 'volume_7day': '452978.50237537', 'buy_price': '1661', 'sell_price': '1703', '24H_fluctate': '-226', '24H_fluctate_rate': '-11.70'}, 'INS': {'opening_price': '454', 'closing_price': '383', 'min_price': '360', 'max_price': '466', 'average_price': '411.1213', 'units_traded': '461327.58304073', 'volume_1day': '461327.58304073', 'volume_7day': '8748197.9800215774', 'buy_price': '382', 'sell_price': '383', '24H_fluctate': '-71', '24H_fluctate_rate': '-15.63'}, 'BCD': {'opening_price': '2199', 'closing_price': '1918', 'min_price': '1790', 'max_price': '2220', 'average_price': '1973.3039', 'units_traded': '153807.31725702', 'volume_1day': '153807.31725702', 'volume_7day': '1668264.85434723', 'buy_price': '1902', 'sell_price': '1918', '24H_fluctate': '-281', '24H_fluctate_rate': '-12.77'}, 'BZNT': {'opening_price': '22.7', 'closing_price': '20.3', 'min_price': '19.6', 'max_price': '23', 'average_price': '21.079', 'units_traded': '7943265.86023111', 'volume_1day': '7943265.86023111', 'volume_7day': '69288047.955757782012469539', 'buy_price': '20.3', 'sell_price': '20.5', '24H_fluctate': '-2.4', '24H_fluctate_rate': '-10.57'}, 'XLM': {'opening_price': '112', 'closing_price': '103', 'min_price': '100', 'max_price': '114', 'average_price': '105.7228', 'units_traded': '3511402.77004742', 'volume_1day': '3511402.77004742', 'volume_7day': '24929151.70785099', 'buy_price': '101', 'sell_price': '103', '24H_fluctate': '-9', '24H_fluctate_rate': '-8.03'}, 'OCN': {'opening_price': '3.23', 'closing_price': '2.84', 'min_price': '2.62', 'max_price': '3.28', 'average_price': '3.0216', 'units_traded': '19923111.21839179', 'volume_1day': '19923111.21839179', 'volume_7day': '132519280.871872804823652432', 'buy_price': '2.75', 'sell_price': '2.81', '24H_fluctate': '-0.39', '24H_fluctate_rate': '-12.07'}, 'BSV': {'opening_price': '155700', 'closing_price': '136000', 'min_price': '127500', 'max_price': '158900', 'average_price': '140314.7263', 'units_traded': '74231.08996951', 'volume_1day': '74231.08996951', 'volume_7day': '360239.15262923', 'buy_price': '136000', 'sell_price': '136100', '24H_fluctate': '-19700', '24H_fluctate_rate': '-12.65'}, 'TMTG': {'opening_price': '2.19', 'closing_price': '1.99', 'min_price': '1.96', 'max_price': '2.2', 'average_price': '2.0832', 'units_traded': '64075554.61242644', 'volume_1day': '64075554.61242644', 'volume_7day': '327134065.87409268204659512', 'buy_price': '2', 'sell_price': '2.03', '24H_fluctate': '-0.2', '24H_fluctate_rate': '-9.13'}, 'BAT': {'opening_price': '281', 'closing_price': '251', 'min_price': '238', 'max_price': '288', 'average_price': '261.5824', 'units_traded': '1479961.45522576', 'volume_1day': '1479961.45522576', 'volume_7day': '9391580.516148507327690423', 'buy_price': '249', 'sell_price': '252', '24H_fluctate': '-30', '24H_fluctate_rate': '-10.67'}, 'WET': {'opening_price': '15.3', 'closing_price': '13.6', 'min_price': '12.6', 'max_price': '15.3', 'average_price': '13.9885', 'units_traded': '21857025.04009196', 'volume_1day': '21857025.04009196', 'volume_7day': '140170478.121074731866502397', 'buy_price': '13.4', 'sell_price': '13.6', '24H_fluctate': '-1.7', '24H_fluctate_rate': '-11.11'}, 'XVG': {'opening_price': '15', 'closing_price': '12.6', 'min_price': '10.3', 'max_price': '15', 'average_price': '13.0316', 'units_traded': '2621068.4213907', 'volume_1day': '2621068.4213907', 'volume_7day': '21246492.60472314', 'buy_price': '12.6', 'sell_price': '13.2', '24H_fluctate': '-2.4', '24H_fluctate_rate': '-16.00'}, 'IOST': {'opening_price': '12', 'closing_price': '10.3', 'min_price': '9.97', 'max_price': '12.1', 'average_price': '10.9065', 'units_traded': '7909774.39528132', 'volume_1day': '7909774.39528132', 'volume_7day': '44639312.293316092029250786', 'buy_price': '10.2', 'sell_price': '10.4', '24H_fluctate': '-1.7', '24H_fluctate_rate': '-14.16'}, 'POLY': {'opening_price': '70', 'closing_price': '62.4', 'min_price': '60.5', 'max_price': '75.7', 'average_price': '68.5709', 'units_traded': '12398718.65498314', 'volume_1day': '12398718.65498314', 'volume_7day': '50656020.529197868629101091', 'buy_price': '62.3', 'sell_price': '62.4', '24H_fluctate': '-7.6', '24H_fluctate_rate': '-10.85'}, 'HC': {'opening_price': '4050', 'closing_price': '3571', 'min_price': '3342', 'max_price': '4097', 'average_price': '3699.2576', 'units_traded': '309398.88237999', 'volume_1day': '309398.88237999', 'volume_7day': '4554972.4506512', 'buy_price': '3528', 'sell_price': '3556', '24H_fluctate': '-479', '24H_fluctate_rate': '-11.82'}, 'ROM': {'opening_price': '0.05', 'closing_price': '0.05', 'min_price': '0.04', 'max_price': '0.05', 'average_price': '0.0447', 'units_traded': '2246158286.31556', 'volume_1day': '2246158286.31556', 'volume_7day': '20645559636.0931', 'buy_price': '0.04', 'sell_price': '0.05', '24H_fluctate': '0', '24H_fluctate_rate': '0.00'}, 'AMO': {'opening_price': '0.65', 'closing_price': '0.57', 'min_price': '0.53', 'max_price': '0.65', 'average_price': '0.5945', 'units_traded': '309126669.81243146', 'volume_1day': '309126669.81243146', 'volume_7day': '2879995198.298311875408216163', 'buy_price': '0.56', 'sell_price': '0.57', '24H_fluctate': '-0.08', '24H_fluctate_rate': '-12.30'}, 'ETZ': {'opening_price': '297', 'closing_price': '259', 'min_price': '247', 'max_price': '307', 'average_price': '280.9895', 'units_traded': '1736369.85250038', 'volume_1day': '1736369.85250038', 'volume_7day': '18239631.454389474937431989', 'buy_price': '256', 'sell_price': '259', '24H_fluctate': '-38', '24H_fluctate_rate': '-12.79'}, 'ARN': {'opening_price': '534', 'closing_price': '466', 'min_price': '446', 'max_price': '542', 'average_price': '498.7591', 'units_traded': '403306.60765328', 'volume_1day': '403306.60765328', 'volume_7day': '2003808.33023411', 'buy_price': '466', 'sell_price': '467', '24H_fluctate': '-68', '24H_fluctate_rate': '-12.73'}, 'APIS': {'opening_price': '1.71', 'closing_price': '1.52', 'min_price': '1.48', 'max_price': '1.76', 'average_price': '1.6044', 'units_traded': '54498701.52679623', 'volume_1day': '54498701.52679623', 'volume_7day': '320688576.709042459554924308', 'buy_price': '1.5', 'sell_price': '1.52', '24H_fluctate': '-0.19', '24H_fluctate_rate': '-11.11'}, 'MTL': {'opening_price': '2113', 'closing_price': '1760', 'min_price': '1701', 'max_price': '2113', 'average_price': '1907.47', 'units_traded': '76459.84744569', 'volume_1day': '76459.84744569', 'volume_7day': '632302.21773578', 'buy_price': '1730', 'sell_price': '1762', '24H_fluctate': '-353', '24H_fluctate_rate': '-16.70'}, 'DACC': {'opening_price': '0.17', 'closing_price': '0.15', 'min_price': '0.15', 'max_price': '0.17', 'average_price': '0.157', 'units_traded': '685789600.64205296', 'volume_1day': '685789600.64205296', 'volume_7day': '3330627434.82276374', 'buy_price': '0.14', 'sell_price': '0.15', '24H_fluctate': '-0.02', '24H_fluctate_rate': '-11.76'}, 'DAC': {'opening_price': '5.69', 'closing_price': '5.35', 'min_price': '5.21', 'max_price': '5.89', 'average_price': '5.5023', 'units_traded': '43951239.6908987', 'volume_1day': '43951239.6908987', 'volume_7day': '524501744.175423554379350073', 'buy_price': '5.3', 'sell_price': '5.35', '24H_fluctate': '-0.34', '24H_fluctate_rate': '-5.97'}, 'BHP': {'opening_price': '1739', 'closing_price': '1730', 'min_price': '1658', 'max_price': '1897', 'average_price': '1762.598', 'units_traded': '390257.21048561', 'volume_1day': '390257.21048561', 'volume_7day': '1547732.54525035', 'buy_price': '1730', 'sell_price': '1748', '24H_fluctate': '-9', '24H_fluctate_rate': '-0.51'}, 'BTT': {'opening_price': '1.37', 'closing_price': '1.15', 'min_price': '1.09', 'max_price': '1.39', 'average_price': '1.2489', 'units_traded': '316600647.88991167', 'volume_1day': '316600647.88991167', 'volume_7day': '1712389389.15005329', 'buy_price': '1.15', 'sell_price': '1.16', '24H_fluctate': '-0.22', '24H_fluctate_rate': '-16.05'}, 'HDAC': {'opening_price': '30.7', 'closing_price': '27.8', 'min_price': '25', 'max_price': '31.5', 'average_price': '28.499', 'units_traded': '7098464.23936176', 'volume_1day': '7098464.23936176', 'volume_7day': '37660352.10507608', 'buy_price': '27.6', 'sell_price': '27.8', '24H_fluctate': '-2.9', '24H_fluctate_rate': '-9.44'}, 'NPXS': {'opening_price': '0.76', 'closing_price': '0.68', 'min_price': '0.64', 'max_price': '0.79', 'average_price': '0.7216', 'units_traded': '636339889.44291104', 'volume_1day': '636339889.44291104', 'volume_7day': '3356575216.998999145710591575', 'buy_price': '0.67', 'sell_price': '0.68', '24H_fluctate': '-0.08', '24H_fluctate_rate': '-10.52'}, 'AUTO': {'opening_price': '1.68', 'closing_price': '1.45', 'min_price': '1.42', 'max_price': '1.7', 'average_price': '1.5447', 'units_traded': '43170366.49342828', 'volume_1day': '43170366.49342828', 'volume_7day': '327175614.603502279130866446', 'buy_price': '1.45', 'sell_price': '1.47', '24H_fluctate': '-0.23', '24H_fluctate_rate': '-13.69'}, 'GXC': {'opening_price': '1943', 'closing_price': '1778', 'min_price': '1676', 'max_price': '1949', 'average_price': '1849.7796', 'units_traded': '170321.26899744', 'volume_1day': '170321.26899744', 'volume_7day': '1659775.57902644', 'buy_price': '1767', 'sell_price': '1778', '24H_fluctate': '-165', '24H_fluctate_rate': '-8.49'}, 'ORBS': {'opening_price': '29', 'closing_price': '25.5', 'min_price': '24.1', 'max_price': '29.5', 'average_price': '27.1365', 'units_traded': '24375522.09718312', 'volume_1day': '24375522.09718312', 'volume_7day': '134275717.140403525730462877', 'buy_price': '25.2', 'sell_price': '25.5', '24H_fluctate': '-3.5', '24H_fluctate_rate': '-12.06'}, 'VALOR': {'opening_price': '2585', 'closing_price': '2227', 'min_price': '2127', 'max_price': '2585', 'average_price': '2347.1245', 'units_traded': '113795.0593472', 'volume_1day': '113795.0593472', 'volume_7day': '933377.651895024655804908', 'buy_price': '2202', 'sell_price': '2227', '24H_fluctate': '-358', '24H_fluctate_rate': '-13.84'}, 'CON': {'opening_price': '13.8', 'closing_price': '11.9', 'min_price': '11.7', 'max_price': '14.4', 'average_price': '12.8668', 'units_traded': '74202113.30540148', 'volume_1day': '74202113.30540148', 'volume_7day': '1101594060.595542802314574882', 'buy_price': '11.9', 'sell_price': '12', '24H_fluctate': '-1.9', '24H_fluctate_rate': '-13.76'}, 'ANKR': {'opening_price': '10.8', 'closing_price': '10', 'min_price': '9.82', 'max_price': '11.7', 'average_price': '10.7613', 'units_traded': '65463443.37239481', 'volume_1day': '65463443.37239481', 'volume_7day': '733012762.189335535647627521', 'buy_price': '10', 'sell_price': '10.2', '24H_fluctate': '-0.8', '24H_fluctate_rate': '-7.40'}, 'MIX': {'opening_price': '66.5', 'closing_price': '59.9', 'min_price': '55', 'max_price': '68.1', 'average_price': '61.0746', 'units_traded': '2698889.09323548', 'volume_1day': '2698889.09323548', 'volume_7day': '30105810.485325064358221868', 'buy_price': '58.3', 'sell_price': '59.9', '24H_fluctate': '-6.6', '24H_fluctate_rate': '-9.92'}, 'HYC': {'opening_price': '9.89', 'closing_price': '8.54', 'min_price': '8.25', 'max_price': '10.1', 'average_price': '9.255', 'units_traded': '65136092.8510225', 'volume_1day': '65136092.8510225', 'volume_7day': '1309360036.015650752', 'buy_price': '8.5', 'sell_price': '8.63', '24H_fluctate': '-1.35', '24H_fluctate_rate': '-13.65'}, 'LBA': {'opening_price': '30.2', 'closing_price': '25.3', 'min_price': '24.1', 'max_price': '30.7', 'average_price': '27.0758', 'units_traded': '15851645.71871269', 'volume_1day': '15851645.71871269', 'volume_7day': '81777077.197605433267226509', 'buy_price': '25', 'sell_price': '25.3', '24H_fluctate': '-4.9', '24H_fluctate_rate': '-16.22'}, 'date': '1563341542825'}\n"
     ]
    }
   ],
   "source": [
    "# 풀이!!! : \n",
    "import requests\n",
    "url = \"https://api.bithumb.com/public/ticker/all\"\n",
    "data = requests.get(url).json()['data']\n",
    "print(data)\n",
    "# 하락분을 확실히 보고 싶다면? "
   ]
  },
  {
   "cell_type": "code",
   "execution_count": 35,
   "metadata": {},
   "outputs": [
    {
     "data": {
      "text/plain": [
       "'1~10까지의 값을 넣어주세요.'"
      ]
     },
     "execution_count": 35,
     "metadata": {},
     "output_type": "execute_result"
    }
   ],
   "source": [
    "def my_url(itemPerPage=10, **agrs):\n",
    "    if 'key' not in agrs or 'targetDt' not in agrs:\n",
    "        return '필수 요청변수가 누락되었습니다.'\n",
    "    if int(itemPerPage) not in range(1, 11):\n",
    "        return '1~10까지의 값을 넣어주세요.'\n",
    "    base_url = 'http://www.kobis.or.kr/kobisopenapi/webservice/rest/boxoffice/searchDailyBoxOfficeList.json?'\n",
    "    base_url += f'itemPerPage={itemPerPage}'\n",
    "    for key, value in agrs.items():\n",
    "        base_url += f'{key}={value}&'\n",
    "    return base_url\n",
    "\n",
    "api = {\n",
    "    'key': '430156241533f1d058c603178cc3ca0e',\n",
    "    'targetDt': '20190620'\n",
    "}\n",
    "\n",
    "my_url(11, **api)"
   ]
  },
  {
   "cell_type": "code",
   "execution_count": 39,
   "metadata": {},
   "outputs": [
    {
     "ename": "IndentationError",
     "evalue": "expected an indented block (<ipython-input-39-587f10708cbe>, line 11)",
     "output_type": "error",
     "traceback": [
      "\u001b[1;36m  File \u001b[1;32m\"<ipython-input-39-587f10708cbe>\"\u001b[1;36m, line \u001b[1;32m11\u001b[0m\n\u001b[1;33m    gazua(12803000, 11341000, 11000000, 13000000)\u001b[0m\n\u001b[1;37m                                                 ^\u001b[0m\n\u001b[1;31mIndentationError\u001b[0m\u001b[1;31m:\u001b[0m expected an indented block\n"
     ]
    }
   ],
   "source": [
    "# # 상승장 확인(개별 코인)\n",
    "# def gazua (op, cp, minp, maxp):\n",
    "#     diffp = maxp - minp\n",
    "#     for i in data.keys():\n",
    "\n",
    "#     # 상승장이면\n",
    "#     # return '상승장'\n",
    "#     # 하락장이면\n",
    "#     # return '하락장'\n",
    "    \n",
    "# gazua(12803000, 11341000, 11000000, 13000000)\n",
    "\n",
    "# 시장 전체 데이터\n",
    "def check_hazua(data):\n",
    "\n",
    "    for i in data.keys():\n",
    "        value = data[i]\n",
    "        if type(value) == type(dict()) :\n",
    "            openp = float(data[i]['opening_price']) \n",
    "            minp = float(data[i]['min_price'])\n",
    "            maxp = float(data[i]['max_price'])\n",
    "            diffp = maxp - minp\n",
    "            if openp + diffp > openp:\n",
    "                print()\n",
    "        else:\n",
    "            pass\n",
    "        \n",
    "check_hazua(data)\n",
    "    # 모든 토큰 이름 : 상승장 or 하락장\n",
    "    # gazua()\n",
    "    # result = {'BTC': '하락장', 'ETH' : 하락장, ''}"
   ]
  },
  {
   "cell_type": "code",
   "execution_count": null,
   "metadata": {},
   "outputs": [],
   "source": []
  },
  {
   "cell_type": "code",
   "execution_count": null,
   "metadata": {},
   "outputs": [],
   "source": []
  },
  {
   "cell_type": "code",
   "execution_count": 8,
   "metadata": {},
   "outputs": [
    {
     "data": {
      "text/plain": [
       "83.25"
      ]
     },
     "execution_count": 8,
     "metadata": {},
     "output_type": "execute_result"
    }
   ],
   "source": [
    "student = {'python':80, 'algorithm':78, 'django':95, 'flask':80}\n",
    "res = 0\n",
    "for i in student.values():\n",
    "    res = res + i\n",
    "avgScore = res / len(student.values())\n",
    "avgScore"
   ]
  },
  {
   "cell_type": "code",
   "execution_count": null,
   "metadata": {},
   "outputs": [],
   "source": []
  },
  {
   "cell_type": "code",
   "execution_count": null,
   "metadata": {},
   "outputs": [],
   "source": [
    "blood = ['A','A','B','O','A','B','A','AB','AB','O','A','O','AB','O']"
   ]
  },
  {
   "cell_type": "code",
   "execution_count": null,
   "metadata": {},
   "outputs": [],
   "source": []
  },
  {
   "cell_type": "code",
   "execution_count": 15,
   "metadata": {},
   "outputs": [
    {
     "name": "stdout",
     "output_type": "stream",
     "text": [
      "영화 7번방의선물는  80UBD를 넘지 못합니다.\n",
      "74.3920632708522\n",
      "영화 괴물는  80UBD를 넘지 못합니다.\n",
      "75.60297772512949\n",
      "영화 도둑들는  80UBD를 넘지 못합니다.\n",
      "75.39155227278006\n",
      "영화 베테랑는  80UBD를 넘지 못합니다.\n",
      "77.89241748542494\n",
      "영화 아바타는  80UBD를 넘지 못합니다.\n",
      "79.11369707105196\n"
     ]
    }
   ],
   "source": [
    "movies = {\n",
    "    \"7번방의선물\":12811206,\n",
    "    \"괴물\":13019740,\n",
    "    \"국제시장\":14257115,\n",
    "    \"극한직업\":16261018,\n",
    "    \"도둑들\":12983330,\n",
    "    \"명량\":17613682,\n",
    "    \"베테랑\":13414009,\n",
    "    \"신과함께-죄와벌\":14410754,\n",
    "    \"아바타\":13624328,\n",
    "    \"어벤져스:엔드게임\":13901423,\n",
    "}\n",
    "\n",
    "UBD1 = 172212\n",
    "for k,v in movies.items():\n",
    "    if v/UBD1 < 80 :\n",
    "        print(f'영화 {k}는  80UBD를 넘지 못합니다.')\n",
    "        print(v/UBD1)"
   ]
  },
  {
   "cell_type": "code",
   "execution_count": null,
   "metadata": {},
   "outputs": [],
   "source": []
  }
 ],
 "metadata": {
  "kernelspec": {
   "display_name": "Python 3",
   "language": "python",
   "name": "python3"
  },
  "language_info": {
   "codemirror_mode": {
    "name": "ipython",
    "version": 3
   },
   "file_extension": ".py",
   "mimetype": "text/x-python",
   "name": "python",
   "nbconvert_exporter": "python",
   "pygments_lexer": "ipython3",
   "version": "3.7.3"
  }
 },
 "nbformat": 4,
 "nbformat_minor": 2
}
