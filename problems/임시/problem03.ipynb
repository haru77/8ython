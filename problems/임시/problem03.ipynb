{
 "cells": [
  {
   "cell_type": "code",
   "execution_count": 52,
   "metadata": {},
   "outputs": [],
   "source": [
    "##$$ Q> swith case문이 있나?\n",
    "\n",
    "# 여기에 코드를 작성하세요.\n",
    "def tax(won):\n",
    "    if won <= 1200: \n",
    "        taxPrice =  0.06 * won\n",
    "#     elif won > 1200 and won <= 4600: # 위에서 한 번 걸렀으니까 조건 2개 필요없음!\n",
    "    elif won <= 4600: # 위에서 한 번 걸렀으니까 조건 2개 필요없음!  ## 구간 별로 따로 적용해야 함!!\n",
    "        taxPrice = 0.15 * won\n",
    "    else:  # won > 4600\n",
    "        taxPrice = 0.35 * won\n",
    "    print( taxPrice )"
   ]
  },
  {
   "cell_type": "code",
   "execution_count": 53,
   "metadata": {},
   "outputs": [
    {
     "name": "stdout",
     "output_type": "stream",
     "text": [
      "72.0\n",
      "None\n",
      "690.0\n",
      "None\n",
      "1750.0\n",
      "None\n"
     ]
    }
   ],
   "source": [
    "print(tax(1200))\n",
    "print(tax(4600)) #  이게 왜 이렇게 나올까?\n",
    "print(tax(5000))"
   ]
  },
  {
   "cell_type": "code",
   "execution_count": null,
   "metadata": {},
   "outputs": [],
   "source": [
    "# 1:46~2:00"
   ]
  },
  {
   "cell_type": "code",
   "execution_count": 22,
   "metadata": {},
   "outputs": [],
   "source": [
    "rentalFeePerMin = 1200\n",
    "insurancepPer30Min = 525\n",
    "pricePerKm = 170\n",
    "\n",
    "\n",
    "\n",
    "\n",
    "def fee(minute, distanceKm):\n",
    "    rentalFee = 0\n",
    "    insuranceFee = 0\n",
    "    distanceFee = 0\n",
    "    # 1\n",
    "    if (minute / 10) > minute // 10: # 1X 분으로 딱 떨어지지 않는 경우 올림\n",
    "        rentalFee = rentalFeePerMin * (minute // 10 + 1) \n",
    "    else:\n",
    "        rentalFee = rentalFeePerMin * (minute // 10) # 10분으로 딱 떨어지는 경우 그대로\n",
    "    #2\n",
    "    if (minute / 30) > minute // 30: # 1X 분으로 딱 떨어지지 않는 경우 올림\n",
    "        insuranceFee = insurancepPer30Min * (minute // 30 + 1) \n",
    "    else:\n",
    "        insuranceFee = insurancepPer30Min * (minute // 10) # 10분으로 딱 떨어지는 경우 그대로\n",
    "    \n",
    "    \n",
    "    # 3\n",
    "    if distanceKm >= 100 :\n",
    "        distanceFee = pricePerKm * ( 100 + (100-distanceKm) * (1 - 0.5) )\n",
    "        \n",
    "    return int ( rentalFee + insuranceFee +  distanceFee )"
   ]
  },
  {
   "cell_type": "code",
   "execution_count": 23,
   "metadata": {},
   "outputs": [
    {
     "name": "stdout",
     "output_type": "stream",
     "text": [
      "103500\n",
      "119650\n"
     ]
    }
   ],
   "source": [
    "print(fee(600, 50))\n",
    "print(fee(600, 110))"
   ]
  },
  {
   "cell_type": "code",
   "execution_count": null,
   "metadata": {},
   "outputs": [],
   "source": [
    "# 2:00~2:06"
   ]
  },
  {
   "cell_type": "code",
   "execution_count": 37,
   "metadata": {},
   "outputs": [],
   "source": [
    "# 문자열 탐색\n",
    "# 2:00 ~                \n",
    "# 여기에 코드를 작성하세요.\n",
    "def start_end(words):\n",
    "    cnt = 0\n",
    "    for i in words:\n",
    "#         print(i)\n",
    "\n",
    "        # 문자열의 길이가 일단 2 이상인지\n",
    "        if ( len(i) < 2 ):\n",
    "            pass\n",
    "        else:\n",
    "            if i[0] == i[-1]: # words[len(i)-1] 로 써도 됨.\n",
    "                cnt += 1\n",
    "    return cnt   "
   ]
  },
  {
   "cell_type": "code",
   "execution_count": 38,
   "metadata": {},
   "outputs": [
    {
     "name": "stdout",
     "output_type": "stream",
     "text": [
      "3\n"
     ]
    }
   ],
   "source": [
    "# 해당 코드를 통해 3이 나오는지 확인하세요.\n",
    "print(start_end(['level', 'asdwe', 's', 'abceda', 'gsdwrtfg']))"
   ]
  },
  {
   "cell_type": "code",
   "execution_count": null,
   "metadata": {},
   "outputs": [],
   "source": []
  },
  {
   "cell_type": "code",
   "execution_count": null,
   "metadata": {},
   "outputs": [],
   "source": [
    "# 2:06~ 09\n",
    "# 이상한 덧셈"
   ]
  },
  {
   "cell_type": "code",
   "execution_count": 41,
   "metadata": {},
   "outputs": [],
   "source": [
    "# 여기에 코드를 작성하세요.\n",
    "def positive_sum(*numbers):\n",
    "    sumValue = 0\n",
    "    for i in numbers:\n",
    "#         sumValue += abs(i)\n",
    "        if i >= 0:\n",
    "            sumValue += i\n",
    "    return sumValue"
   ]
  },
  {
   "cell_type": "code",
   "execution_count": 56,
   "metadata": {},
   "outputs": [],
   "source": [
    "def positive_sum(*numbers):\n",
    "    return [num for num in numbers if num > 0]"
   ]
  },
  {
   "cell_type": "code",
   "execution_count": 57,
   "metadata": {},
   "outputs": [
    {
     "name": "stdout",
     "output_type": "stream",
     "text": [
      "[1, 7, 12]\n",
      "[]\n"
     ]
    }
   ],
   "source": [
    "# 해당 코드를 통해 20과 0이 나오는지 확인하세요.\n",
    "print(positive_sum(1,-4,7,12))\n",
    "print(positive_sum(-1, -2, -3, -4))"
   ]
  },
  {
   "cell_type": "code",
   "execution_count": null,
   "metadata": {},
   "outputs": [],
   "source": []
  },
  {
   "cell_type": "code",
   "execution_count": null,
   "metadata": {},
   "outputs": [],
   "source": [
    "# 2:06~ 09\n",
    "# Collatz 추측"
   ]
  },
  {
   "cell_type": "code",
   "execution_count": 48,
   "metadata": {},
   "outputs": [],
   "source": [
    "# 여기에 코드를 작성하세요.\n",
    "def collatz(num):\n",
    "    cnt = 0\n",
    "    while (num != 1):\n",
    "        if num % 2 == 0:\n",
    "            num /= 2\n",
    "\n",
    "        else: # 홀수라면 3을 곱하고 1을 더한다\n",
    "            num = num * 3 + 1\n",
    "        cnt += 1\n",
    "        \n",
    "        if cnt >= 500:\n",
    "            return -1\n",
    "        \n",
    "    return cnt"
   ]
  },
  {
   "cell_type": "code",
   "execution_count": 65,
   "metadata": {},
   "outputs": [],
   "source": [
    "# +풀이\n",
    "def collatz2(num):\n",
    "    for i in range(500):\n",
    "        if num == 1:\n",
    "            return 1\n",
    "        num = num / 2 if num % 2 == 0 else num * 3 + 1\n",
    "    return -1"
   ]
  },
  {
   "cell_type": "code",
   "execution_count": 49,
   "metadata": {},
   "outputs": [
    {
     "name": "stdout",
     "output_type": "stream",
     "text": [
      "8\n",
      "4\n",
      "111\n",
      "-1\n"
     ]
    }
   ],
   "source": [
    "# 해당 코드를 통해 8, 4, 111, -1 이 나오는지 확인하세요.\n",
    "print(collatz(6))\n",
    "print(collatz(16))\n",
    "print(collatz(27))\n",
    "print(collatz(626331))"
   ]
  },
  {
   "cell_type": "code",
   "execution_count": null,
   "metadata": {},
   "outputs": [],
   "source": []
  },
  {
   "cell_type": "code",
   "execution_count": null,
   "metadata": {},
   "outputs": [],
   "source": [
    "# 아래에 코드를 작성해주세요.\n",
    "def fake_dict(**kwargs):\n",
    "    result = []\n",
    "    for key, value in kwargs.items():\n",
    "        result.append(f'{key}: {value}')\n",
    "    print(', '.join(result))\n",
    "        \n",
    "fake_dict(한국어='안녕', 영어='hi', 독일어='Guten Tag')"
   ]
  },
  {
   "cell_type": "code",
   "execution_count": null,
   "metadata": {},
   "outputs": [],
   "source": [
    "# 2:13~"
   ]
  },
  {
   "cell_type": "code",
   "execution_count": 84,
   "metadata": {},
   "outputs": [],
   "source": [
    "\n",
    "# 여기에 코드를 작성하세요.\n",
    "def lonely(numbers):\n",
    "    # unique  함수 사용\n",
    "    # 전체 정렬\n",
    "    num_pre=0\n",
    "    num_cnt=0\n",
    "    listBuffer = []\n",
    "    for i, num in enumerate(numbers):\n",
    "        if i == 0:\n",
    "            v_pre = num\n",
    "            listBuffer.append(num)\n",
    "            num_cnt = 1\n",
    "\n",
    "        elif (num == v_pre) :\n",
    "            num_cnt += 1\n",
    "#             del(numbers[i])\n",
    "#             i = i-1\n",
    "            print(num_cnt)\n",
    "        else:\n",
    "            num_cnt = 1\n",
    "            listBuffer.append(num)\n",
    "\n",
    "    #현재의 num 을 버퍼에 넣고 끝\n",
    "        v_pre = num\n",
    "\n",
    "        \n",
    "    return listBuffer\n",
    "    \n"
   ]
  },
  {
   "cell_type": "code",
   "execution_count": 88,
   "metadata": {},
   "outputs": [],
   "source": [
    "def lonely1(numbers):\n",
    "    tmp = [numbers[0]]\n",
    "    for i in numbers[1:]:\n",
    "        if i != tmp[-1]:\n",
    "            tmp.append(i)\n",
    "    return tmp"
   ]
  },
  {
   "cell_type": "code",
   "execution_count": 86,
   "metadata": {},
   "outputs": [],
   "source": [
    "\n",
    "# 여기에 코드를 작성하세요.\n",
    "def lonely(numbers):\n",
    "    # unique  함수 사용\n",
    "    # 전체 정렬\n",
    "\n",
    "    listBuffer = []\n",
    "    for i, num in enumerate(numbers):\n",
    "        if i == 0:\n",
    "            v_pre = num\n",
    "            listBuffer.append(num)  \n",
    "        elif (num == v_pre) :\n",
    "            pass\n",
    "        else:\n",
    "            num_cnt = 1\n",
    "            listBuffer.append(num)\n",
    "\n",
    "    #현재의 num 을 버퍼에 넣고 끝\n",
    "        v_pre = num\n",
    "\n",
    "        \n",
    "    return listBuffer\n",
    "    \n"
   ]
  },
  {
   "cell_type": "code",
   "execution_count": 63,
   "metadata": {},
   "outputs": [],
   "source": [
    "# 여기에 코드를 작성하세요. : unique, sort 기능 구현해보기!\n",
    "def lonely2(numbers):  \n",
    "#1. 방식 1 : 라이브러리 활용\n",
    "    # unique  함수 사용 \n",
    "    # 전체 정렬\n",
    "\n",
    "#2. 방식 2 : 직접 다 짜기\n",
    "    # dictionary 사용\n",
    "    dictLonely = {}\n",
    "    for i in numbers:\n",
    "        \n",
    "        if str(i) in dictLonely.keys():\n",
    "            dictLonely[ str(i) ] += 1\n",
    "        else : \n",
    "            dictLonely[str(i)] = 1\n",
    "    res = list( dictLonely.keys() ) # dict에서는 알아서 정리해준다?\n",
    "    \n",
    "\n",
    "    # 내부요소를 convert  str 2 int\n",
    "    listBuffer = []\n",
    "    for i in res:\n",
    "        listBuffer.append(int(i))\n",
    "    \n",
    "    for i,v1 in enumerate (listBuffer):\n",
    "        for j,v2 in enumerate (listBuffer):\n",
    "            if v1 < v2 :\n",
    "                tmp = listBuffer[i]\n",
    "                listBuffer[i] = listBuffer[j]\n",
    "                listBuffer[j] = tmp\n",
    "    return (listBuffer)\n",
    "\n",
    "    # 다른 방식 정렬\n",
    "#     maxValue = 0\n",
    "#     for i in res : \n",
    "#         if int(i) > maxValue:\n",
    "#             maxValue = int(i)\n",
    "#         else :\n",
    "#             pass"
   ]
  },
  {
   "cell_type": "code",
   "execution_count": 87,
   "metadata": {},
   "outputs": [
    {
     "name": "stdout",
     "output_type": "stream",
     "text": [
      "[1, 3, 0, 1]\n",
      "[4, 3]\n"
     ]
    }
   ],
   "source": [
    "# 해당 코드를 통해 [1, 3, 0, 1]과 [4, 3]이 나오는지 확인하세요.\n",
    "print(lonely([1, 1, 3, 3, 0, 1, 1]))\n",
    "print(lonely([4,4,4,3,3]))"
   ]
  },
  {
   "cell_type": "code",
   "execution_count": null,
   "metadata": {},
   "outputs": [],
   "source": [
    "# 옆에 있는 분 최대한 많이 알려주고\n",
    "# 다른 사람 풀이 최대한 많이 보기"
   ]
  }
 ],
 "metadata": {
  "kernelspec": {
   "display_name": "Python 3",
   "language": "python",
   "name": "python3"
  },
  "language_info": {
   "codemirror_mode": {
    "name": "ipython",
    "version": 3
   },
   "file_extension": ".py",
   "mimetype": "text/x-python",
   "name": "python",
   "nbconvert_exporter": "python",
   "pygments_lexer": "ipython3",
   "version": "3.7.3"
  }
 },
 "nbformat": 4,
 "nbformat_minor": 2
}
