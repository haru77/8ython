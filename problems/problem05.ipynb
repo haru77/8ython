{
 "cells": [
  {
   "cell_type": "markdown",
   "metadata": {},
   "source": [
    "# 2진수\n",
    "\n",
    "> 사용자의 입력을 받아 2진수 인지 확인해주는 코드를 작성하라.\n",
    ">\n",
    "> 만약 숫자가 아닌 입력값이 들어오면 \"숫자가 아닙니다\"를 출력하라."
   ]
  },
  {
   "cell_type": "code",
   "execution_count": 2,
   "metadata": {
    "scrolled": true
   },
   "outputs": [
    {
     "name": "stdout",
     "output_type": "stream",
     "text": [
      "\n",
      "2진수입니다.\n"
     ]
    }
   ],
   "source": [
    "# 여기에 코드를 작성하시오.\n",
    "num = input()\n",
    "for i in range(len(num)):\n",
    "#     if str(num) # 에러가 나면  \n",
    "    if not( num[i] == '0' or  num[i] == '1' ):\n",
    "        if int(num[i]) >= 0 and int(num[i]) <= 9 :\n",
    "            print('2진수가 아닙니다.')\n",
    "            break\n",
    "        print('숫자가 아닙니다.')\n",
    "        break\n",
    "else: print('2진수입니다.')"
   ]
  },
  {
   "cell_type": "code",
   "execution_count": 30,
   "metadata": {},
   "outputs": [
    {
     "ename": "SyntaxError",
     "evalue": "can't assign to function call (<ipython-input-30-672c1d44a33f>, line 5)",
     "output_type": "error",
     "traceback": [
      "\u001b[1;36m  File \u001b[1;32m\"<ipython-input-30-672c1d44a33f>\"\u001b[1;36m, line \u001b[1;32m5\u001b[0m\n\u001b[1;33m    for int(num) in binary:\u001b[0m\n\u001b[1;37m       ^\u001b[0m\n\u001b[1;31mSyntaxError\u001b[0m\u001b[1;31m:\u001b[0m can't assign to function call\n"
     ]
    }
   ],
   "source": [
    "num = input()\n",
    "binary = ['0', '1']\n",
    "binary ='01'\n",
    "          \n",
    "for int(num) in binary:\n",
    "    print('2진수입니다')"
   ]
  },
  {
   "cell_type": "code",
   "execution_count": 16,
   "metadata": {},
   "outputs": [
    {
     "name": "stdout",
     "output_type": "stream",
     "text": [
      "12\n",
      "<class 'str'>\n"
     ]
    }
   ],
   "source": [
    "# 풀이\n",
    "num = input()\n",
    "# print(type(num))\n",
    "\n",
    "print() # set으로 묶어주면 0 또는 1 뿐일 것"
   ]
  },
  {
   "cell_type": "code",
   "execution_count": 3,
   "metadata": {},
   "outputs": [
    {
     "name": "stdout",
     "output_type": "stream",
     "text": [
      "11212\n"
     ]
    },
    {
     "ename": "AttributeError",
     "evalue": "'str' object has no attribute 'issubset'",
     "output_type": "error",
     "traceback": [
      "\u001b[1;31m---------------------------------------------------------------------------\u001b[0m",
      "\u001b[1;31mAttributeError\u001b[0m                            Traceback (most recent call last)",
      "\u001b[1;32m<ipython-input-3-3365f9b82699>\u001b[0m in \u001b[0;36m<module>\u001b[1;34m\u001b[0m\n\u001b[0;32m      3\u001b[0m \u001b[1;33m\u001b[0m\u001b[0m\n\u001b[0;32m      4\u001b[0m \u001b[0mt\u001b[0m \u001b[1;33m=\u001b[0m \u001b[1;33m{\u001b[0m\u001b[1;36m1\u001b[0m\u001b[1;33m,\u001b[0m\u001b[1;36m2\u001b[0m\u001b[1;33m}\u001b[0m\u001b[1;33m\u001b[0m\u001b[1;33m\u001b[0m\u001b[0m\n\u001b[1;32m----> 5\u001b[1;33m \u001b[0mnum\u001b[0m\u001b[1;33m.\u001b[0m\u001b[0missubset\u001b[0m\u001b[1;33m(\u001b[0m\u001b[0mt\u001b[0m\u001b[1;33m)\u001b[0m\u001b[1;33m\u001b[0m\u001b[1;33m\u001b[0m\u001b[0m\n\u001b[0m\u001b[0;32m      6\u001b[0m \u001b[1;33m\u001b[0m\u001b[0m\n\u001b[0;32m      7\u001b[0m \u001b[1;31m# issubset을 활용한다!\u001b[0m\u001b[1;33m\u001b[0m\u001b[1;33m\u001b[0m\u001b[1;33m\u001b[0m\u001b[0m\n",
      "\u001b[1;31mAttributeError\u001b[0m: 'str' object has no attribute 'issubset'"
     ]
    }
   ],
   "source": [
    "# set을 이용한 풀이\n",
    "num = input()\n",
    "\n",
    "t = {1,2}\n",
    "num.issubset(t)\n",
    "#set 사용법 확인!\n",
    "\n",
    "# issubset을 활용한다!"
   ]
  },
  {
   "cell_type": "code",
   "execution_count": 20,
   "metadata": {},
   "outputs": [
    {
     "name": "stdout",
     "output_type": "stream",
     "text": [
      "1111\n",
      "2진수다\n"
     ]
    }
   ],
   "source": [
    "num = input()\n",
    "if set(num).issubset({'0','1'}): # 앞 쪽에 있는 셋의 성분들이 뒷 쪽에 있는 얘들로만 이뤄진 애인지 아닌지\n",
    "        print(\"2진수다\")\n",
    "else:\n",
    "    print(\"2진수 아니다.\")"
   ]
  },
  {
   "cell_type": "code",
   "execution_count": 22,
   "metadata": {},
   "outputs": [
    {
     "name": "stdout",
     "output_type": "stream",
     "text": [
      "1ㄴ`\n",
      "숫자가 아닙니다\n"
     ]
    }
   ],
   "source": [
    "num = input()\n",
    "if num.isdigit():\n",
    "    if set(num) <= {'0','1'}:\n",
    "        print(\"2진수가 맞습니다\")\n",
    "    else:\n",
    "        print(\"2진수가 아닙니다\")\n",
    "else:\n",
    "    print(\"숫자가 아닙니다\")"
   ]
  },
  {
   "cell_type": "code",
   "execution_count": 24,
   "metadata": {},
   "outputs": [
    {
     "name": "stdout",
     "output_type": "stream",
     "text": [
      "123\n"
     ]
    }
   ],
   "source": [
    "num = input()"
   ]
  },
  {
   "cell_type": "code",
   "execution_count": 25,
   "metadata": {},
   "outputs": [
    {
     "name": "stdout",
     "output_type": "stream",
     "text": [
      "2진수가 아닙니다.\n"
     ]
    }
   ],
   "source": [
    "if not (set(map(int,list(str(num)))) - {1,0} ):\n",
    "    print(\"2진수입니다.\")\n",
    "else:\n",
    "    print(\"2진수가 아닙니다.\")"
   ]
  },
  {
   "cell_type": "code",
   "execution_count": null,
   "metadata": {},
   "outputs": [],
   "source": [
    "# string 반복을 이용한 풀이\n",
    "num = input()\n"
   ]
  },
  {
   "cell_type": "markdown",
   "metadata": {},
   "source": [
    "# 불쌍한 달팽이\n",
    "\n",
    ">달팽이는 낮 시간 동안에 기둥을 올라갑니다. 하지만 밤에는 잠을 자면서 어느 정도의 거리만큼미끄러집니다. (낮 시간 동안 올라간 거리보다는 적게 미끄러집니다) 달팽이가 기둥의 꼭대기에 도달하는 날까지 걸리는 시간을 계산하면 됩니다.\n",
    "\n",
    "> 함수에 들어가야 하는 3개의 인자는 다음과 같습니다.\n",
    "- 기둥의 높이(미터)\n",
    "- 낮 시간 동안 달팽이가 올라가는 거리(미터)\n",
    "- 달팽이가 야간에 잠을 자는 동안 미끄러지는 거리(미터)\n",
    "\n",
    "```python\n",
    "snail(100, 5, 2)\n",
    "# => 33\n",
    "```"
   ]
  },
  {
   "cell_type": "code",
   "execution_count": null,
   "metadata": {},
   "outputs": [],
   "source": [
    "# 여기에 코드를 작성하세요"
   ]
  },
  {
   "cell_type": "code",
   "execution_count": 12,
   "metadata": {},
   "outputs": [],
   "source": [
    "def snail(height, day, night):\n",
    "    dayCnt = 0\n",
    "    res = height\n",
    "    while(1):\n",
    "        dayCnt +=1\n",
    "        res -= day\n",
    "        if res <= 0:\n",
    "            return dayCnt\n",
    "        res += night"
   ]
  },
  {
   "cell_type": "code",
   "execution_count": 82,
   "metadata": {},
   "outputs": [],
   "source": [
    "snail = lambda height,day,night, date=1: date if height-day<=0 else snail(height-day+night,day,night,date+1)"
   ]
  },
  {
   "cell_type": "code",
   "execution_count": 83,
   "metadata": {},
   "outputs": [
    {
     "name": "stdout",
     "output_type": "stream",
     "text": [
      "33\n",
      "49\n"
     ]
    }
   ],
   "source": [
    "# 해당 코드를 통해 올바른 결과가 나오는지 확인하세요.\n",
    "print(snail(100, 5, 2))\n",
    "print(snail(100, 4, 2))"
   ]
  },
  {
   "cell_type": "code",
   "execution_count": 31,
   "metadata": {},
   "outputs": [],
   "source": [
    "import math\n",
    "\n",
    "def snail(height, day, night):\n",
    "    return math.ceil((height-night)/(day-night))"
   ]
  },
  {
   "cell_type": "code",
   "execution_count": 32,
   "metadata": {},
   "outputs": [
    {
     "data": {
      "text/plain": [
       "33"
      ]
     },
     "execution_count": 32,
     "metadata": {},
     "output_type": "execute_result"
    }
   ],
   "source": [
    "snail(100,5,2)"
   ]
  },
  {
   "cell_type": "code",
   "execution_count": 33,
   "metadata": {},
   "outputs": [
    {
     "data": {
      "text/plain": [
       "0"
      ]
     },
     "execution_count": 33,
     "metadata": {},
     "output_type": "execute_result"
    }
   ],
   "source": [
    "snail(1,5,2)"
   ]
  },
  {
   "cell_type": "markdown",
   "metadata": {},
   "source": [
    "# 무엇이 중복일까\n",
    "\n",
    "> 다음 리스트에서 중복되는 요소만 뽑아서 새로운 리스트에 옮기시오. \n",
    "\n",
    "```python\n",
    "# 입력)\n",
    "duplicated(['a', 'b', 'c', 'b', 'd', 'm', 'n', 'n', 'b'])\n",
    "\n",
    "# 출력)\n",
    "['b', 'n']\n",
    "```"
   ]
  },
  {
   "cell_type": "code",
   "execution_count": null,
   "metadata": {},
   "outputs": [],
   "source": [
    "# 여기에 코드를 작성하시오."
   ]
  },
  {
   "cell_type": "code",
   "execution_count": 8,
   "metadata": {},
   "outputs": [],
   "source": [
    "# 1\n",
    "def duplicated(words):\n",
    "    wordDict = {}\n",
    "    wordList = []\n",
    "    for word in words:\n",
    "        # dictionary로 확인하는 방법\n",
    "        if word not in wordDict.keys():\n",
    "            wordDict[word] = 1\n",
    "        else :\n",
    "            wordDict[word] += 1\n",
    "    \n",
    "    for k, v in wordDict.items():\n",
    "        if v >=2:\n",
    "            wordList.append(k)    \n",
    "    return wordList"
   ]
  },
  {
   "cell_type": "code",
   "execution_count": null,
   "metadata": {},
   "outputs": [],
   "source": [
    "def duplicated(words):\n",
    "    sWords = sorted(words)\n",
    "    print(sWords)\n",
    "    result = set()\n",
    "    for key in enumerate(sWords):\n",
    "        if key[0] == len(sWords)-1:\n",
    "            break\n",
    "        elif sWords[key[0]] == sWords[key[0]+1]:\n",
    "            print(f'added {key}')\n",
    "            result.add(key[1])\n",
    "        else:\n",
    "            continue\n",
    "    print(list(result))"
   ]
  },
  {
   "cell_type": "code",
   "execution_count": null,
   "metadata": {},
   "outputs": [],
   "source": [
    "# 풀이코드 :\n",
    "def duplicated(words):\n",
    "    duplicates = []\n",
    "    for word in words:\n",
    "        if words.count(word) > 1 and word not in duplicates:\n",
    "            duplicates.append(word)\n",
    "    return duplicates\n",
    "def duplicated2(words):\n",
    "    return list({ word for word in words if words.count(word) > 1 })\n"
   ]
  },
  {
   "cell_type": "code",
   "execution_count": 9,
   "metadata": {},
   "outputs": [
    {
     "data": {
      "text/plain": [
       "['b', 'n']"
      ]
     },
     "execution_count": 9,
     "metadata": {},
     "output_type": "execute_result"
    }
   ],
   "source": [
    "# 해당 코드를 통해 올바른 결과가 나오는지 확인하세요.\n",
    "duplicated(['a', 'b', 'c', 'b', 'd', 'm', 'n', 'n', 'b'])"
   ]
  },
  {
   "cell_type": "markdown",
   "metadata": {},
   "source": [
    "# 편-안한 단어\n",
    "\n",
    "> (QWERTY 키보드를 사용하여 타이핑을 한다고 가정할 때) '편안한 단어'는 타이핑 할 때 **손을 번갈아 칠 수 있는 단어**를 말합니다.\n",
    ">\n",
    "> 단어를 인자로 받아 그것이 '편안한 단어'인지 여부를 True/False로 반환하는 함수를 만드세요.(모든 단어는 a ~ z까지 오름차순으로 구성된 문자열입니다.)\n",
    "\n",
    "> 문자 목록\n",
    "- 왼손: q, w, e, r, t, a, s, s, d, f, g, z, x, c, v, b\n",
    "- 오른손: y, u, i, o, p, h, j, k, l, n, m"
   ]
  },
  {
   "cell_type": "code",
   "execution_count": 2,
   "metadata": {},
   "outputs": [],
   "source": [
    "# 여기에 코드를 작성하세요."
   ]
  },
  {
   "cell_type": "code",
   "execution_count": null,
   "metadata": {},
   "outputs": [],
   "source": [
    "def comfortable_word(words):\n",
    "    wordList = []\n",
    "    wordList.extend(words)\n",
    "    leftList=[q, w, e, r, t, a, s, s, d, f, g, z, x, c, v, b]\n",
    "    rightList=[y, u, i, o, p, h, j, k, l, n, m]\n",
    "\n",
    "    # 글자가 왼쪽에 없고, ,,,\n",
    "    \n",
    "#     for i, word enumerate in wordList:\n",
    "#         if wordList[i] in leftList \n",
    "#         if\n",
    "        \n",
    "# 잘못된 게 나오는 순간 리턴하는 형태가 좋을 것 같다. (함수니까)\n",
    "        \n",
    "#         if index % 2 == 0:\n",
    "#             leftList.append\n",
    "# #         caffe.extend ('ediya')\n",
    "#         else: \n",
    "#             rightList=\n",
    "        "
   ]
  },
  {
   "cell_type": "code",
   "execution_count": 34,
   "metadata": {},
   "outputs": [],
   "source": [
    "def comfortable_word(words):\n",
    "    l_keys, r_keys = 'qwertadfgzxcvb', 'yuiophjklnm'\n",
    "    \n",
    "    left = True if words[0] in l_keys else False\n",
    "    \n",
    "    for word in words[1:]:\n",
    "        if word in l_keys == left:\n",
    "            return False\n",
    "        left = not left\n",
    "    return True"
   ]
  },
  {
   "cell_type": "code",
   "execution_count": 35,
   "metadata": {},
   "outputs": [
    {
     "name": "stdout",
     "output_type": "stream",
     "text": [
      "True\n",
      "True\n"
     ]
    }
   ],
   "source": [
    "# 해당 코드를 통해 올바른 결과가 나오는지 확인하세요.\n",
    "print(comfortable_word('qywu'))\n",
    "print(comfortable_word('apple'))"
   ]
  },
  {
   "cell_type": "code",
   "execution_count": 41,
   "metadata": {},
   "outputs": [],
   "source": [
    "def comfortable_word(words):\n",
    "    left = 'qwertasdfgzxcvb'\n",
    "    \n",
    "    for i in range(len(words)-1):\n",
    "        if (words[i] in left) == (words[i+1] in left) or (words[i] not in left) == (words[i+1] not in left):\n",
    "            return False\n",
    "    else:\n",
    "        return True"
   ]
  },
  {
   "cell_type": "code",
   "execution_count": 49,
   "metadata": {},
   "outputs": [],
   "source": [
    "def comfortable_word(words):\n",
    "    left = 'qwertasdfgzxcvb'\n",
    "    \n",
    "    for i in range(len(words)-1):\n",
    "        if (words[i] in left) == (words[i+1] in left): # True == True , False == False 모두 결과값은 True\n",
    "            return False\n",
    "    else:\n",
    "        return True"
   ]
  },
  {
   "cell_type": "code",
   "execution_count": 52,
   "metadata": {},
   "outputs": [
    {
     "name": "stdout",
     "output_type": "stream",
     "text": [
      "True\n"
     ]
    }
   ],
   "source": [
    "print(comfortable_word('wuwiwo'))"
   ]
  },
  {
   "cell_type": "markdown",
   "metadata": {},
   "source": [
    "# 숫자패턴\n",
    "\n",
    ">원하는 행까지 아래의 패턴을 생성하는 함수를 작성하세요. 만약 인자가 0이나 음의 정수인 경우 빈 문자열('')로 반환하세요.\n",
    "> \n",
    "> 짝수가 인수로 전달되면 패턴은 통과된 짝수보다 작은 최대 홀수까지 계속되어야 합니다.\n",
    "\n",
    "```python\n",
    "# 예시 \n",
    "print(pattern(9)):\n",
    "\n",
    "1\n",
    "333\n",
    "55555\n",
    "7777777\n",
    "999999999\n",
    "\n",
    "print(pattern(6))\n",
    "1\n",
    "333\n",
    "55555\n",
    "```\n",
    "**유의!**\n",
    "패턴에 공백은 없습니다."
   ]
  },
  {
   "cell_type": "code",
   "execution_count": null,
   "metadata": {},
   "outputs": [],
   "source": [
    "# 여기에 코드를 작성하세요"
   ]
  },
  {
   "cell_type": "code",
   "execution_count": 67,
   "metadata": {},
   "outputs": [],
   "source": [
    "# def pattern(n):\n",
    "#     string=''\n",
    "#     for i in range( (n+1) // 2 ):string = string+ str(2*i+1)*(i+1)+'\\n'\n",
    "#     return string"
   ]
  },
  {
   "cell_type": "code",
   "execution_count": 80,
   "metadata": {},
   "outputs": [],
   "source": [
    "def pattern(n):\n",
    "    string=''\n",
    "    for i in range( (n+1) // 2 ):\n",
    "        string = string+ str(2*i+1)*(2*i+1)+'\\n'\n",
    "    return string"
   ]
  },
  {
   "cell_type": "code",
   "execution_count": 81,
   "metadata": {},
   "outputs": [
    {
     "name": "stdout",
     "output_type": "stream",
     "text": [
      "1\n",
      "333\n",
      "55555\n",
      "7777777\n",
      "999999999\n",
      "\n",
      "1\n",
      "333\n",
      "55555\n",
      "\n"
     ]
    }
   ],
   "source": [
    "# 해당 코드를 통해 올바른 결과가 나오는지 확인하세요.\n",
    "print(pattern(9))\n",
    "print(pattern(6))"
   ]
  },
  {
   "cell_type": "code",
   "execution_count": 78,
   "metadata": {},
   "outputs": [
    {
     "data": {
      "text/plain": [
       "'pattern = lambda n : \"\\n\".join([str(i)*i for i in range(n+1) if i %2])'"
      ]
     },
     "execution_count": 78,
     "metadata": {},
     "output_type": "execute_result"
    }
   ],
   "source": [
    "pattern = lambda n : \"\\n\".join([str(i)*i for i in range(n+1) if i %2])\n",
    "'''pattern = lambda n : \"\\n\".join([str(i)*i for i in range(n+1) if i %2])'''"
   ]
  },
  {
   "cell_type": "code",
   "execution_count": 79,
   "metadata": {},
   "outputs": [
    {
     "name": "stdout",
     "output_type": "stream",
     "text": [
      "1\n",
      "333\n",
      "55555\n",
      "7777777\n",
      "999999999\n",
      "1\n",
      "333\n",
      "55555\n"
     ]
    }
   ],
   "source": [
    "# 해당 코드를 통해 올바른 결과가 나오는지 확인하세요.\n",
    "print(pattern(9))\n",
    "print(pattern(6))"
   ]
  },
  {
   "cell_type": "code",
   "execution_count": null,
   "metadata": {},
   "outputs": [],
   "source": []
  }
 ],
 "metadata": {
  "kernelspec": {
   "display_name": "Python 3",
   "language": "python",
   "name": "python3"
  },
  "language_info": {
   "codemirror_mode": {
    "name": "ipython",
    "version": 3
   },
   "file_extension": ".py",
   "mimetype": "text/x-python",
   "name": "python",
   "nbconvert_exporter": "python",
   "pygments_lexer": "ipython3",
   "version": "3.7.3"
  }
 },
 "nbformat": 4,
 "nbformat_minor": 2
}
