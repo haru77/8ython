{
 "cells": [
  {
   "cell_type": "code",
   "execution_count": 1,
   "metadata": {},
   "outputs": [],
   "source": [
    "# # fibo.py\n",
    "# def fibo_recursion(n):\n",
    "#     if n < 2:\n",
    "#         return n\n",
    "#     else:\n",
    "#         return fibo_recursion(n-1) + fibo_recursion(n-2)"
   ]
  },
  {
   "cell_type": "code",
   "execution_count": 6,
   "metadata": {},
   "outputs": [
    {
     "name": "stdout",
     "output_type": "stream",
     "text": [
      "3\n",
      "5\n",
      "8\n",
      "13\n"
     ]
    }
   ],
   "source": [
    "# 1\n",
    "from fibo import fibo_recursion as recursion\n",
    "print(recursion(4))\n",
    "print(recursion(5))\n",
    "print(recursion(6))\n",
    "print(recursion(7))"
   ]
  },
  {
   "cell_type": "markdown",
   "metadata": {},
   "source": [
    "# 2 다음 에러들이 어떠한 경우에 발생하는지 간단하게 작성하시오.\n",
    "\n",
    "## 1. ZeroDivisionError : \n",
    "- 숫자를 0으로 나눌 때 발생\n",
    "\n",
    "## 2. NameError:\n",
    "exception NameError¶\n",
    "지역 또는 전역 이름을 찾을 수 없을 때 발생합니다. 이는 정규화되지 않은 이름에만 적용됩니다. 연관된 값은 찾을 수 없는 이름을 포함하는 에러 메시지입니다.\n",
    "## 3. TypeError : \n",
    "- 1 + '1' 와 같이 숫자와 char를 더하는 등 type 간 정의되지 않은 연산에 대해 수행하려고 할 때 발생\n",
    "\n",
    "## 4. IndexError : list에서 index가 out of range 일 때 발생\n",
    "exception IndexError\n",
    "시퀀스 인덱스가 범위를 벗어날 때 발생합니다. (슬라이스 인덱스는 허용된 범위 내에 들어가도록 자동으로 잘립니다; 인덱스가 정수가 아니면 TypeError 가 발생합니다.)\n",
    "\n",
    "\n",
    "## 5. KeyError:\n",
    "- Dictionary에서 정의되지 않은 key를 호출할 때 발생\n",
    "\n",
    "exception KeyError\n",
    "매핑 (딕셔너리) 키가 기존 키 집합에서 발견되지 않을 때 발생합니다.\n",
    "\n",
    "KeyError                                  Traceback (most recent call last)\n",
    "<ipython-input-18-0d13b3965f1f> in <module>\n",
    "      1 # KeyError를 확인해봅시다.\n",
    "      2 songs = {'bts':'dna', 'twice': 'TT'}\n",
    "----> 3 songs['exo']\n",
    "\n",
    "KeyError: 'exo'\n",
    "\n",
    "## 6. ModuleNotFoundError\n",
    "from으로 package부터 접근하지 않고 바로 module을 import하거나 설치되어 있지 않은 모듈을 import하려고 할 때 에러 발생\n",
    "\n",
    "## 7. ImportError\n",
    "\n",
    "exception ImportError\n",
    "import 문이 모듈을 로드하는 데 문제가 있을 때 발생합니다. 또한 from ... import 에서 임포트 하려는 이름을 찾을 수 없을 때도 발생합니다.\n",
    "\n",
    "name과 path 어트리뷰트는 생성자에 키워드 전용 인자를 사용하여 설정할 수 있습니다. 설정된 경우, 각각 임포트하려고 시도한 모듈의 이름과 예외를 유발한 파일의 경로를 나타냅니다.\n",
    "\n",
    "버전 3.3에서 변경: name과 path 어트리뷰트를 추가했습니다."
   ]
  },
  {
   "cell_type": "markdown",
   "metadata": {},
   "source": [
    "exception KeyboardInterrupt\n",
    "사용자가 인터럽트 키(일반적으로 Control-C 또는 Delete)를 누를 때 발생합니다. 실행 중에 인터럽트 검사가 정기적으로 수행됩니다. Exception을 잡는 코드에 의해 우연히 잡혀서, 인터프리터가 종료하는 것을 막지 못하도록 BaseException 를 계승합니다."
   ]
  },
  {
   "cell_type": "code",
   "execution_count": 7,
   "metadata": {},
   "outputs": [
    {
     "ename": "IndexError",
     "evalue": "list index out of range",
     "output_type": "error",
     "traceback": [
      "\u001b[1;31m---------------------------------------------------------------------------\u001b[0m",
      "\u001b[1;31mIndexError\u001b[0m                                Traceback (most recent call last)",
      "\u001b[1;32m<ipython-input-7-a932db7396ab>\u001b[0m in \u001b[0;36m<module>\u001b[1;34m\u001b[0m\n\u001b[0;32m      1\u001b[0m \u001b[0mlistBuffer\u001b[0m \u001b[1;33m=\u001b[0m \u001b[1;33m[\u001b[0m\u001b[1;36m1\u001b[0m\u001b[1;33m,\u001b[0m\u001b[1;36m2\u001b[0m\u001b[1;33m,\u001b[0m\u001b[1;36m3\u001b[0m\u001b[1;33m]\u001b[0m\u001b[1;33m\u001b[0m\u001b[1;33m\u001b[0m\u001b[0m\n\u001b[1;32m----> 2\u001b[1;33m \u001b[0mlistBuffer\u001b[0m\u001b[1;33m[\u001b[0m\u001b[1;36m3\u001b[0m\u001b[1;33m]\u001b[0m\u001b[1;33m\u001b[0m\u001b[1;33m\u001b[0m\u001b[0m\n\u001b[0m",
      "\u001b[1;31mIndexError\u001b[0m: list index out of range"
     ]
    }
   ],
   "source": [
    "listBuffer = [1,2,3]\n",
    "listBuffer[3] # IndexError: list index out of range"
   ]
  }
 ],
 "metadata": {
  "kernelspec": {
   "display_name": "Python 3",
   "language": "python",
   "name": "python3"
  },
  "language_info": {
   "codemirror_mode": {
    "name": "ipython",
    "version": 3
   },
   "file_extension": ".py",
   "mimetype": "text/x-python",
   "name": "python",
   "nbconvert_exporter": "python",
   "pygments_lexer": "ipython3",
   "version": "3.7.3"
  }
 },
 "nbformat": 4,
 "nbformat_minor": 2
}
