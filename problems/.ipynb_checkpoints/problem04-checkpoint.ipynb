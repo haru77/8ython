{
 "cells": [
  {
   "cell_type": "markdown",
   "metadata": {},
   "source": [
    "# 01. 양의 제곱근을 받아  제곱근 수"
   ]
  },
  {
   "cell_type": "code",
   "execution_count": 6,
   "metadata": {},
   "outputs": [
    {
     "name": "stdout",
     "output_type": "stream",
     "text": [
      "2.828427117317915\n",
      "2.8284271247461903\n"
     ]
    }
   ],
   "source": [
    "import math\n",
    "math.sqrt(8)\n",
    "\n",
    "def my_sqrt(n):\n",
    "    x, y = 1, n\n",
    "    result = 1\n",
    "    \n",
    "    while abs(result ** 2 - n) > 0.0000001:\n",
    "        result = ( x + y ) / 2\n",
    "        if result ** 2 < n:\n",
    "            x = result\n",
    "        else:\n",
    "            y = result\n",
    "    return result\n",
    "\n",
    "print(my_sqrt(8))\n",
    "print(math.sqrt(8))"
   ]
  },
  {
   "cell_type": "code",
   "execution_count": null,
   "metadata": {},
   "outputs": [],
   "source": []
  },
  {
   "cell_type": "markdown",
   "metadata": {},
   "source": [
    "# Iterable에 사용가능한 함수\n",
    "\n",
    "### `map`, `filter`, `zip` 이외의 함수들"
   ]
  },
  {
   "cell_type": "markdown",
   "metadata": {},
   "source": [
    "# `all()`\n",
    "\n",
    "> all은 인자로 받는 iterable(range, list)의 모든 요소가 참이거나 비어있으면 True를 반환합니다. (string, ..)\n",
    ">\n",
    "> 이와 같은 my_all(x)을 작성해보세요"
   ]
  },
  {
   "cell_type": "code",
   "execution_count": 1,
   "metadata": {
    "scrolled": true
   },
   "outputs": [
    {
     "name": "stdout",
     "output_type": "stream",
     "text": [
      "True\n",
      "False\n"
     ]
    }
   ],
   "source": [
    "# 예제 입력 및 출력\n",
    "print(all([1, 2, 5, '6']))\n",
    "print(all([[], 2, 5, '6']))  # 모든 요소가 채워져 있는 상태(참)이어야 한다.\n",
    "# set, dictionary 의 경우도 마찬가지 인가?"
   ]
  },
  {
   "cell_type": "code",
   "execution_count": 2,
   "metadata": {},
   "outputs": [
    {
     "name": "stdout",
     "output_type": "stream",
     "text": [
      "False\n"
     ]
    }
   ],
   "source": [
    "print(all([[], {}, 2, 5, '6']))"
   ]
  },
  {
   "cell_type": "code",
   "execution_count": 5,
   "metadata": {},
   "outputs": [],
   "source": [
    "# 아래에 코드를 작성해주세요.\n",
    "def my_all(x):\n",
    "    for i in x:\n",
    "        if (i == False) or (i == []) or (i == {}): # 이렇게 일일이 코딩 해줘도 되는가?\n",
    "            return False\n",
    "    return True"
   ]
  },
  {
   "cell_type": "code",
   "execution_count": null,
   "metadata": {},
   "outputs": [],
   "source": [
    "def my_all(x):\n",
    "    boolean_list = []\n",
    "    for element in x:\n",
    "        if not element in x:\n",
    "            return False\n",
    "    return True\n",
    "\n",
    "# False 값과 유사한 얘들이 있을 수 있으니까..   all 안에서만 빈 list일 경우에"
   ]
  },
  {
   "cell_type": "code",
   "execution_count": null,
   "metadata": {},
   "outputs": [],
   "source": []
  },
  {
   "cell_type": "code",
   "execution_count": 6,
   "metadata": {},
   "outputs": [
    {
     "name": "stdout",
     "output_type": "stream",
     "text": [
      "True\n",
      "False\n"
     ]
    }
   ],
   "source": [
    "# 예제 입력 및 출력\n",
    "print(my_all([1, 2, 5, '6']))\n",
    "print(my_all([[], 2, 5, '6']))"
   ]
  },
  {
   "cell_type": "markdown",
   "metadata": {},
   "source": [
    "# `any()`\n",
    "\n",
    "> any는 인자로 받는 iterable(range, list)의 요소 중 하나라도 참이면 True를 반환하고, 비어있으면 False를 반환합니다.\n",
    ">\n",
    "> 이와 같은 my_any(x)를 작성해보세요."
   ]
  },
  {
   "cell_type": "code",
   "execution_count": 7,
   "metadata": {},
   "outputs": [],
   "source": [
    "def my_all(x):\n",
    "    boolean_list = []\n",
    "    for element in x:\n",
    "        if not element:\n",
    "            return True\n",
    "    return False"
   ]
  },
  {
   "cell_type": "code",
   "execution_count": 8,
   "metadata": {},
   "outputs": [
    {
     "name": "stdout",
     "output_type": "stream",
     "text": [
      "True\n",
      "True\n",
      "False\n"
     ]
    }
   ],
   "source": [
    "# 예제 입력 및 출력\n",
    "print(any([1, 2, 5, '6']))\n",
    "print(any([[], 2, 5, '6']))\n",
    "print(any([0]))"
   ]
  },
  {
   "cell_type": "code",
   "execution_count": null,
   "metadata": {},
   "outputs": [],
   "source": [
    "# 아래에 코드를 작성해주세요.\n",
    "def my_any(x):\n",
    "    pass"
   ]
  },
  {
   "cell_type": "code",
   "execution_count": null,
   "metadata": {},
   "outputs": [],
   "source": [
    "# my_any 예제 입력 및 출력\n",
    "print(my_any([1, 2, 5, '6']))\n",
    "print(my_any([[], 2, 5, '6']))\n",
    "print(my_any([0]))"
   ]
  },
  {
   "cell_type": "markdown",
   "metadata": {},
   "source": [
    "# 연습문제\n",
    "\n",
    "container 활용 및 함수 관련 문제\n",
    "(**Comprehension 및 iterable 관련 함수들을 최대한 활용해보세요.**)"
   ]
  },
  {
   "cell_type": "markdown",
   "metadata": {},
   "source": [
    "### 소수 찾기\n",
    "\n",
    "> 조건, 반복문을 응용하여 numbers 리스트의 요소들이 소수인지 아닌지 판단하는 코드를 작성하라.\n",
    "\n",
    "```\n",
    "26 는 소수가 아닙니다. 2 는 26 의 인수입니다.\n",
    "39 는 소수가 아닙니다. 3 는 39 의 인수입니다.\n",
    "51 는 소수가 아닙니다. 3 는 51 의 인수입니다.\n",
    "53 는 소수입니다.\n",
    "57 는 소수가 아닙니다. 3 는 57 의 인수입니다.\n",
    "79 는 소수입니다.\n",
    "85 는 소수가 아닙니다. 5 는 85 의 인수입니다.\n",
    "```"
   ]
  },
  {
   "cell_type": "markdown",
   "metadata": {},
   "source": [
    "#### 소수의 특징!\n",
    "- 인수가 자기 자신과 1뿐이다\n",
    "\n",
    "#### RSA : 공개키 암호 시스템 중 하나로 소수의 특징을 활용하고 있다."
   ]
  },
  {
   "cell_type": "code",
   "execution_count": 9,
   "metadata": {},
   "outputs": [
    {
     "name": "stdout",
     "output_type": "stream",
     "text": [
      "26 은(는) 소수가 아닙니다. 2는 26 의 인수입니다.\n",
      "39 은(는) 소수가 아닙니다. 3는 39 의 인수입니다.\n",
      "51 은(는) 소수가 아닙니다. 3는 51 의 인수입니다.\n",
      "53 은(는) 소수입니다.\n",
      "57 은(는) 소수가 아닙니다. 3는 57 의 인수입니다.\n",
      "79 은(는) 소수입니다.\n",
      "85 은(는) 소수가 아닙니다. 5는 85 의 인수입니다.\n",
      "31 은(는) 소수입니다.\n"
     ]
    }
   ],
   "source": [
    "#### 풀이!\n",
    "numbers =  [26, 39, 51, 53, 57, 79, 85,31]\n",
    "\n",
    "for num in numbers:\n",
    "    for i in range(2,num): # 자기 숫자 바로 전까지 Ok 나눠보기\n",
    "        # 해당 숫자로 나누어 떨어지면.. : 함수화 한다면 return을 해도 된다. \n",
    "        if num % i == 0:\n",
    "            print(f'{num} 은(는) 소수가 아닙니다. {i}는 {num} 의 인수입니다.')\n",
    "            break\n",
    "    else: # for문에서도 else를 쓸 수 있다! 다 봤는데 없으면!\n",
    "            print(f'{num} 은(는) 소수입니다.')"
   ]
  },
  {
   "cell_type": "code",
   "execution_count": 5,
   "metadata": {},
   "outputs": [
    {
     "name": "stdout",
     "output_type": "stream",
     "text": [
      "26은 소수가 아닙니다. 2는 26 의 인수입니다.\n",
      "39은 소수가 아닙니다. 3는 39 의 인수입니다.\n",
      "51은 소수가 아닙니다. 3는 51 의 인수입니다.\n",
      "53은 소수입니다.\n",
      "57은 소수가 아닙니다. 3는 57 의 인수입니다.\n",
      "79은 소수입니다.\n",
      "85은 소수가 아닙니다. 5는 85 의 인수입니다.\n",
      "31은 소수입니다.\n"
     ]
    }
   ],
   "source": [
    "numbers = [26, 39, 51, 53, 57, 79, 85,31]\n",
    "# 아래에 코드를 작성하세요\n",
    "for num in numbers:\n",
    "#     if num % 2 == 1: # (1)짝수가 아니고 홀수이며.\n",
    "        for j in range(2,int(num**0.5) + 1): # (2) (그 자신의 수의 제곱근 보다 작으면서 가장 큰 정수까지 나누어 볼 때,)\n",
    "            if num % j != 0: # (3)for문이 끝나서 자신으로 나눌 때까지 나누어 떨어지면 안됨\n",
    "                if j == int(num**0.5): # 자기 자신인 경우는 소수로 판별됨\n",
    "                    print( f'{num}은 소수입니다.')\n",
    "\n",
    "            else: # 자기 자신이 아닌 수로 나누어지는 순간 소수가 아님이 판별됨!\n",
    "                print(f'{num}은 소수가 아닙니다. {j}는 {num} 의 인수입니다.')\n",
    "                break\n",
    "                # 위의 과정을 모두 통과했는데도 나누어 떨어지는 수가 없다면 소수!\n",
    "\n",
    "        \n",
    "        \n",
    "#     else:\n",
    "#     print( f'{num}은 소수가 아닙니다. 2는 {num}의 인수입니다.')\n",
    "    # 소수의 정의? 1과 자기 자신 이외에는 나누어 떨어지지 않는 수"
   ]
  },
  {
   "cell_type": "code",
   "execution_count": null,
   "metadata": {},
   "outputs": [],
   "source": [
    "numbers = [26, 39, 51, 53, 57, 79, 85,31]\n",
    "# 아래에 코드를 작성하세요\n",
    "for num in numbers:\n",
    "#     if num % 2 == 1: # (1)짝수가 아니고 홀수이며.\n",
    "        for j in range(2,int(num**0.5) + 1): # (2) (그 자신의 수의 제곱근 보다 작으면서 가장 큰 정수까지 나누어 볼 때,)\n",
    "            if num % j != 0: # (3) for문이 끝나서 자신으로 나눌 때까지 나누어 떨어지면 안됨\n",
    "                if j == int(num**0.5):  # (4) 그 자신의 수의 제곱근 보다 작으면서 가장 큰 정수까지 나누었을 때도 나누어 떨어지지 않으면 소수!\n",
    "                                        # or 자기 자신인 경우는 소수로 판별됨\n",
    "                    print( f'{num}은 소수입니다.')\n",
    "\n",
    "            else: # 자기 자신이 아닌 수로 나누어지는 순간 소수가 아님이 판별됨!\n",
    "                print(f'{num}은 소수가 아닙니다. {j}는 {num} 의 인수입니다.')\n",
    "                break\n",
    "# 위의 과정을 모두 통과했는데도 나누어 떨어지는 수가 없다면 소수!\n",
    "# 소수의 정의? 1과 자기 자신 이외에는 나누어 떨어지지 않는 수"
   ]
  },
  {
   "cell_type": "markdown",
   "metadata": {},
   "source": [
    "### 최대공약수, 최소공배수 구하기\n",
    "\n",
    "> 두 수를 입력받아 두 수의 최대공약수와 최소공배수를 반환하는 함수, gcdlcm을 완성해 보세요.\n",
    "\n",
    "> 배열의 맨 앞에 최대공약수, 그다음 최소공배수를 넣어 반환하면 됩니다.\n",
    "\n",
    "> 예를 들어 두 수 3, 12의 최대공약수는 3, 최소공배수는 12이므로 gcdlcm(3, 12)는 [3, 12]를 반환해야 합니다.\n",
    "\n",
    "예시)\n",
    "\n",
    "```python\n",
    "gcdlcm(3, 12) #=> [3, 12]\n",
    "gcdlcm(1071, 1029) #=> [21, 52479]\n",
    "```"
   ]
  },
  {
   "cell_type": "code",
   "execution_count": 40,
   "metadata": {
    "scrolled": true
   },
   "outputs": [],
   "source": [
    "# 유클리드 호제법\n",
    "def gcdlcm(a,b):\n",
    "    m, n = max(a,b), min(a,b)\n",
    "    m, n = n, m % n\n",
    "    return [m, int(a*b/m)]\n",
    "\n",
    "# def gcdlcm(a,b):\n"
   ]
  },
  {
   "cell_type": "code",
   "execution_count": 48,
   "metadata": {},
   "outputs": [
    {
     "name": "stdout",
     "output_type": "stream",
     "text": [
      "0\n",
      "0\n"
     ]
    }
   ],
   "source": [
    "def gcd(n,m): # 재귀식 장점 중 하나가 단순성(simplicity)\n",
    "    if n < m:\n",
    "        n, m = m, n\n",
    "    if m % n == 0:\n",
    "        return m\n",
    "    else:\n",
    "        return gcd(m, n % m)\n",
    "print(gcd(12,3))\n",
    "print(gcd(1071, 1029))\n",
    "##$$??"
   ]
  },
  {
   "cell_type": "code",
   "execution_count": null,
   "metadata": {},
   "outputs": [],
   "source": []
  },
  {
   "cell_type": "code",
   "execution_count": 42,
   "metadata": {},
   "outputs": [
    {
     "name": "stdout",
     "output_type": "stream",
     "text": [
      "[3, 12.0]\n"
     ]
    }
   ],
   "source": [
    "# version1.0 순수 코딩, float 출력\n",
    "# 여기에 코드를 작성하세요.\n",
    "# 최소 공배수 = (첫번째 수 * 두번쨰 수) / 두 수의 최대 공약수\n",
    "def gcdlcm(a,b):\n",
    "    lcm = 0\n",
    "    gcd = 2\n",
    "    if a>b:\n",
    "        for i in range(2,a+1):\n",
    "            if a % i == 0 and b % i == 0:\n",
    "                if i > gcd :\n",
    "                    gcd = i\n",
    "    else: # b>a\n",
    "        for i in range(2,b+1):\n",
    "            if a % i == 0 and b % i == 0:\n",
    "                if i > gcd:\n",
    "                    gcd = i\n",
    "                    \n",
    "    lcm = (a*b/gcd)\n",
    "    return ([gcd, lcm])\n",
    "\n",
    "print(gcdlcm(3,12))"
   ]
  },
  {
   "cell_type": "code",
   "execution_count": 47,
   "metadata": {},
   "outputs": [
    {
     "name": "stdout",
     "output_type": "stream",
     "text": [
      "[1, 6]\n"
     ]
    }
   ],
   "source": [
    "# version1.1 max, min 사용, int 출력\n",
    "# 여기에 코드를 작성하세요.\n",
    "# 최소 공배수 = (첫번째 수 * 두번쨰 수) / 두 수의 최대 공약수\n",
    "\n",
    "def gcdlcm(a,b):\n",
    "    lcm = 0\n",
    "    gcd = 1\n",
    "    for i in range(2,max(a,b)+1):\n",
    "        if a % i == 0 and b % i == 0:\n",
    "            if i > gcd :\n",
    "                gcd = i\n",
    "                    \n",
    "    lcm = int(a*b/gcd)\n",
    "    return ([gcd, lcm])\n",
    "\n",
    "print(gcdlcm(2,3))\n",
    "# gcd=2로 하면 2,3에서 오류 남"
   ]
  },
  {
   "cell_type": "code",
   "execution_count": 32,
   "metadata": {},
   "outputs": [
    {
     "name": "stdout",
     "output_type": "stream",
     "text": [
      "[3, 12]\n",
      "[21, 52479]\n",
      "[3, 12.0]\n",
      "[21, 52479.0]\n"
     ]
    },
    {
     "data": {
      "text/plain": [
       "'\\n[3, 12]\\n[21, 52479]\\n[3, 12.0]\\n[21, 52479.0]\\n'"
      ]
     },
     "execution_count": 32,
     "metadata": {},
     "output_type": "execute_result"
    }
   ],
   "source": [
    "print(gcdlcm(3, 12))\n",
    "print(gcdlcm(1071, 1029))\n",
    "print(gcdlcm2(3, 12))\n",
    "print(gcdlcm2(1071, 1029))\n",
    "\n",
    "\"\"\"\n",
    "[3, 12]\n",
    "[21, 52479]\n",
    "[3, 12.0]\n",
    "[21, 52479.0]\n",
    "\"\"\""
   ]
  },
  {
   "cell_type": "markdown",
   "metadata": {},
   "source": [
    "### 과일 개수 골라내기\n",
    "\n",
    "> 장바구니에 아래와 같은 과일이 들어있고 과일 판별 리스트가 있습니다. 현재 장바구니에는 과일이 몇 개이고 과일이 아닌 것은 몇 개인지 출력 하시오.\n",
    "\n",
    "출력예시) 과일은 23개이고, 11개는 과일이 아닙니다."
   ]
  },
  {
   "cell_type": "code",
   "execution_count": 51,
   "metadata": {},
   "outputs": [
    {
     "name": "stdout",
     "output_type": "stream",
     "text": [
      "과일은 23개이고, 11개는 파일이 아닙니다.\n"
     ]
    }
   ],
   "source": [
    "basket_items = {'apples': 4, 'oranges': 19, 'kites': 3, 'sandwiches': 8}\n",
    "fruits = ['apples', 'oranges', 'pears', 'peaches', 'grapes', 'bananas']\n",
    "\n",
    "# 아래에 코드를 작성하세요\n",
    "fruit_count = 0\n",
    "non_fruit_count = 0\n",
    "for key, value in basket_items.items():\n",
    "    if key in fruits:\n",
    "        fruit_count += value\n",
    "    else:\n",
    "        non_fruit_count += value\n",
    "fruit_values = sum([ value for key, value in basket_items.items() if key in fruits ])\n",
    "non_fruit_values = sum( [value for key, value in basket_items.items() if key not in fruits] )\n",
    "\n",
    "\n",
    "print(f'과일은 {fruit_count}개이고, {non_fruit_count}개는 파일이 아닙니다.')"
   ]
  },
  {
   "cell_type": "code",
   "execution_count": 52,
   "metadata": {},
   "outputs": [
    {
     "name": "stdout",
     "output_type": "stream",
     "text": [
      "과일은 23개이고, 11개는 과일이 아닙니다.\n"
     ]
    }
   ],
   "source": [
    "nf = sum([basket_items[i] for i in basket_items if i in fruits])\n",
    "print('과일은 %d개이고, %d개는 과일이 아닙니다.'%(nf, sum(basket_items.values())-nf))"
   ]
  },
  {
   "cell_type": "markdown",
   "metadata": {},
   "source": [
    "### 절대값 함수 만들기\n",
    "\n",
    "#### `abs()`\n",
    "\n",
    "> 절대값은 숫자(int, float)가 들어오면 절대값을 반환하고, 복소수(complex)가 들어오면 그 크기를 반환합니다.\n",
    "> \n",
    "> `my_abs(x)`를 만들어보세요."
   ]
  },
  {
   "cell_type": "markdown",
   "metadata": {},
   "source": [
    "**공식문서**\n",
    "<center>\n",
    "    <img src=\"https://user-images.githubusercontent.com/52446416/61273106-b6ee5c00-a7e3-11e9-8ec2-a086b0bc584f.png\", alt=\"\">\n",
    "</center>"
   ]
  },
  {
   "cell_type": "markdown",
   "metadata": {},
   "source": [
    "**복소수 크기 구하는법**\n",
    "<center>\n",
    "    <img src=\"https://user-images.githubusercontent.com/52446416/61273105-b655c580-a7e3-11e9-9859-0a9ffdecdf7d.png\", alt=\"\">\n",
    "</center>"
   ]
  },
  {
   "cell_type": "code",
   "execution_count": 53,
   "metadata": {},
   "outputs": [
    {
     "name": "stdout",
     "output_type": "stream",
     "text": [
      "5.0 0.0 5\n"
     ]
    }
   ],
   "source": [
    "# 예제 입력 및 출력\n",
    "print(abs(3+4j), abs(-0.0), abs(-5))"
   ]
  },
  {
   "cell_type": "code",
   "execution_count": 55,
   "metadata": {},
   "outputs": [
    {
     "data": {
      "text/plain": [
       "complex"
      ]
     },
     "execution_count": 55,
     "metadata": {},
     "output_type": "execute_result"
    }
   ],
   "source": [
    "type(3+4j)"
   ]
  },
  {
   "cell_type": "code",
   "execution_count": 56,
   "metadata": {
    "scrolled": true
   },
   "outputs": [
    {
     "data": {
      "text/plain": [
       "3.0"
      ]
     },
     "execution_count": 56,
     "metadata": {},
     "output_type": "execute_result"
    }
   ],
   "source": [
    "(3+4j).real"
   ]
  },
  {
   "cell_type": "code",
   "execution_count": 57,
   "metadata": {},
   "outputs": [
    {
     "data": {
      "text/plain": [
       "4.0"
      ]
     },
     "execution_count": 57,
     "metadata": {},
     "output_type": "execute_result"
    }
   ],
   "source": [
    "(3+4j).imag"
   ]
  },
  {
   "cell_type": "code",
   "execution_count": null,
   "metadata": {},
   "outputs": [],
   "source": [
    "abs(0)"
   ]
  },
  {
   "cell_type": "code",
   "execution_count": 58,
   "metadata": {},
   "outputs": [
    {
     "name": "stdout",
     "output_type": "stream",
     "text": [
      "5.0 0.0 5.0\n"
     ]
    }
   ],
   "source": [
    "# 아래에 코드를 작성해주세요.\n",
    "def my_abs(x):\n",
    "    return ((x.real)**2 + (x.imag)**2) ** 0.5\n",
    "\n",
    "# 예제 입력 및 출력\n",
    "print(my_abs(3+4j), my_abs(0.0), my_abs(-5))"
   ]
  },
  {
   "cell_type": "code",
   "execution_count": null,
   "metadata": {},
   "outputs": [],
   "source": [
    "def my_abs(x):\n",
    "if type(x)==complex:\n",
    "    cmp = str(x).split(\"+\")\n",
    "    a = int(cmp[0].lstrip(\"(\"))\n",
    "    b = int(cmp[1].rstrip(\"j)\"))\n",
    "    return (a**2+b**2)**(1/2)\n",
    "elif x == 0:\n",
    "    return 0\n",
    "elif x > x*(-1):\n",
    "    return x\n",
    "else:\n",
    "    return -x"
   ]
  },
  {
   "cell_type": "markdown",
   "metadata": {},
   "source": [
    "### 문자열 덧셈 하기\n",
    "#### 문자열 조작 및 반복/조건문 활용\n",
    "\n",
    "**문제 풀기 전에 어떻게 풀어야할지 생각부터 해봅시다!**\n",
    "\n",
    "> 사람은 덧셈을 할때 뒤에서부터 계산하고, 받아올림을 합니다.\n",
    "> \n",
    "> 문자열 2개를 받아 덧셈을 하여 숫자를 반환하는 함수 `my_sum(num1, num2)`을 만들어보세요.\n",
    "\n",
    "\n",
    "\n",
    "**절대로 `return int(num1)+int(num2)` 이렇게 풀지 맙시다!!**\n",
    "\n",
    "**재귀함수도 사용할 필요 없습니다.**"
   ]
  },
  {
   "cell_type": "code",
   "execution_count": null,
   "metadata": {},
   "outputs": [],
   "source": [
    "#아래에 코드를 작성해보세요.\n",
    "def my_sum(num1, num2):\n",
    "    pass"
   ]
  },
  {
   "cell_type": "code",
   "execution_count": null,
   "metadata": {},
   "outputs": [],
   "source": [
    "print(my_sum('3', '5'))\n",
    "print(my_sum('123', '77'))\n",
    "print(my_sum('1', '9999'))"
   ]
  },
  {
   "cell_type": "markdown",
   "metadata": {},
   "source": [
    "**비트 연산**\n",
    "\n",
    "1. AND연산(&)\n",
    "\n",
    "- 0b10101010 & 0b11000011\n",
    "\n",
    "- AND연산은 각 자릿수를 비교하여 둘다 1이면 1, 아니면 0\n",
    "\n",
    "---\n",
    "\n",
    "2. OR연산(|)\n",
    "\n",
    "0b10101010 | 0b11000011\n",
    "\n",
    "OR연산은 각 자릿수를 비교하여 둘 중 하나만 1이면 1\n",
    "\n",
    "---\n",
    "\n",
    "3. XOR연산(^)\n",
    "\n",
    "0b10101010 ^ 0b11000011\n",
    "\n",
    "XOR연산은 각 자릿수를 비교하여 다르면 1, 같으면 0\n",
    "\n",
    "---\n",
    "\n",
    "4. 쉬프트연산(<<, >>)\n",
    "\n",
    "0b10101010 << 2\n",
    "\n",
    "각 비트를 왼쪽으로 옮긴다.\n",
    "\n",
    "왼쪽 쉬프트 연산은 2를 곱하는 효과가 있다.\n",
    "\n",
    "(곱하기, 나누기 보다 쉬프트 연산이 빠르기 때문에 종종 사용됨)\n",
    "\n",
    "0b10101010 >> 2\n",
    "\n",
    "각 비트를 오른쪽으로 옮긴다. (오른쪽 부터 값이 버려짐)\n",
    "\n",
    "오른쪽 쉬프트 연산은 2로 나누는 효과가 있다."
   ]
  },
  {
   "cell_type": "code",
   "execution_count": null,
   "metadata": {},
   "outputs": [],
   "source": [
    "def addWithoutPlus(a, b):\n",
    "    pass"
   ]
  },
  {
   "cell_type": "code",
   "execution_count": null,
   "metadata": {},
   "outputs": [],
   "source": [
    "addWithoutPlus(1321, 5)"
   ]
  }
 ],
 "metadata": {
  "kernelspec": {
   "display_name": "Python 3",
   "language": "python",
   "name": "python3"
  },
  "language_info": {
   "codemirror_mode": {
    "name": "ipython",
    "version": 3
   },
   "file_extension": ".py",
   "mimetype": "text/x-python",
   "name": "python",
   "nbconvert_exporter": "python",
   "pygments_lexer": "ipython3",
   "version": "3.7.3"
  },
  "latex_envs": {
   "LaTeX_envs_menu_present": true,
   "autoclose": false,
   "autocomplete": true,
   "bibliofile": "biblio.bib",
   "cite_by": "apalike",
   "current_citInitial": 1,
   "eqLabelWithNumbers": true,
   "eqNumInitial": 1,
   "hotkeys": {
    "equation": "Ctrl-E",
    "itemize": "Ctrl-I"
   },
   "labels_anchors": false,
   "latex_user_defs": false,
   "report_style_numbering": false,
   "user_envs_cfg": false
  },
  "toc": {
   "base_numbering": 1,
   "nav_menu": {},
   "number_sections": true,
   "sideBar": true,
   "skip_h1_title": false,
   "title_cell": "Table of Contents",
   "title_sidebar": "Contents",
   "toc_cell": false,
   "toc_position": {},
   "toc_section_display": true,
   "toc_window_display": false
  }
 },
 "nbformat": 4,
 "nbformat_minor": 2
}
